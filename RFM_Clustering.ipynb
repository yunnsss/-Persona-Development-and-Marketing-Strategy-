{
  "metadata": {
    "kernelspec": {
      "display_name": "Python 3",
      "language": "python",
      "name": "python3"
    },
    "language_info": {
      "name": "python",
      "version": "3.10.14",
      "mimetype": "text/x-python",
      "codemirror_mode": {
        "name": "ipython",
        "version": 3
      },
      "pygments_lexer": "ipython3",
      "nbconvert_exporter": "python",
      "file_extension": ".py"
    },
    "colab": {
      "provenance": [],
      "include_colab_link": true
    },
    "kaggle": {
      "accelerator": "none",
      "dataSources": [
        {
          "sourceId": 9549240,
          "sourceType": "datasetVersion",
          "datasetId": 5818166
        },
        {
          "sourceId": 9549460,
          "sourceType": "datasetVersion",
          "datasetId": 5818314
        }
      ],
      "dockerImageVersionId": 30786,
      "isInternetEnabled": false,
      "language": "python",
      "sourceType": "notebook",
      "isGpuEnabled": false
    }
  },
  "nbformat_minor": 0,
  "nbformat": 4,
  "cells": [
    {
      "cell_type": "markdown",
      "metadata": {
        "id": "view-in-github",
        "colab_type": "text"
      },
      "source": [
        "<a href=\"https://colab.research.google.com/github/yunnsss/-Persona-Development-and-Marketing-Strategy-/blob/main/RFM_Clustering.ipynb\" target=\"_parent\"><img src=\"https://colab.research.google.com/assets/colab-badge.svg\" alt=\"Open In Colab\"/></a>"
      ]
    },
    {
      "cell_type": "code",
      "source": [
        "#!pip install openpyxl"
      ],
      "metadata": {
        "id": "BQxRhw-944HD"
      },
      "execution_count": null,
      "outputs": []
    },
    {
      "cell_type": "code",
      "source": [
        "import pandas as pd\n",
        "import numpy as np\n",
        "\n",
        "from datetime import datetime\n",
        "\n",
        "import seaborn as sns\n",
        "import matplotlib.font_manager as fm\n",
        "import datetime as dt\n",
        "\n",
        "import matplotlib.pyplot as plt\n",
        "from sklearn.preprocessing import LabelEncoder\n",
        "import pandas as pd\n",
        "from sklearn.cluster import DBSCAN\n",
        "from sklearn.preprocessing import StandardScaler\n",
        "from sklearn.cluster import KMeans\n",
        "import math\n",
        "\n",
        "# options library\n",
        "import warnings\n",
        "warnings.filterwarnings('ignore')\n",
        "\n",
        "plt.rc('font', family='NanumBarunGothic')\n",
        "plt.rcParams['axes.unicode_minus'] =False\n",
        "pd.set_option('display.max_columns',None)\n",
        "pd.set_option('display.max_row',None)"
      ],
      "metadata": {
        "id": "b2wVNwy944HF",
        "execution": {
          "iopub.status.busy": "2024-10-05T13:59:39.433237Z",
          "iopub.execute_input": "2024-10-05T13:59:39.434065Z",
          "iopub.status.idle": "2024-10-05T13:59:43.113630Z",
          "shell.execute_reply.started": "2024-10-05T13:59:39.434013Z",
          "shell.execute_reply": "2024-10-05T13:59:43.112673Z"
        },
        "trusted": true
      },
      "execution_count": null,
      "outputs": []
    },
    {
      "cell_type": "code",
      "source": [
        "# 데이터 불러오기\n",
        "apps = pd.read_csv('/kaggle/input/dive2024-origin/dive_apps_log.csv')\n",
        "#cust = pd.read_csv('/kaggle/input/dive2024-origin/dive_cust_info.csv')\n",
        "#final_cluster_3K = pd.read_csv('/kaggle/input/bnk-cluster/final_cluster_3K.csv')"
      ],
      "metadata": {
        "id": "ATKfyYjW44HG",
        "execution": {
          "iopub.status.busy": "2024-10-05T13:59:54.418264Z",
          "iopub.execute_input": "2024-10-05T13:59:54.418685Z",
          "iopub.status.idle": "2024-10-05T14:00:55.170119Z",
          "shell.execute_reply.started": "2024-10-05T13:59:54.418646Z",
          "shell.execute_reply": "2024-10-05T14:00:55.168813Z"
        },
        "trusted": true
      },
      "execution_count": null,
      "outputs": []
    },
    {
      "cell_type": "markdown",
      "source": [
        "### 컬럼명 변경하기"
      ],
      "metadata": {
        "id": "8BodN4_V-LDP"
      }
    },
    {
      "cell_type": "code",
      "source": [
        "apps.columns = ['기준일자', '기준시간', '이벤트명', '이벤트타입', '이벤트ID', '클릭버튼', '순번']\n",
        "cust.columns =  ['연령', '성별', '주소지', '자산잔액', '부채잔액', '카드사용액', '순번']"
      ],
      "metadata": {
        "id": "UejpLir044HH",
        "execution": {
          "iopub.status.busy": "2024-10-05T09:52:06.143202Z",
          "iopub.execute_input": "2024-10-05T09:52:06.144046Z",
          "iopub.status.idle": "2024-10-05T09:52:06.153849Z",
          "shell.execute_reply.started": "2024-10-05T09:52:06.143976Z",
          "shell.execute_reply": "2024-10-05T09:52:06.152462Z"
        },
        "trusted": true
      },
      "execution_count": null,
      "outputs": []
    },
    {
      "cell_type": "code",
      "source": [
        "cust['카드사용액'].unique()"
      ],
      "metadata": {
        "execution": {
          "iopub.status.busy": "2024-10-05T10:09:47.549498Z",
          "iopub.execute_input": "2024-10-05T10:09:47.551514Z",
          "iopub.status.idle": "2024-10-05T10:09:47.640738Z",
          "shell.execute_reply.started": "2024-10-05T10:09:47.551455Z",
          "shell.execute_reply": "2024-10-05T10:09:47.639608Z"
        },
        "trusted": true,
        "id": "tm-4daAz-LDS",
        "outputId": "987ddf65-ef2a-4f88-bbb8-4e4c3bfc7c3d"
      },
      "execution_count": null,
      "outputs": [
        {
          "execution_count": 8,
          "output_type": "execute_result",
          "data": {
            "text/plain": "array(['4. 십만 원 이상 ~ 이십만 원 미만', '6. 삼십만 원 이상 ~ 오십만 원 미만', '0. 카드 미사용',\n       '5. 이십만 원 이상 ~ 삼십만 원 미만', '2. 일만 원 이상 ~ 오만 원 미만',\n       '8. 일백만 원 이상 ~ 이백만 원 미만', '7. 오십만 원 이상 ~ 일백만 원 미만',\n       '3. 오만 원 이상 ~ 십만 원 미만', '9. 이백만 원 이상', '1. 일만 원 미만'], dtype=object)"
          },
          "metadata": {}
        }
      ]
    },
    {
      "cell_type": "code",
      "source": [
        "cust['카드사용액'].value_counts()"
      ],
      "metadata": {
        "execution": {
          "iopub.status.busy": "2024-10-05T10:19:06.608021Z",
          "iopub.execute_input": "2024-10-05T10:19:06.609051Z",
          "iopub.status.idle": "2024-10-05T10:19:06.697032Z",
          "shell.execute_reply.started": "2024-10-05T10:19:06.609001Z",
          "shell.execute_reply": "2024-10-05T10:19:06.694936Z"
        },
        "trusted": true,
        "id": "VFtklzQq-LDU",
        "outputId": "df118cdd-3722-4329-e15e-9ec478ec8c8c"
      },
      "execution_count": null,
      "outputs": [
        {
          "execution_count": 9,
          "output_type": "execute_result",
          "data": {
            "text/plain": "카드사용액\n0. 카드 미사용                 279845\n7. 오십만 원 이상 ~ 일백만 원 미만     91090\n6. 삼십만 원 이상 ~ 오십만 원 미만     82767\n4. 십만 원 이상 ~ 이십만 원 미만      80082\n2. 일만 원 이상 ~ 오만 원 미만       62225\n5. 이십만 원 이상 ~ 삼십만 원 미만     59758\n3. 오만 원 이상 ~ 십만 원 미만       57479\n8. 일백만 원 이상 ~ 이백만 원 미만     50299\n1. 일만 원 미만                 37246\n9. 이백만 원 이상                13411\nName: count, dtype: int64"
          },
          "metadata": {}
        }
      ]
    },
    {
      "cell_type": "markdown",
      "source": [
        "### 1~2초 사이에 발생한 중복 데이터 제거"
      ],
      "metadata": {
        "id": "huQBMCOr-LDV"
      }
    },
    {
      "cell_type": "code",
      "source": [
        "# DataFrame 복사\n",
        "apps_copy = apps.copy()\n",
        "df_cleaned = apps.copy()\n",
        "\n",
        "# 기준시간을 datetime 형식으로 변환\n",
        "df_cleaned['기준시간'] = pd.to_datetime(df_cleaned['기준시간'], format='%H:%M:%S')\n",
        "\n",
        "# '기준시간'을 제외한 나머지 열이 중복되는 행 찾기\n",
        "duplicated_mask = df_cleaned.duplicated(subset=df_cleaned.columns.difference(['기준시간']), keep=False)\n",
        "\n",
        "# 중복된 행들만 추출\n",
        "duplicates = df_cleaned[duplicated_mask]\n",
        "\n",
        "# 중복된 행 중에서 '기준시간' 차이가 1~2초인 그룹을 찾아 제거\n",
        "# 각 그룹별로 기준시간 차이를 계산하여 차이가 1~2초 사이인 경우 하나만 남기기\n",
        "def drop_near_duplicates(group):\n",
        "    group = group.sort_values(by='기준시간')\n",
        "    time_diff = group['기준시간'].diff().dt.total_seconds().fillna(0)\n",
        "    # 시간 차이가 2초 초과하는 행만 남기고 첫 번째 행 유지\n",
        "    return pd.concat([group[time_diff > 2], group.iloc[[0]]])\n",
        "\n",
        "# 중복된 그룹을 기준으로 필터링 후 하나의 행만 남김\n",
        "cleaned_duplicates = duplicates.groupby(df_cleaned.columns.difference(['기준시간']).tolist(), group_keys=False).apply(drop_near_duplicates)\n",
        "\n",
        "# 중복되지 않은 원본 데이터와 결합\n",
        "non_duplicates = df_cleaned[~duplicated_mask]\n",
        "apps_temp = pd.concat([non_duplicates, cleaned_duplicates]).sort_index()\n",
        "\n",
        "# 최종 apps 데이터에 원본 데이터의 '기준시간'으로 다시 설정\n",
        "apps_temp['기준시간'] = apps_copy['기준시간']"
      ],
      "metadata": {
        "execution": {
          "iopub.status.busy": "2024-10-05T05:07:15.100661Z",
          "iopub.execute_input": "2024-10-05T05:07:15.101713Z",
          "iopub.status.idle": "2024-10-05T05:07:15.415254Z",
          "shell.execute_reply.started": "2024-10-05T05:07:15.101670Z",
          "shell.execute_reply": "2024-10-05T05:07:15.414330Z"
        },
        "trusted": true,
        "id": "-PsDPjC_-LDV"
      },
      "execution_count": null,
      "outputs": []
    },
    {
      "cell_type": "code",
      "source": [
        "# 인덱스 2301과 5547인 행을 출력\n",
        "specific_rows = apps.loc[[2301, 5547]]\n",
        "\n",
        "# 결과 출력\n",
        "print(specific_rows)"
      ],
      "metadata": {
        "execution": {
          "iopub.status.busy": "2024-10-05T06:36:37.719534Z",
          "iopub.execute_input": "2024-10-05T06:36:37.720632Z",
          "iopub.status.idle": "2024-10-05T06:36:37.730942Z",
          "shell.execute_reply.started": "2024-10-05T06:36:37.720584Z",
          "shell.execute_reply": "2024-10-05T06:36:37.729754Z"
        },
        "trusted": true,
        "id": "CrNuOd4C-LDW",
        "outputId": "2502c392-bd20-4339-c6f2-d4abd9693157"
      },
      "execution_count": null,
      "outputs": [
        {
          "name": "stdout",
          "text": "      col1      col2             col3     col4     col5 col6    col7\n2301     1  11:04:53  af_service_view  inquiry  inquiry  NaN  582660\n5547     1  10:58:11  af_service_view  inquiry  inquiry  NaN  363163\n",
          "output_type": "stream"
        }
      ]
    },
    {
      "cell_type": "code",
      "source": [
        "display(apps_temp.head(5))\n",
        "display(cust.head(5))"
      ],
      "metadata": {
        "colab": {
          "base_uri": "https://localhost:8080/",
          "height": 499
        },
        "id": "QE6dmwt544HI",
        "outputId": "e6b3734b-72ca-4a40-b3da-0cfc43571d1b",
        "execution": {
          "iopub.status.busy": "2024-10-05T05:07:29.148182Z",
          "iopub.execute_input": "2024-10-05T05:07:29.148603Z",
          "iopub.status.idle": "2024-10-05T05:07:29.170738Z",
          "shell.execute_reply.started": "2024-10-05T05:07:29.148567Z",
          "shell.execute_reply": "2024-10-05T05:07:29.169664Z"
        },
        "trusted": true
      },
      "execution_count": null,
      "outputs": [
        {
          "output_type": "display_data",
          "data": {
            "text/plain": "      기준일자      기준시간                 이벤트명      이벤트타입    이벤트ID       클릭버튼  \\\n2301     1  11:04:53      af_service_view    inquiry  inquiry        NaN   \n5547     1  10:58:11      af_service_view    inquiry  inquiry        NaN   \n5700     1  10:57:57  af_finishjoin_popup  marketing  deposit   no_money   \n6317     1  10:56:51  af_finishjoin_popup  marketing  deposit  moneyplus   \n6886     1  10:55:43      af_service_view      remit    remit        NaN   \n\n          순번  \n2301  582660  \n5547  363163  \n5700  812002  \n6317  812002  \n6886  509971  ",
            "text/html": "<div>\n<style scoped>\n    .dataframe tbody tr th:only-of-type {\n        vertical-align: middle;\n    }\n\n    .dataframe tbody tr th {\n        vertical-align: top;\n    }\n\n    .dataframe thead th {\n        text-align: right;\n    }\n</style>\n<table border=\"1\" class=\"dataframe\">\n  <thead>\n    <tr style=\"text-align: right;\">\n      <th></th>\n      <th>기준일자</th>\n      <th>기준시간</th>\n      <th>이벤트명</th>\n      <th>이벤트타입</th>\n      <th>이벤트ID</th>\n      <th>클릭버튼</th>\n      <th>순번</th>\n    </tr>\n  </thead>\n  <tbody>\n    <tr>\n      <th>2301</th>\n      <td>1</td>\n      <td>11:04:53</td>\n      <td>af_service_view</td>\n      <td>inquiry</td>\n      <td>inquiry</td>\n      <td>NaN</td>\n      <td>582660</td>\n    </tr>\n    <tr>\n      <th>5547</th>\n      <td>1</td>\n      <td>10:58:11</td>\n      <td>af_service_view</td>\n      <td>inquiry</td>\n      <td>inquiry</td>\n      <td>NaN</td>\n      <td>363163</td>\n    </tr>\n    <tr>\n      <th>5700</th>\n      <td>1</td>\n      <td>10:57:57</td>\n      <td>af_finishjoin_popup</td>\n      <td>marketing</td>\n      <td>deposit</td>\n      <td>no_money</td>\n      <td>812002</td>\n    </tr>\n    <tr>\n      <th>6317</th>\n      <td>1</td>\n      <td>10:56:51</td>\n      <td>af_finishjoin_popup</td>\n      <td>marketing</td>\n      <td>deposit</td>\n      <td>moneyplus</td>\n      <td>812002</td>\n    </tr>\n    <tr>\n      <th>6886</th>\n      <td>1</td>\n      <td>10:55:43</td>\n      <td>af_service_view</td>\n      <td>remit</td>\n      <td>remit</td>\n      <td>NaN</td>\n      <td>509971</td>\n    </tr>\n  </tbody>\n</table>\n</div>"
          },
          "metadata": {}
        },
        {
          "output_type": "display_data",
          "data": {
            "text/plain": "                연령 성별      주소지                    자산잔액       부채잔액  \\\n0  25세 이상 ~ 30세 미만  M   부산 사하구    1. 일만 원 이상 ~ 십만 원 미만  0. 대출 미보유   \n1  25세 이상 ~ 30세 미만  M   부산 사하구    1. 일만 원 이상 ~ 십만 원 미만  0. 대출 미보유   \n2  25세 이상 ~ 30세 미만  M    부산 북구              0. 일만 원 미만  0. 대출 미보유   \n3  25세 이상 ~ 30세 미만  M  부산 해운대구    1. 일만 원 이상 ~ 십만 원 미만  0. 대출 미보유   \n4  25세 이상 ~ 30세 미만  M   부산 금정구  7. 오백만 원 이상 ~ 일천만 원 미만  0. 대출 미보유   \n\n                    카드사용액  순번  \n0   4. 십만 원 이상 ~ 이십만 원 미만   1  \n1  6. 삼십만 원 이상 ~ 오십만 원 미만   2  \n2   4. 십만 원 이상 ~ 이십만 원 미만   3  \n3               0. 카드 미사용   4  \n4  6. 삼십만 원 이상 ~ 오십만 원 미만   5  ",
            "text/html": "<div>\n<style scoped>\n    .dataframe tbody tr th:only-of-type {\n        vertical-align: middle;\n    }\n\n    .dataframe tbody tr th {\n        vertical-align: top;\n    }\n\n    .dataframe thead th {\n        text-align: right;\n    }\n</style>\n<table border=\"1\" class=\"dataframe\">\n  <thead>\n    <tr style=\"text-align: right;\">\n      <th></th>\n      <th>연령</th>\n      <th>성별</th>\n      <th>주소지</th>\n      <th>자산잔액</th>\n      <th>부채잔액</th>\n      <th>카드사용액</th>\n      <th>순번</th>\n    </tr>\n  </thead>\n  <tbody>\n    <tr>\n      <th>0</th>\n      <td>25세 이상 ~ 30세 미만</td>\n      <td>M</td>\n      <td>부산 사하구</td>\n      <td>1. 일만 원 이상 ~ 십만 원 미만</td>\n      <td>0. 대출 미보유</td>\n      <td>4. 십만 원 이상 ~ 이십만 원 미만</td>\n      <td>1</td>\n    </tr>\n    <tr>\n      <th>1</th>\n      <td>25세 이상 ~ 30세 미만</td>\n      <td>M</td>\n      <td>부산 사하구</td>\n      <td>1. 일만 원 이상 ~ 십만 원 미만</td>\n      <td>0. 대출 미보유</td>\n      <td>6. 삼십만 원 이상 ~ 오십만 원 미만</td>\n      <td>2</td>\n    </tr>\n    <tr>\n      <th>2</th>\n      <td>25세 이상 ~ 30세 미만</td>\n      <td>M</td>\n      <td>부산 북구</td>\n      <td>0. 일만 원 미만</td>\n      <td>0. 대출 미보유</td>\n      <td>4. 십만 원 이상 ~ 이십만 원 미만</td>\n      <td>3</td>\n    </tr>\n    <tr>\n      <th>3</th>\n      <td>25세 이상 ~ 30세 미만</td>\n      <td>M</td>\n      <td>부산 해운대구</td>\n      <td>1. 일만 원 이상 ~ 십만 원 미만</td>\n      <td>0. 대출 미보유</td>\n      <td>0. 카드 미사용</td>\n      <td>4</td>\n    </tr>\n    <tr>\n      <th>4</th>\n      <td>25세 이상 ~ 30세 미만</td>\n      <td>M</td>\n      <td>부산 금정구</td>\n      <td>7. 오백만 원 이상 ~ 일천만 원 미만</td>\n      <td>0. 대출 미보유</td>\n      <td>6. 삼십만 원 이상 ~ 오십만 원 미만</td>\n      <td>5</td>\n    </tr>\n  </tbody>\n</table>\n</div>"
          },
          "metadata": {}
        }
      ]
    },
    {
      "cell_type": "code",
      "source": [
        "apps_temp.shape"
      ],
      "metadata": {
        "execution": {
          "iopub.status.busy": "2024-10-05T05:07:54.952889Z",
          "iopub.execute_input": "2024-10-05T05:07:54.954021Z",
          "iopub.status.idle": "2024-10-05T05:07:54.960439Z",
          "shell.execute_reply.started": "2024-10-05T05:07:54.953975Z",
          "shell.execute_reply": "2024-10-05T05:07:54.959251Z"
        },
        "trusted": true,
        "id": "YAT7T8ij-LDZ",
        "outputId": "438d7390-6062-4afe-fef5-c215ad7089f0"
      },
      "execution_count": null,
      "outputs": [
        {
          "execution_count": 28,
          "output_type": "execute_result",
          "data": {
            "text/plain": "(6974985, 7)"
          },
          "metadata": {}
        }
      ]
    },
    {
      "cell_type": "markdown",
      "source": [
        "# 전처리"
      ],
      "metadata": {
        "id": "NghbVENr44HI"
      }
    },
    {
      "cell_type": "markdown",
      "source": [
        "### R: 마지막으로 구매한 시점이 얼마나 최근인지\n",
        "\n",
        "-  기준일자와 기준시간 차이 수치 적용"
      ],
      "metadata": {
        "id": "CbEyuEyT44HJ"
      }
    },
    {
      "cell_type": "markdown",
      "source": [
        "#### 다른방법 R 구하는 방법"
      ],
      "metadata": {
        "id": "SPGOdwGs44HL"
      }
    },
    {
      "cell_type": "code",
      "source": [
        "apps = apps_temp.copy()"
      ],
      "metadata": {
        "execution": {
          "iopub.status.busy": "2024-10-05T05:21:11.242971Z",
          "iopub.execute_input": "2024-10-05T05:21:11.243404Z",
          "iopub.status.idle": "2024-10-05T05:21:13.020467Z",
          "shell.execute_reply.started": "2024-10-05T05:21:11.243365Z",
          "shell.execute_reply": "2024-10-05T05:21:13.019530Z"
        },
        "trusted": true,
        "id": "xHJb91SW-LDc"
      },
      "execution_count": null,
      "outputs": []
    },
    {
      "cell_type": "code",
      "source": [
        "df2 = apps.copy()\n",
        "\n",
        "# 시:분:초를 초 단위로 변환하는 함수 정의\n",
        "def time_to_seconds(t):\n",
        "    h, m, s = map(int, t.split(':'))\n",
        "    return h * 3600 + m * 60 + s\n",
        "\n",
        "# 모든 시:분:초를 초 단위로 변환\n",
        "df2['초'] = df2['기준시간'].apply(time_to_seconds)\n",
        "\n",
        "# 기준일자 60이 가장 최근일자이므로 60일을 기준으로 Recency 계산\n",
        "# 기준일자 60의 초를 0으로 간주하고 다른 기준일자에 대해 초 단위 Recency 계산\n",
        "df2['Recency'] = df2['초'] + (60 - df2['기준일자']) * 86400  # 하루는 86400초\n",
        "\n",
        "# 결과 출력\n",
        "rfm_r = df2[['순번', 'Recency']]\n",
        "\n",
        "# '순번'별로 'Recency'의 최소값 추출\n",
        "rfm_r = df2.groupby('순번')['Recency'].min().reset_index()"
      ],
      "metadata": {
        "id": "L-yKE8H244HL",
        "execution": {
          "iopub.status.busy": "2024-10-05T05:21:13.514064Z",
          "iopub.execute_input": "2024-10-05T05:21:13.514510Z",
          "iopub.status.idle": "2024-10-05T05:21:24.207983Z",
          "shell.execute_reply.started": "2024-10-05T05:21:13.514467Z",
          "shell.execute_reply": "2024-10-05T05:21:24.206886Z"
        },
        "trusted": true
      },
      "execution_count": null,
      "outputs": []
    },
    {
      "cell_type": "code",
      "source": [
        "rfm_r.info()\n",
        "#df2.info()\n",
        "#apps.info()"
      ],
      "metadata": {
        "execution": {
          "iopub.status.busy": "2024-10-05T05:42:51.832294Z",
          "iopub.execute_input": "2024-10-05T05:42:51.833275Z",
          "iopub.status.idle": "2024-10-05T05:42:51.844976Z",
          "shell.execute_reply.started": "2024-10-05T05:42:51.833228Z",
          "shell.execute_reply": "2024-10-05T05:42:51.843874Z"
        },
        "trusted": true,
        "id": "aYF-HNeo-LDd",
        "outputId": "45b5ee19-6626-4f97-8cd2-091da3238f79"
      },
      "execution_count": null,
      "outputs": [
        {
          "name": "stdout",
          "text": "<class 'pandas.core.frame.DataFrame'>\nRangeIndex: 744357 entries, 0 to 744356\nData columns (total 2 columns):\n #   Column   Non-Null Count   Dtype\n---  ------   --------------   -----\n 0   순번       744357 non-null  int64\n 1   Recency  744357 non-null  int64\ndtypes: int64(2)\nmemory usage: 11.4 MB\n",
          "output_type": "stream"
        }
      ]
    },
    {
      "cell_type": "markdown",
      "source": [
        "### M: 고객이 소비한 총 금액, 자산 잔액, 부채 잔액 범주화\n",
        "\n",
        "- cust의 col4, 5, 6는 문자 분리 후 다른 범주형 변수로 저장\n"
      ],
      "metadata": {
        "id": "iH1YZakQ44HL"
      }
    },
    {
      "cell_type": "code",
      "source": [
        "cust['자산잔액'] = cust['자산잔액'].str.split('.').str[0]\n",
        "cust['부채잔액'] = cust['부채잔액'].str.split('.').str[0]\n",
        "cust['카드사용액'] = cust['카드사용액'].str.split('.').str[0]"
      ],
      "metadata": {
        "id": "Ziv_Rv0D44HM",
        "execution": {
          "iopub.status.busy": "2024-10-05T05:21:24.210118Z",
          "iopub.execute_input": "2024-10-05T05:21:24.210879Z",
          "iopub.status.idle": "2024-10-05T05:21:28.148824Z",
          "shell.execute_reply.started": "2024-10-05T05:21:24.210817Z",
          "shell.execute_reply": "2024-10-05T05:21:28.147685Z"
        },
        "trusted": true
      },
      "execution_count": null,
      "outputs": []
    },
    {
      "cell_type": "code",
      "source": [
        "rfm_m = cust[['순번','카드사용액']]"
      ],
      "metadata": {
        "id": "0r4ei3lP44HM",
        "execution": {
          "iopub.status.busy": "2024-10-05T05:21:28.150242Z",
          "iopub.execute_input": "2024-10-05T05:21:28.150647Z",
          "iopub.status.idle": "2024-10-05T05:21:28.174631Z",
          "shell.execute_reply.started": "2024-10-05T05:21:28.150570Z",
          "shell.execute_reply": "2024-10-05T05:21:28.173714Z"
        },
        "trusted": true
      },
      "execution_count": null,
      "outputs": []
    },
    {
      "cell_type": "markdown",
      "source": [
        "### F: 어떤 시스템을 얼마나 자주 이용했는지\n",
        "\n",
        "- 이벤트 타입(28) > 이벤트 명(105)\n"
      ],
      "metadata": {
        "id": "QvKYqMgI44HN"
      }
    },
    {
      "cell_type": "code",
      "source": [
        "rfm_f = apps.groupby(['순번', '이벤트타입']).size().unstack(fill_value=0)"
      ],
      "metadata": {
        "id": "8hY8PWXL44HO",
        "execution": {
          "iopub.status.busy": "2024-10-05T05:21:28.176285Z",
          "iopub.execute_input": "2024-10-05T05:21:28.176639Z",
          "iopub.status.idle": "2024-10-05T05:21:30.696423Z",
          "shell.execute_reply.started": "2024-10-05T05:21:28.176603Z",
          "shell.execute_reply": "2024-10-05T05:21:30.695335Z"
        },
        "trusted": true
      },
      "execution_count": null,
      "outputs": []
    },
    {
      "cell_type": "code",
      "source": [
        "apps_temp['순번'].max()"
      ],
      "metadata": {
        "execution": {
          "iopub.status.busy": "2024-10-05T05:38:37.534971Z",
          "iopub.execute_input": "2024-10-05T05:38:37.535872Z",
          "iopub.status.idle": "2024-10-05T05:38:37.549632Z",
          "shell.execute_reply.started": "2024-10-05T05:38:37.535822Z",
          "shell.execute_reply": "2024-10-05T05:38:37.548614Z"
        },
        "trusted": true,
        "id": "KSYLR10_-LDg",
        "outputId": "b3c99cd0-92e3-4f10-b0ab-36717ad76eaa"
      },
      "execution_count": null,
      "outputs": [
        {
          "execution_count": 78,
          "output_type": "execute_result",
          "data": {
            "text/plain": "817523"
          },
          "metadata": {}
        }
      ]
    },
    {
      "cell_type": "code",
      "source": [
        "rfm_m['순번'].nunique()"
      ],
      "metadata": {
        "execution": {
          "iopub.status.busy": "2024-10-05T05:40:51.019584Z",
          "iopub.execute_input": "2024-10-05T05:40:51.020450Z",
          "iopub.status.idle": "2024-10-05T05:40:51.054847Z",
          "shell.execute_reply.started": "2024-10-05T05:40:51.020409Z",
          "shell.execute_reply": "2024-10-05T05:40:51.053776Z"
        },
        "trusted": true,
        "id": "SIvi-kLN-LDg",
        "outputId": "937eab33-f8f0-4acb-8b3f-abd000bb844f"
      },
      "execution_count": null,
      "outputs": [
        {
          "execution_count": 89,
          "output_type": "execute_result",
          "data": {
            "text/plain": "814202"
          },
          "metadata": {}
        }
      ]
    },
    {
      "cell_type": "markdown",
      "source": [
        "### 데이터 병합"
      ],
      "metadata": {
        "id": "PPPzfX6A44HO"
      }
    },
    {
      "cell_type": "code",
      "source": [
        "cust_fre = rfm_f.merge(rfm_m, on='순번', how='left')\n",
        "\n",
        "# '순번'을 기준으로 'apps'와 'cust' 병합 (left join 또는 inner join 선택 가능)\n",
        "rfm_df = pd.merge(cust_fre, rfm_r[['순번', 'Recency']], on='순번', how='left')\n",
        "\n",
        "# 결과 확인\n",
        "display(rfm_df.head(5))"
      ],
      "metadata": {
        "colab": {
          "base_uri": "https://localhost:8080/",
          "height": 295
        },
        "id": "xpOiIdzp6Ph6",
        "outputId": "82f10332-3e8d-4e00-8d8a-0df9fec82896",
        "execution": {
          "iopub.status.busy": "2024-10-05T05:21:36.127408Z",
          "iopub.execute_input": "2024-10-05T05:21:36.128402Z",
          "iopub.status.idle": "2024-10-05T05:21:36.713345Z",
          "shell.execute_reply.started": "2024-10-05T05:21:36.128357Z",
          "shell.execute_reply": "2024-10-05T05:21:36.712294Z"
        },
        "trusted": true
      },
      "execution_count": null,
      "outputs": [
        {
          "output_type": "display_data",
          "data": {
            "text/plain": "   순번  brand  card  deposit  estate  event  exchange  fit  forex  fund  gift  \\\n0   1      0     0        0       0      0         0    0      0     0     0   \n1   2      0     0        0       0      0         0    0      0     0     0   \n2   4      0     0        1       0      0         0    0      0     0     0   \n3   5      0     0        0       0      0         1    0      0     0     0   \n4   6      0     0        0       0      0         0    0      0     4     0   \n\n   giftbox  gold  guide  home  inquiry  insurance  irp  join  life  loan  \\\n0        0     0      0     0       12          0    0     0     0     0   \n1        0     0      0     0        9          0    0     0     0     0   \n2        0     0      0     0        0          0    0     0     0     0   \n3        0     0      0     0        1          0    0     0     0     0   \n4        0     0      0     0        0          0    0     0     0     0   \n\n   main  management  marketing  mycard  othercard  remit  service  welcomebox  \\\n0     0           0          1       0          0      4        0           0   \n1     0           0          1       0          0      2        0           0   \n2     0           0          1       0          0      0        0           0   \n3     0           0          1       0          0      0        0           0   \n4     0           0          0       0          0      0        0           0   \n\n  카드사용액  Recency  \n0     4    26045  \n1     6   135892  \n2     0   859489  \n3     6  4194489  \n4     0   567741  ",
            "text/html": "<div>\n<style scoped>\n    .dataframe tbody tr th:only-of-type {\n        vertical-align: middle;\n    }\n\n    .dataframe tbody tr th {\n        vertical-align: top;\n    }\n\n    .dataframe thead th {\n        text-align: right;\n    }\n</style>\n<table border=\"1\" class=\"dataframe\">\n  <thead>\n    <tr style=\"text-align: right;\">\n      <th></th>\n      <th>순번</th>\n      <th>brand</th>\n      <th>card</th>\n      <th>deposit</th>\n      <th>estate</th>\n      <th>event</th>\n      <th>exchange</th>\n      <th>fit</th>\n      <th>forex</th>\n      <th>fund</th>\n      <th>gift</th>\n      <th>giftbox</th>\n      <th>gold</th>\n      <th>guide</th>\n      <th>home</th>\n      <th>inquiry</th>\n      <th>insurance</th>\n      <th>irp</th>\n      <th>join</th>\n      <th>life</th>\n      <th>loan</th>\n      <th>main</th>\n      <th>management</th>\n      <th>marketing</th>\n      <th>mycard</th>\n      <th>othercard</th>\n      <th>remit</th>\n      <th>service</th>\n      <th>welcomebox</th>\n      <th>카드사용액</th>\n      <th>Recency</th>\n    </tr>\n  </thead>\n  <tbody>\n    <tr>\n      <th>0</th>\n      <td>1</td>\n      <td>0</td>\n      <td>0</td>\n      <td>0</td>\n      <td>0</td>\n      <td>0</td>\n      <td>0</td>\n      <td>0</td>\n      <td>0</td>\n      <td>0</td>\n      <td>0</td>\n      <td>0</td>\n      <td>0</td>\n      <td>0</td>\n      <td>0</td>\n      <td>12</td>\n      <td>0</td>\n      <td>0</td>\n      <td>0</td>\n      <td>0</td>\n      <td>0</td>\n      <td>0</td>\n      <td>0</td>\n      <td>1</td>\n      <td>0</td>\n      <td>0</td>\n      <td>4</td>\n      <td>0</td>\n      <td>0</td>\n      <td>4</td>\n      <td>26045</td>\n    </tr>\n    <tr>\n      <th>1</th>\n      <td>2</td>\n      <td>0</td>\n      <td>0</td>\n      <td>0</td>\n      <td>0</td>\n      <td>0</td>\n      <td>0</td>\n      <td>0</td>\n      <td>0</td>\n      <td>0</td>\n      <td>0</td>\n      <td>0</td>\n      <td>0</td>\n      <td>0</td>\n      <td>0</td>\n      <td>9</td>\n      <td>0</td>\n      <td>0</td>\n      <td>0</td>\n      <td>0</td>\n      <td>0</td>\n      <td>0</td>\n      <td>0</td>\n      <td>1</td>\n      <td>0</td>\n      <td>0</td>\n      <td>2</td>\n      <td>0</td>\n      <td>0</td>\n      <td>6</td>\n      <td>135892</td>\n    </tr>\n    <tr>\n      <th>2</th>\n      <td>4</td>\n      <td>0</td>\n      <td>0</td>\n      <td>1</td>\n      <td>0</td>\n      <td>0</td>\n      <td>0</td>\n      <td>0</td>\n      <td>0</td>\n      <td>0</td>\n      <td>0</td>\n      <td>0</td>\n      <td>0</td>\n      <td>0</td>\n      <td>0</td>\n      <td>0</td>\n      <td>0</td>\n      <td>0</td>\n      <td>0</td>\n      <td>0</td>\n      <td>0</td>\n      <td>0</td>\n      <td>0</td>\n      <td>1</td>\n      <td>0</td>\n      <td>0</td>\n      <td>0</td>\n      <td>0</td>\n      <td>0</td>\n      <td>0</td>\n      <td>859489</td>\n    </tr>\n    <tr>\n      <th>3</th>\n      <td>5</td>\n      <td>0</td>\n      <td>0</td>\n      <td>0</td>\n      <td>0</td>\n      <td>0</td>\n      <td>1</td>\n      <td>0</td>\n      <td>0</td>\n      <td>0</td>\n      <td>0</td>\n      <td>0</td>\n      <td>0</td>\n      <td>0</td>\n      <td>0</td>\n      <td>1</td>\n      <td>0</td>\n      <td>0</td>\n      <td>0</td>\n      <td>0</td>\n      <td>0</td>\n      <td>0</td>\n      <td>0</td>\n      <td>1</td>\n      <td>0</td>\n      <td>0</td>\n      <td>0</td>\n      <td>0</td>\n      <td>0</td>\n      <td>6</td>\n      <td>4194489</td>\n    </tr>\n    <tr>\n      <th>4</th>\n      <td>6</td>\n      <td>0</td>\n      <td>0</td>\n      <td>0</td>\n      <td>0</td>\n      <td>0</td>\n      <td>0</td>\n      <td>0</td>\n      <td>0</td>\n      <td>4</td>\n      <td>0</td>\n      <td>0</td>\n      <td>0</td>\n      <td>0</td>\n      <td>0</td>\n      <td>0</td>\n      <td>0</td>\n      <td>0</td>\n      <td>0</td>\n      <td>0</td>\n      <td>0</td>\n      <td>0</td>\n      <td>0</td>\n      <td>0</td>\n      <td>0</td>\n      <td>0</td>\n      <td>0</td>\n      <td>0</td>\n      <td>0</td>\n      <td>0</td>\n      <td>567741</td>\n    </tr>\n  </tbody>\n</table>\n</div>"
          },
          "metadata": {}
        }
      ]
    },
    {
      "cell_type": "code",
      "source": [
        "print(rfm_r.shape)\n",
        "print(rfm_f.shape)\n",
        "print(rfm_m.shape)"
      ],
      "metadata": {
        "execution": {
          "iopub.status.busy": "2024-10-05T05:27:27.202484Z",
          "iopub.execute_input": "2024-10-05T05:27:27.203216Z",
          "iopub.status.idle": "2024-10-05T05:27:27.208595Z",
          "shell.execute_reply.started": "2024-10-05T05:27:27.203174Z",
          "shell.execute_reply": "2024-10-05T05:27:27.207684Z"
        },
        "trusted": true,
        "id": "bcoRhdhX-LDi",
        "outputId": "0ad7a74a-404a-496d-bf6c-8adbdc6b94c9"
      },
      "execution_count": null,
      "outputs": [
        {
          "name": "stdout",
          "text": "(744357, 2)\n(744053, 28)\n(814202, 2)\n",
          "output_type": "stream"
        }
      ]
    },
    {
      "cell_type": "markdown",
      "source": [
        "## 병합한 데이터 불러오기"
      ],
      "metadata": {
        "id": "ot8D1M2N44HQ"
      }
    },
    {
      "cell_type": "code",
      "source": [
        "rfm_data = rfm_df.copy()"
      ],
      "metadata": {
        "id": "2yI6zY9044HQ",
        "execution": {
          "iopub.status.busy": "2024-10-05T05:21:41.307053Z",
          "iopub.execute_input": "2024-10-05T05:21:41.308009Z",
          "iopub.status.idle": "2024-10-05T05:21:41.511909Z",
          "shell.execute_reply.started": "2024-10-05T05:21:41.307961Z",
          "shell.execute_reply": "2024-10-05T05:21:41.510746Z"
        },
        "trusted": true
      },
      "execution_count": null,
      "outputs": []
    },
    {
      "cell_type": "markdown",
      "source": [
        "# Clustering"
      ],
      "metadata": {
        "id": "IXVR947I44HQ"
      }
    },
    {
      "cell_type": "markdown",
      "source": [
        "### 스케일링"
      ],
      "metadata": {
        "id": "wrmfBE9244HQ"
      }
    },
    {
      "cell_type": "code",
      "source": [
        "# 2열부터 29열까지 로그 변환\n",
        "rfm_data.iloc[:, 1:29] = np.log1p(rfm_data.iloc[:, 1:29])  # 인덱스는 0부터 시작하므로 1:29\n",
        "\n",
        "# 로그 변환이 적용된 데이터프레임 확인\n",
        "display(rfm_data.head())"
      ],
      "metadata": {
        "colab": {
          "base_uri": "https://localhost:8080/",
          "height": 295
        },
        "id": "IIPaAj51-GwX",
        "outputId": "6b41c5d7-2194-4042-c2a0-5364affea558",
        "execution": {
          "iopub.status.busy": "2024-10-05T05:21:44.370241Z",
          "iopub.execute_input": "2024-10-05T05:21:44.370680Z",
          "iopub.status.idle": "2024-10-05T05:24:58.690128Z",
          "shell.execute_reply.started": "2024-10-05T05:21:44.370642Z",
          "shell.execute_reply": "2024-10-05T05:24:58.689003Z"
        },
        "trusted": true
      },
      "execution_count": null,
      "outputs": [
        {
          "output_type": "display_data",
          "data": {
            "text/plain": "   순번  brand  card   deposit  estate  event  exchange  fit  forex      fund  \\\n0   1    0.0   0.0  0.000000     0.0    0.0  0.000000  0.0    0.0  0.000000   \n1   2    0.0   0.0  0.000000     0.0    0.0  0.000000  0.0    0.0  0.000000   \n2   4    0.0   0.0  0.693147     0.0    0.0  0.000000  0.0    0.0  0.000000   \n3   5    0.0   0.0  0.000000     0.0    0.0  0.693147  0.0    0.0  0.000000   \n4   6    0.0   0.0  0.000000     0.0    0.0  0.000000  0.0    0.0  1.609438   \n\n   gift  giftbox  gold  guide  home   inquiry  insurance  irp  join  life  \\\n0   0.0      0.0   0.0    0.0   0.0  2.564949        0.0  0.0   0.0   0.0   \n1   0.0      0.0   0.0    0.0   0.0  2.302585        0.0  0.0   0.0   0.0   \n2   0.0      0.0   0.0    0.0   0.0  0.000000        0.0  0.0   0.0   0.0   \n3   0.0      0.0   0.0    0.0   0.0  0.693147        0.0  0.0   0.0   0.0   \n4   0.0      0.0   0.0    0.0   0.0  0.000000        0.0  0.0   0.0   0.0   \n\n   loan  main  management  marketing  mycard  othercard     remit  service  \\\n0   0.0   0.0         0.0   0.693147     0.0        0.0  1.609438      0.0   \n1   0.0   0.0         0.0   0.693147     0.0        0.0  1.098612      0.0   \n2   0.0   0.0         0.0   0.693147     0.0        0.0  0.000000      0.0   \n3   0.0   0.0         0.0   0.693147     0.0        0.0  0.000000      0.0   \n4   0.0   0.0         0.0   0.000000     0.0        0.0  0.000000      0.0   \n\n   welcomebox 카드사용액  Recency  \n0         0.0     4    26045  \n1         0.0     6   135892  \n2         0.0     0   859489  \n3         0.0     6  4194489  \n4         0.0     0   567741  ",
            "text/html": "<div>\n<style scoped>\n    .dataframe tbody tr th:only-of-type {\n        vertical-align: middle;\n    }\n\n    .dataframe tbody tr th {\n        vertical-align: top;\n    }\n\n    .dataframe thead th {\n        text-align: right;\n    }\n</style>\n<table border=\"1\" class=\"dataframe\">\n  <thead>\n    <tr style=\"text-align: right;\">\n      <th></th>\n      <th>순번</th>\n      <th>brand</th>\n      <th>card</th>\n      <th>deposit</th>\n      <th>estate</th>\n      <th>event</th>\n      <th>exchange</th>\n      <th>fit</th>\n      <th>forex</th>\n      <th>fund</th>\n      <th>gift</th>\n      <th>giftbox</th>\n      <th>gold</th>\n      <th>guide</th>\n      <th>home</th>\n      <th>inquiry</th>\n      <th>insurance</th>\n      <th>irp</th>\n      <th>join</th>\n      <th>life</th>\n      <th>loan</th>\n      <th>main</th>\n      <th>management</th>\n      <th>marketing</th>\n      <th>mycard</th>\n      <th>othercard</th>\n      <th>remit</th>\n      <th>service</th>\n      <th>welcomebox</th>\n      <th>카드사용액</th>\n      <th>Recency</th>\n    </tr>\n  </thead>\n  <tbody>\n    <tr>\n      <th>0</th>\n      <td>1</td>\n      <td>0.0</td>\n      <td>0.0</td>\n      <td>0.000000</td>\n      <td>0.0</td>\n      <td>0.0</td>\n      <td>0.000000</td>\n      <td>0.0</td>\n      <td>0.0</td>\n      <td>0.000000</td>\n      <td>0.0</td>\n      <td>0.0</td>\n      <td>0.0</td>\n      <td>0.0</td>\n      <td>0.0</td>\n      <td>2.564949</td>\n      <td>0.0</td>\n      <td>0.0</td>\n      <td>0.0</td>\n      <td>0.0</td>\n      <td>0.0</td>\n      <td>0.0</td>\n      <td>0.0</td>\n      <td>0.693147</td>\n      <td>0.0</td>\n      <td>0.0</td>\n      <td>1.609438</td>\n      <td>0.0</td>\n      <td>0.0</td>\n      <td>4</td>\n      <td>26045</td>\n    </tr>\n    <tr>\n      <th>1</th>\n      <td>2</td>\n      <td>0.0</td>\n      <td>0.0</td>\n      <td>0.000000</td>\n      <td>0.0</td>\n      <td>0.0</td>\n      <td>0.000000</td>\n      <td>0.0</td>\n      <td>0.0</td>\n      <td>0.000000</td>\n      <td>0.0</td>\n      <td>0.0</td>\n      <td>0.0</td>\n      <td>0.0</td>\n      <td>0.0</td>\n      <td>2.302585</td>\n      <td>0.0</td>\n      <td>0.0</td>\n      <td>0.0</td>\n      <td>0.0</td>\n      <td>0.0</td>\n      <td>0.0</td>\n      <td>0.0</td>\n      <td>0.693147</td>\n      <td>0.0</td>\n      <td>0.0</td>\n      <td>1.098612</td>\n      <td>0.0</td>\n      <td>0.0</td>\n      <td>6</td>\n      <td>135892</td>\n    </tr>\n    <tr>\n      <th>2</th>\n      <td>4</td>\n      <td>0.0</td>\n      <td>0.0</td>\n      <td>0.693147</td>\n      <td>0.0</td>\n      <td>0.0</td>\n      <td>0.000000</td>\n      <td>0.0</td>\n      <td>0.0</td>\n      <td>0.000000</td>\n      <td>0.0</td>\n      <td>0.0</td>\n      <td>0.0</td>\n      <td>0.0</td>\n      <td>0.0</td>\n      <td>0.000000</td>\n      <td>0.0</td>\n      <td>0.0</td>\n      <td>0.0</td>\n      <td>0.0</td>\n      <td>0.0</td>\n      <td>0.0</td>\n      <td>0.0</td>\n      <td>0.693147</td>\n      <td>0.0</td>\n      <td>0.0</td>\n      <td>0.000000</td>\n      <td>0.0</td>\n      <td>0.0</td>\n      <td>0</td>\n      <td>859489</td>\n    </tr>\n    <tr>\n      <th>3</th>\n      <td>5</td>\n      <td>0.0</td>\n      <td>0.0</td>\n      <td>0.000000</td>\n      <td>0.0</td>\n      <td>0.0</td>\n      <td>0.693147</td>\n      <td>0.0</td>\n      <td>0.0</td>\n      <td>0.000000</td>\n      <td>0.0</td>\n      <td>0.0</td>\n      <td>0.0</td>\n      <td>0.0</td>\n      <td>0.0</td>\n      <td>0.693147</td>\n      <td>0.0</td>\n      <td>0.0</td>\n      <td>0.0</td>\n      <td>0.0</td>\n      <td>0.0</td>\n      <td>0.0</td>\n      <td>0.0</td>\n      <td>0.693147</td>\n      <td>0.0</td>\n      <td>0.0</td>\n      <td>0.000000</td>\n      <td>0.0</td>\n      <td>0.0</td>\n      <td>6</td>\n      <td>4194489</td>\n    </tr>\n    <tr>\n      <th>4</th>\n      <td>6</td>\n      <td>0.0</td>\n      <td>0.0</td>\n      <td>0.000000</td>\n      <td>0.0</td>\n      <td>0.0</td>\n      <td>0.000000</td>\n      <td>0.0</td>\n      <td>0.0</td>\n      <td>1.609438</td>\n      <td>0.0</td>\n      <td>0.0</td>\n      <td>0.0</td>\n      <td>0.0</td>\n      <td>0.0</td>\n      <td>0.000000</td>\n      <td>0.0</td>\n      <td>0.0</td>\n      <td>0.0</td>\n      <td>0.0</td>\n      <td>0.0</td>\n      <td>0.0</td>\n      <td>0.0</td>\n      <td>0.000000</td>\n      <td>0.0</td>\n      <td>0.0</td>\n      <td>0.000000</td>\n      <td>0.0</td>\n      <td>0.0</td>\n      <td>0</td>\n      <td>567741</td>\n    </tr>\n  </tbody>\n</table>\n</div>"
          },
          "metadata": {}
        }
      ]
    },
    {
      "cell_type": "code",
      "source": [
        "rfm_data.shape"
      ],
      "metadata": {
        "execution": {
          "iopub.status.busy": "2024-10-05T05:26:50.783531Z",
          "iopub.execute_input": "2024-10-05T05:26:50.783979Z",
          "iopub.status.idle": "2024-10-05T05:26:50.790790Z",
          "shell.execute_reply.started": "2024-10-05T05:26:50.783939Z",
          "shell.execute_reply": "2024-10-05T05:26:50.789639Z"
        },
        "trusted": true,
        "id": "dxnXcSvm-LDm",
        "outputId": "5f84bf27-8a39-4f1d-95f3-4d4d3db3c397"
      },
      "execution_count": null,
      "outputs": [
        {
          "execution_count": 69,
          "output_type": "execute_result",
          "data": {
            "text/plain": "(744053, 31)"
          },
          "metadata": {}
        }
      ]
    },
    {
      "cell_type": "code",
      "source": [
        "# 1:29의 열과 마지막 열 선택\n",
        "new_df = rfm_data.iloc[:, 1:29].copy()  # 2열부터 29열까지 선택\n",
        "new_df['Recency'] = rfm_data.iloc[:, -1]\n",
        "\n",
        "display(new_df.head(10))"
      ],
      "metadata": {
        "colab": {
          "base_uri": "https://localhost:8080/",
          "height": 383
        },
        "id": "NjQA7Se1_lnX",
        "outputId": "fb6afc51-e663-4b44-eaac-acc1e9ff569e",
        "execution": {
          "iopub.status.busy": "2024-10-05T05:24:58.692186Z",
          "iopub.execute_input": "2024-10-05T05:24:58.692898Z",
          "iopub.status.idle": "2024-10-05T05:24:59.002582Z",
          "shell.execute_reply.started": "2024-10-05T05:24:58.692861Z",
          "shell.execute_reply": "2024-10-05T05:24:59.000787Z"
        },
        "trusted": true
      },
      "execution_count": null,
      "outputs": [
        {
          "output_type": "display_data",
          "data": {
            "text/plain": "   brand  card   deposit  estate  event  exchange  fit  forex      fund  gift  \\\n0    0.0   0.0  0.000000     0.0    0.0  0.000000  0.0    0.0  0.000000   0.0   \n1    0.0   0.0  0.000000     0.0    0.0  0.000000  0.0    0.0  0.000000   0.0   \n2    0.0   0.0  0.693147     0.0    0.0  0.000000  0.0    0.0  0.000000   0.0   \n3    0.0   0.0  0.000000     0.0    0.0  0.693147  0.0    0.0  0.000000   0.0   \n4    0.0   0.0  0.000000     0.0    0.0  0.000000  0.0    0.0  1.609438   0.0   \n5    0.0   0.0  0.000000     0.0    0.0  0.000000  0.0    0.0  0.000000   0.0   \n6    0.0   0.0  0.000000     0.0    0.0  0.000000  0.0    0.0  0.000000   0.0   \n7    0.0   0.0  0.000000     0.0    0.0  0.000000  0.0    0.0  0.000000   0.0   \n8    0.0   0.0  0.000000     0.0    0.0  0.000000  0.0    0.0  0.000000   0.0   \n9    0.0   0.0  0.000000     0.0    0.0  0.000000  0.0    0.0  0.000000   0.0   \n\n   giftbox  gold  guide  home   inquiry  insurance  irp  join  life  loan  \\\n0      0.0   0.0    0.0   0.0  2.564949        0.0  0.0   0.0   0.0   0.0   \n1      0.0   0.0    0.0   0.0  2.302585        0.0  0.0   0.0   0.0   0.0   \n2      0.0   0.0    0.0   0.0  0.000000        0.0  0.0   0.0   0.0   0.0   \n3      0.0   0.0    0.0   0.0  0.693147        0.0  0.0   0.0   0.0   0.0   \n4      0.0   0.0    0.0   0.0  0.000000        0.0  0.0   0.0   0.0   0.0   \n5      0.0   0.0    0.0   0.0  0.000000        0.0  0.0   0.0   0.0   0.0   \n6      0.0   0.0    0.0   0.0  0.693147        0.0  0.0   0.0   0.0   0.0   \n7      0.0   0.0    0.0   0.0  0.693147        0.0  0.0   0.0   0.0   0.0   \n8      0.0   0.0    0.0   0.0  1.098612        0.0  0.0   0.0   0.0   0.0   \n9      0.0   0.0    0.0   0.0  0.000000        0.0  0.0   0.0   0.0   0.0   \n\n   main  management  marketing  mycard  othercard     remit  service  \\\n0   0.0         0.0   0.693147     0.0        0.0  1.609438      0.0   \n1   0.0         0.0   0.693147     0.0        0.0  1.098612      0.0   \n2   0.0         0.0   0.693147     0.0        0.0  0.000000      0.0   \n3   0.0         0.0   0.693147     0.0        0.0  0.000000      0.0   \n4   0.0         0.0   0.000000     0.0        0.0  0.000000      0.0   \n5   0.0         0.0   0.000000     0.0        0.0  1.098612      0.0   \n6   0.0         0.0   1.098612     0.0        0.0  0.000000      0.0   \n7   0.0         0.0   0.000000     0.0        0.0  0.693147      0.0   \n8   0.0         0.0   0.000000     0.0        0.0  0.693147      0.0   \n9   0.0         0.0   0.693147     0.0        0.0  0.693147      0.0   \n\n   welcomebox  Recency  \n0         0.0    26045  \n1         0.0   135892  \n2         0.0   859489  \n3         0.0  4194489  \n4         0.0   567741  \n5         0.0  3415805  \n6         0.0   915864  \n7         0.0  1016216  \n8         0.0  1365662  \n9         0.0  1350484  ",
            "text/html": "<div>\n<style scoped>\n    .dataframe tbody tr th:only-of-type {\n        vertical-align: middle;\n    }\n\n    .dataframe tbody tr th {\n        vertical-align: top;\n    }\n\n    .dataframe thead th {\n        text-align: right;\n    }\n</style>\n<table border=\"1\" class=\"dataframe\">\n  <thead>\n    <tr style=\"text-align: right;\">\n      <th></th>\n      <th>brand</th>\n      <th>card</th>\n      <th>deposit</th>\n      <th>estate</th>\n      <th>event</th>\n      <th>exchange</th>\n      <th>fit</th>\n      <th>forex</th>\n      <th>fund</th>\n      <th>gift</th>\n      <th>giftbox</th>\n      <th>gold</th>\n      <th>guide</th>\n      <th>home</th>\n      <th>inquiry</th>\n      <th>insurance</th>\n      <th>irp</th>\n      <th>join</th>\n      <th>life</th>\n      <th>loan</th>\n      <th>main</th>\n      <th>management</th>\n      <th>marketing</th>\n      <th>mycard</th>\n      <th>othercard</th>\n      <th>remit</th>\n      <th>service</th>\n      <th>welcomebox</th>\n      <th>Recency</th>\n    </tr>\n  </thead>\n  <tbody>\n    <tr>\n      <th>0</th>\n      <td>0.0</td>\n      <td>0.0</td>\n      <td>0.000000</td>\n      <td>0.0</td>\n      <td>0.0</td>\n      <td>0.000000</td>\n      <td>0.0</td>\n      <td>0.0</td>\n      <td>0.000000</td>\n      <td>0.0</td>\n      <td>0.0</td>\n      <td>0.0</td>\n      <td>0.0</td>\n      <td>0.0</td>\n      <td>2.564949</td>\n      <td>0.0</td>\n      <td>0.0</td>\n      <td>0.0</td>\n      <td>0.0</td>\n      <td>0.0</td>\n      <td>0.0</td>\n      <td>0.0</td>\n      <td>0.693147</td>\n      <td>0.0</td>\n      <td>0.0</td>\n      <td>1.609438</td>\n      <td>0.0</td>\n      <td>0.0</td>\n      <td>26045</td>\n    </tr>\n    <tr>\n      <th>1</th>\n      <td>0.0</td>\n      <td>0.0</td>\n      <td>0.000000</td>\n      <td>0.0</td>\n      <td>0.0</td>\n      <td>0.000000</td>\n      <td>0.0</td>\n      <td>0.0</td>\n      <td>0.000000</td>\n      <td>0.0</td>\n      <td>0.0</td>\n      <td>0.0</td>\n      <td>0.0</td>\n      <td>0.0</td>\n      <td>2.302585</td>\n      <td>0.0</td>\n      <td>0.0</td>\n      <td>0.0</td>\n      <td>0.0</td>\n      <td>0.0</td>\n      <td>0.0</td>\n      <td>0.0</td>\n      <td>0.693147</td>\n      <td>0.0</td>\n      <td>0.0</td>\n      <td>1.098612</td>\n      <td>0.0</td>\n      <td>0.0</td>\n      <td>135892</td>\n    </tr>\n    <tr>\n      <th>2</th>\n      <td>0.0</td>\n      <td>0.0</td>\n      <td>0.693147</td>\n      <td>0.0</td>\n      <td>0.0</td>\n      <td>0.000000</td>\n      <td>0.0</td>\n      <td>0.0</td>\n      <td>0.000000</td>\n      <td>0.0</td>\n      <td>0.0</td>\n      <td>0.0</td>\n      <td>0.0</td>\n      <td>0.0</td>\n      <td>0.000000</td>\n      <td>0.0</td>\n      <td>0.0</td>\n      <td>0.0</td>\n      <td>0.0</td>\n      <td>0.0</td>\n      <td>0.0</td>\n      <td>0.0</td>\n      <td>0.693147</td>\n      <td>0.0</td>\n      <td>0.0</td>\n      <td>0.000000</td>\n      <td>0.0</td>\n      <td>0.0</td>\n      <td>859489</td>\n    </tr>\n    <tr>\n      <th>3</th>\n      <td>0.0</td>\n      <td>0.0</td>\n      <td>0.000000</td>\n      <td>0.0</td>\n      <td>0.0</td>\n      <td>0.693147</td>\n      <td>0.0</td>\n      <td>0.0</td>\n      <td>0.000000</td>\n      <td>0.0</td>\n      <td>0.0</td>\n      <td>0.0</td>\n      <td>0.0</td>\n      <td>0.0</td>\n      <td>0.693147</td>\n      <td>0.0</td>\n      <td>0.0</td>\n      <td>0.0</td>\n      <td>0.0</td>\n      <td>0.0</td>\n      <td>0.0</td>\n      <td>0.0</td>\n      <td>0.693147</td>\n      <td>0.0</td>\n      <td>0.0</td>\n      <td>0.000000</td>\n      <td>0.0</td>\n      <td>0.0</td>\n      <td>4194489</td>\n    </tr>\n    <tr>\n      <th>4</th>\n      <td>0.0</td>\n      <td>0.0</td>\n      <td>0.000000</td>\n      <td>0.0</td>\n      <td>0.0</td>\n      <td>0.000000</td>\n      <td>0.0</td>\n      <td>0.0</td>\n      <td>1.609438</td>\n      <td>0.0</td>\n      <td>0.0</td>\n      <td>0.0</td>\n      <td>0.0</td>\n      <td>0.0</td>\n      <td>0.000000</td>\n      <td>0.0</td>\n      <td>0.0</td>\n      <td>0.0</td>\n      <td>0.0</td>\n      <td>0.0</td>\n      <td>0.0</td>\n      <td>0.0</td>\n      <td>0.000000</td>\n      <td>0.0</td>\n      <td>0.0</td>\n      <td>0.000000</td>\n      <td>0.0</td>\n      <td>0.0</td>\n      <td>567741</td>\n    </tr>\n    <tr>\n      <th>5</th>\n      <td>0.0</td>\n      <td>0.0</td>\n      <td>0.000000</td>\n      <td>0.0</td>\n      <td>0.0</td>\n      <td>0.000000</td>\n      <td>0.0</td>\n      <td>0.0</td>\n      <td>0.000000</td>\n      <td>0.0</td>\n      <td>0.0</td>\n      <td>0.0</td>\n      <td>0.0</td>\n      <td>0.0</td>\n      <td>0.000000</td>\n      <td>0.0</td>\n      <td>0.0</td>\n      <td>0.0</td>\n      <td>0.0</td>\n      <td>0.0</td>\n      <td>0.0</td>\n      <td>0.0</td>\n      <td>0.000000</td>\n      <td>0.0</td>\n      <td>0.0</td>\n      <td>1.098612</td>\n      <td>0.0</td>\n      <td>0.0</td>\n      <td>3415805</td>\n    </tr>\n    <tr>\n      <th>6</th>\n      <td>0.0</td>\n      <td>0.0</td>\n      <td>0.000000</td>\n      <td>0.0</td>\n      <td>0.0</td>\n      <td>0.000000</td>\n      <td>0.0</td>\n      <td>0.0</td>\n      <td>0.000000</td>\n      <td>0.0</td>\n      <td>0.0</td>\n      <td>0.0</td>\n      <td>0.0</td>\n      <td>0.0</td>\n      <td>0.693147</td>\n      <td>0.0</td>\n      <td>0.0</td>\n      <td>0.0</td>\n      <td>0.0</td>\n      <td>0.0</td>\n      <td>0.0</td>\n      <td>0.0</td>\n      <td>1.098612</td>\n      <td>0.0</td>\n      <td>0.0</td>\n      <td>0.000000</td>\n      <td>0.0</td>\n      <td>0.0</td>\n      <td>915864</td>\n    </tr>\n    <tr>\n      <th>7</th>\n      <td>0.0</td>\n      <td>0.0</td>\n      <td>0.000000</td>\n      <td>0.0</td>\n      <td>0.0</td>\n      <td>0.000000</td>\n      <td>0.0</td>\n      <td>0.0</td>\n      <td>0.000000</td>\n      <td>0.0</td>\n      <td>0.0</td>\n      <td>0.0</td>\n      <td>0.0</td>\n      <td>0.0</td>\n      <td>0.693147</td>\n      <td>0.0</td>\n      <td>0.0</td>\n      <td>0.0</td>\n      <td>0.0</td>\n      <td>0.0</td>\n      <td>0.0</td>\n      <td>0.0</td>\n      <td>0.000000</td>\n      <td>0.0</td>\n      <td>0.0</td>\n      <td>0.693147</td>\n      <td>0.0</td>\n      <td>0.0</td>\n      <td>1016216</td>\n    </tr>\n    <tr>\n      <th>8</th>\n      <td>0.0</td>\n      <td>0.0</td>\n      <td>0.000000</td>\n      <td>0.0</td>\n      <td>0.0</td>\n      <td>0.000000</td>\n      <td>0.0</td>\n      <td>0.0</td>\n      <td>0.000000</td>\n      <td>0.0</td>\n      <td>0.0</td>\n      <td>0.0</td>\n      <td>0.0</td>\n      <td>0.0</td>\n      <td>1.098612</td>\n      <td>0.0</td>\n      <td>0.0</td>\n      <td>0.0</td>\n      <td>0.0</td>\n      <td>0.0</td>\n      <td>0.0</td>\n      <td>0.0</td>\n      <td>0.000000</td>\n      <td>0.0</td>\n      <td>0.0</td>\n      <td>0.693147</td>\n      <td>0.0</td>\n      <td>0.0</td>\n      <td>1365662</td>\n    </tr>\n    <tr>\n      <th>9</th>\n      <td>0.0</td>\n      <td>0.0</td>\n      <td>0.000000</td>\n      <td>0.0</td>\n      <td>0.0</td>\n      <td>0.000000</td>\n      <td>0.0</td>\n      <td>0.0</td>\n      <td>0.000000</td>\n      <td>0.0</td>\n      <td>0.0</td>\n      <td>0.0</td>\n      <td>0.0</td>\n      <td>0.0</td>\n      <td>0.000000</td>\n      <td>0.0</td>\n      <td>0.0</td>\n      <td>0.0</td>\n      <td>0.0</td>\n      <td>0.0</td>\n      <td>0.0</td>\n      <td>0.0</td>\n      <td>0.693147</td>\n      <td>0.0</td>\n      <td>0.0</td>\n      <td>0.693147</td>\n      <td>0.0</td>\n      <td>0.0</td>\n      <td>1350484</td>\n    </tr>\n  </tbody>\n</table>\n</div>"
          },
          "metadata": {}
        }
      ]
    },
    {
      "cell_type": "code",
      "source": [
        "new_df.shape"
      ],
      "metadata": {
        "execution": {
          "iopub.status.busy": "2024-10-05T05:26:33.800513Z",
          "iopub.execute_input": "2024-10-05T05:26:33.801733Z",
          "iopub.status.idle": "2024-10-05T05:26:33.808283Z",
          "shell.execute_reply.started": "2024-10-05T05:26:33.801682Z",
          "shell.execute_reply": "2024-10-05T05:26:33.807272Z"
        },
        "trusted": true,
        "id": "_s022w5L-LDn",
        "outputId": "05aea3a2-aee6-4e50-e4f2-fca097c47daa"
      },
      "execution_count": null,
      "outputs": [
        {
          "execution_count": 68,
          "output_type": "execute_result",
          "data": {
            "text/plain": "(744053, 29)"
          },
          "metadata": {}
        }
      ]
    },
    {
      "cell_type": "code",
      "source": [
        "scaler = StandardScaler()\n",
        "scaled_data = scaler.fit_transform(new_df)\n",
        "\n",
        "# 표준화된 array를 DataFrame으로 다시 변환\n",
        "rfm_scaled_df = pd.DataFrame(scaled_data, index=new_df.index, columns=new_df.columns)\n",
        "\n",
        "display(rfm_scaled_df.head())"
      ],
      "metadata": {
        "colab": {
          "base_uri": "https://localhost:8080/",
          "height": 226
        },
        "id": "p3ybQwOKAvp9",
        "outputId": "1f1d5107-38e5-4b4a-9b40-d941063fc46e",
        "execution": {
          "iopub.status.busy": "2024-10-05T05:24:59.004732Z",
          "iopub.execute_input": "2024-10-05T05:24:59.005162Z",
          "iopub.status.idle": "2024-10-05T05:24:59.460365Z",
          "shell.execute_reply.started": "2024-10-05T05:24:59.005117Z",
          "shell.execute_reply": "2024-10-05T05:24:59.459381Z"
        },
        "trusted": true
      },
      "execution_count": null,
      "outputs": [
        {
          "output_type": "display_data",
          "data": {
            "text/plain": "      brand     card   deposit    estate     event  exchange       fit  \\\n0 -0.010369 -0.13996 -0.383266 -0.004878 -0.386203 -0.122596 -0.012215   \n1 -0.010369 -0.13996 -0.383266 -0.004878 -0.386203 -0.122596 -0.012215   \n2 -0.010369 -0.13996  1.198181 -0.004878 -0.386203 -0.122596 -0.012215   \n3 -0.010369 -0.13996 -0.383266 -0.004878 -0.386203  3.278335 -0.012215   \n4 -0.010369 -0.13996 -0.383266 -0.004878 -0.386203 -0.122596 -0.012215   \n\n    forex       fund      gift   giftbox     gold     guide      home  \\\n0 -0.0567  -0.039921 -0.010586 -0.055231 -0.03359 -0.018354 -0.022333   \n1 -0.0567  -0.039921 -0.010586 -0.055231 -0.03359 -0.018354 -0.022333   \n2 -0.0567  -0.039921 -0.010586 -0.055231 -0.03359 -0.018354 -0.022333   \n3 -0.0567  -0.039921 -0.010586 -0.055231 -0.03359 -0.018354 -0.022333   \n4 -0.0567  30.113353 -0.010586 -0.055231 -0.03359 -0.018354 -0.022333   \n\n    inquiry  insurance       irp      join      life      loan      main  \\\n0  1.902165  -0.034609 -0.094781 -0.080303 -0.367275 -0.235861 -0.259558   \n1  1.597663  -0.034609 -0.094781 -0.080303 -0.367275 -0.235861 -0.259558   \n2 -1.074735  -0.034609 -0.094781 -0.080303 -0.367275 -0.235861 -0.259558   \n3 -0.270263  -0.034609 -0.094781 -0.080303 -0.367275 -0.235861 -0.259558   \n4 -1.074735  -0.034609 -0.094781 -0.080303 -0.367275 -0.235861 -0.259558   \n\n   management  marketing    mycard  othercard     remit   service  welcomebox  \\\n0   -0.020546   0.183811 -0.015065  -0.007602  0.641225 -0.401427   -0.033841   \n1   -0.020546   0.183811 -0.015065  -0.007602  0.072443 -0.401427   -0.033841   \n2   -0.020546   0.183811 -0.015065  -0.007602 -1.150814 -0.401427   -0.033841   \n3   -0.020546   0.183811 -0.015065  -0.007602 -1.150814 -0.401427   -0.033841   \n4   -0.020546  -0.822018 -0.015065  -0.007602 -1.150814 -0.401427   -0.033841   \n\n    Recency  \n0 -0.854311  \n1 -0.767652  \n2 -0.196803  \n3  2.434192  \n4 -0.426965  ",
            "text/html": "<div>\n<style scoped>\n    .dataframe tbody tr th:only-of-type {\n        vertical-align: middle;\n    }\n\n    .dataframe tbody tr th {\n        vertical-align: top;\n    }\n\n    .dataframe thead th {\n        text-align: right;\n    }\n</style>\n<table border=\"1\" class=\"dataframe\">\n  <thead>\n    <tr style=\"text-align: right;\">\n      <th></th>\n      <th>brand</th>\n      <th>card</th>\n      <th>deposit</th>\n      <th>estate</th>\n      <th>event</th>\n      <th>exchange</th>\n      <th>fit</th>\n      <th>forex</th>\n      <th>fund</th>\n      <th>gift</th>\n      <th>giftbox</th>\n      <th>gold</th>\n      <th>guide</th>\n      <th>home</th>\n      <th>inquiry</th>\n      <th>insurance</th>\n      <th>irp</th>\n      <th>join</th>\n      <th>life</th>\n      <th>loan</th>\n      <th>main</th>\n      <th>management</th>\n      <th>marketing</th>\n      <th>mycard</th>\n      <th>othercard</th>\n      <th>remit</th>\n      <th>service</th>\n      <th>welcomebox</th>\n      <th>Recency</th>\n    </tr>\n  </thead>\n  <tbody>\n    <tr>\n      <th>0</th>\n      <td>-0.010369</td>\n      <td>-0.13996</td>\n      <td>-0.383266</td>\n      <td>-0.004878</td>\n      <td>-0.386203</td>\n      <td>-0.122596</td>\n      <td>-0.012215</td>\n      <td>-0.0567</td>\n      <td>-0.039921</td>\n      <td>-0.010586</td>\n      <td>-0.055231</td>\n      <td>-0.03359</td>\n      <td>-0.018354</td>\n      <td>-0.022333</td>\n      <td>1.902165</td>\n      <td>-0.034609</td>\n      <td>-0.094781</td>\n      <td>-0.080303</td>\n      <td>-0.367275</td>\n      <td>-0.235861</td>\n      <td>-0.259558</td>\n      <td>-0.020546</td>\n      <td>0.183811</td>\n      <td>-0.015065</td>\n      <td>-0.007602</td>\n      <td>0.641225</td>\n      <td>-0.401427</td>\n      <td>-0.033841</td>\n      <td>-0.854311</td>\n    </tr>\n    <tr>\n      <th>1</th>\n      <td>-0.010369</td>\n      <td>-0.13996</td>\n      <td>-0.383266</td>\n      <td>-0.004878</td>\n      <td>-0.386203</td>\n      <td>-0.122596</td>\n      <td>-0.012215</td>\n      <td>-0.0567</td>\n      <td>-0.039921</td>\n      <td>-0.010586</td>\n      <td>-0.055231</td>\n      <td>-0.03359</td>\n      <td>-0.018354</td>\n      <td>-0.022333</td>\n      <td>1.597663</td>\n      <td>-0.034609</td>\n      <td>-0.094781</td>\n      <td>-0.080303</td>\n      <td>-0.367275</td>\n      <td>-0.235861</td>\n      <td>-0.259558</td>\n      <td>-0.020546</td>\n      <td>0.183811</td>\n      <td>-0.015065</td>\n      <td>-0.007602</td>\n      <td>0.072443</td>\n      <td>-0.401427</td>\n      <td>-0.033841</td>\n      <td>-0.767652</td>\n    </tr>\n    <tr>\n      <th>2</th>\n      <td>-0.010369</td>\n      <td>-0.13996</td>\n      <td>1.198181</td>\n      <td>-0.004878</td>\n      <td>-0.386203</td>\n      <td>-0.122596</td>\n      <td>-0.012215</td>\n      <td>-0.0567</td>\n      <td>-0.039921</td>\n      <td>-0.010586</td>\n      <td>-0.055231</td>\n      <td>-0.03359</td>\n      <td>-0.018354</td>\n      <td>-0.022333</td>\n      <td>-1.074735</td>\n      <td>-0.034609</td>\n      <td>-0.094781</td>\n      <td>-0.080303</td>\n      <td>-0.367275</td>\n      <td>-0.235861</td>\n      <td>-0.259558</td>\n      <td>-0.020546</td>\n      <td>0.183811</td>\n      <td>-0.015065</td>\n      <td>-0.007602</td>\n      <td>-1.150814</td>\n      <td>-0.401427</td>\n      <td>-0.033841</td>\n      <td>-0.196803</td>\n    </tr>\n    <tr>\n      <th>3</th>\n      <td>-0.010369</td>\n      <td>-0.13996</td>\n      <td>-0.383266</td>\n      <td>-0.004878</td>\n      <td>-0.386203</td>\n      <td>3.278335</td>\n      <td>-0.012215</td>\n      <td>-0.0567</td>\n      <td>-0.039921</td>\n      <td>-0.010586</td>\n      <td>-0.055231</td>\n      <td>-0.03359</td>\n      <td>-0.018354</td>\n      <td>-0.022333</td>\n      <td>-0.270263</td>\n      <td>-0.034609</td>\n      <td>-0.094781</td>\n      <td>-0.080303</td>\n      <td>-0.367275</td>\n      <td>-0.235861</td>\n      <td>-0.259558</td>\n      <td>-0.020546</td>\n      <td>0.183811</td>\n      <td>-0.015065</td>\n      <td>-0.007602</td>\n      <td>-1.150814</td>\n      <td>-0.401427</td>\n      <td>-0.033841</td>\n      <td>2.434192</td>\n    </tr>\n    <tr>\n      <th>4</th>\n      <td>-0.010369</td>\n      <td>-0.13996</td>\n      <td>-0.383266</td>\n      <td>-0.004878</td>\n      <td>-0.386203</td>\n      <td>-0.122596</td>\n      <td>-0.012215</td>\n      <td>-0.0567</td>\n      <td>30.113353</td>\n      <td>-0.010586</td>\n      <td>-0.055231</td>\n      <td>-0.03359</td>\n      <td>-0.018354</td>\n      <td>-0.022333</td>\n      <td>-1.074735</td>\n      <td>-0.034609</td>\n      <td>-0.094781</td>\n      <td>-0.080303</td>\n      <td>-0.367275</td>\n      <td>-0.235861</td>\n      <td>-0.259558</td>\n      <td>-0.020546</td>\n      <td>-0.822018</td>\n      <td>-0.015065</td>\n      <td>-0.007602</td>\n      <td>-1.150814</td>\n      <td>-0.401427</td>\n      <td>-0.033841</td>\n      <td>-0.426965</td>\n    </tr>\n  </tbody>\n</table>\n</div>"
          },
          "metadata": {}
        }
      ]
    },
    {
      "cell_type": "code",
      "source": [
        "rfm_scaled_df.shape"
      ],
      "metadata": {
        "execution": {
          "iopub.status.busy": "2024-10-05T05:26:17.522752Z",
          "iopub.execute_input": "2024-10-05T05:26:17.523163Z",
          "iopub.status.idle": "2024-10-05T05:26:17.529916Z",
          "shell.execute_reply.started": "2024-10-05T05:26:17.523126Z",
          "shell.execute_reply": "2024-10-05T05:26:17.528625Z"
        },
        "trusted": true,
        "id": "CD0i7Atu-LDp",
        "outputId": "39fe0a67-b78c-4afc-b05a-76673c5bec42"
      },
      "execution_count": null,
      "outputs": [
        {
          "execution_count": 67,
          "output_type": "execute_result",
          "data": {
            "text/plain": "(744053, 30)"
          },
          "metadata": {}
        }
      ]
    },
    {
      "cell_type": "code",
      "source": [
        "# rfm_data의 순번 열(첫 번째 열) 선택\n",
        "sequence_column = rfm_data.iloc[:, 0]  # 1번 열(인덱스 0)\n",
        "\n",
        "# 순번 열을 rfm_scaled_df에 추가\n",
        "rfm_scaled_df['순번'] = sequence_column.values  # 'Sequence'라는 이름으로 추가\n",
        "\n",
        "# 결과 출력\n",
        "display(rfm_scaled_df.head(10))"
      ],
      "metadata": {
        "colab": {
          "base_uri": "https://localhost:8080/",
          "height": 400
        },
        "id": "8Ik8sWRVCrpp",
        "outputId": "ba10e229-c35e-41b5-891c-d0fe831fcb39",
        "execution": {
          "iopub.status.busy": "2024-10-05T05:24:59.463114Z",
          "iopub.execute_input": "2024-10-05T05:24:59.464111Z",
          "iopub.status.idle": "2024-10-05T05:24:59.499582Z",
          "shell.execute_reply.started": "2024-10-05T05:24:59.464061Z",
          "shell.execute_reply": "2024-10-05T05:24:59.498610Z"
        },
        "trusted": true
      },
      "execution_count": null,
      "outputs": [
        {
          "output_type": "display_data",
          "data": {
            "text/plain": "      brand     card   deposit    estate     event  exchange       fit  \\\n0 -0.010369 -0.13996 -0.383266 -0.004878 -0.386203 -0.122596 -0.012215   \n1 -0.010369 -0.13996 -0.383266 -0.004878 -0.386203 -0.122596 -0.012215   \n2 -0.010369 -0.13996  1.198181 -0.004878 -0.386203 -0.122596 -0.012215   \n3 -0.010369 -0.13996 -0.383266 -0.004878 -0.386203  3.278335 -0.012215   \n4 -0.010369 -0.13996 -0.383266 -0.004878 -0.386203 -0.122596 -0.012215   \n5 -0.010369 -0.13996 -0.383266 -0.004878 -0.386203 -0.122596 -0.012215   \n6 -0.010369 -0.13996 -0.383266 -0.004878 -0.386203 -0.122596 -0.012215   \n7 -0.010369 -0.13996 -0.383266 -0.004878 -0.386203 -0.122596 -0.012215   \n8 -0.010369 -0.13996 -0.383266 -0.004878 -0.386203 -0.122596 -0.012215   \n9 -0.010369 -0.13996 -0.383266 -0.004878 -0.386203 -0.122596 -0.012215   \n\n    forex       fund      gift   giftbox     gold     guide      home  \\\n0 -0.0567  -0.039921 -0.010586 -0.055231 -0.03359 -0.018354 -0.022333   \n1 -0.0567  -0.039921 -0.010586 -0.055231 -0.03359 -0.018354 -0.022333   \n2 -0.0567  -0.039921 -0.010586 -0.055231 -0.03359 -0.018354 -0.022333   \n3 -0.0567  -0.039921 -0.010586 -0.055231 -0.03359 -0.018354 -0.022333   \n4 -0.0567  30.113353 -0.010586 -0.055231 -0.03359 -0.018354 -0.022333   \n5 -0.0567  -0.039921 -0.010586 -0.055231 -0.03359 -0.018354 -0.022333   \n6 -0.0567  -0.039921 -0.010586 -0.055231 -0.03359 -0.018354 -0.022333   \n7 -0.0567  -0.039921 -0.010586 -0.055231 -0.03359 -0.018354 -0.022333   \n8 -0.0567  -0.039921 -0.010586 -0.055231 -0.03359 -0.018354 -0.022333   \n9 -0.0567  -0.039921 -0.010586 -0.055231 -0.03359 -0.018354 -0.022333   \n\n    inquiry  insurance       irp      join      life      loan      main  \\\n0  1.902165  -0.034609 -0.094781 -0.080303 -0.367275 -0.235861 -0.259558   \n1  1.597663  -0.034609 -0.094781 -0.080303 -0.367275 -0.235861 -0.259558   \n2 -1.074735  -0.034609 -0.094781 -0.080303 -0.367275 -0.235861 -0.259558   \n3 -0.270263  -0.034609 -0.094781 -0.080303 -0.367275 -0.235861 -0.259558   \n4 -1.074735  -0.034609 -0.094781 -0.080303 -0.367275 -0.235861 -0.259558   \n5 -1.074735  -0.034609 -0.094781 -0.080303 -0.367275 -0.235861 -0.259558   \n6 -0.270263  -0.034609 -0.094781 -0.080303 -0.367275 -0.235861 -0.259558   \n7 -0.270263  -0.034609 -0.094781 -0.080303 -0.367275 -0.235861 -0.259558   \n8  0.200323  -0.034609 -0.094781 -0.080303 -0.367275 -0.235861 -0.259558   \n9 -1.074735  -0.034609 -0.094781 -0.080303 -0.367275 -0.235861 -0.259558   \n\n   management  marketing    mycard  othercard     remit   service  welcomebox  \\\n0   -0.020546   0.183811 -0.015065  -0.007602  0.641225 -0.401427   -0.033841   \n1   -0.020546   0.183811 -0.015065  -0.007602  0.072443 -0.401427   -0.033841   \n2   -0.020546   0.183811 -0.015065  -0.007602 -1.150814 -0.401427   -0.033841   \n3   -0.020546   0.183811 -0.015065  -0.007602 -1.150814 -0.401427   -0.033841   \n4   -0.020546  -0.822018 -0.015065  -0.007602 -1.150814 -0.401427   -0.033841   \n5   -0.020546  -0.822018 -0.015065  -0.007602  0.072443 -0.401427   -0.033841   \n6   -0.020546   0.772183 -0.015065  -0.007602 -1.150814 -0.401427   -0.033841   \n7   -0.020546  -0.822018 -0.015065  -0.007602 -0.379025 -0.401427   -0.033841   \n8   -0.020546  -0.822018 -0.015065  -0.007602 -0.379025 -0.401427   -0.033841   \n9   -0.020546   0.183811 -0.015065  -0.007602 -0.379025 -0.401427   -0.033841   \n\n    Recency  순번  \n0 -0.854311   1  \n1 -0.767652   2  \n2 -0.196803   4  \n3  2.434192   5  \n4 -0.426965   6  \n5  1.819885   7  \n6 -0.152329   8  \n7 -0.073161   9  \n8  0.202519  10  \n9  0.190545  11  ",
            "text/html": "<div>\n<style scoped>\n    .dataframe tbody tr th:only-of-type {\n        vertical-align: middle;\n    }\n\n    .dataframe tbody tr th {\n        vertical-align: top;\n    }\n\n    .dataframe thead th {\n        text-align: right;\n    }\n</style>\n<table border=\"1\" class=\"dataframe\">\n  <thead>\n    <tr style=\"text-align: right;\">\n      <th></th>\n      <th>brand</th>\n      <th>card</th>\n      <th>deposit</th>\n      <th>estate</th>\n      <th>event</th>\n      <th>exchange</th>\n      <th>fit</th>\n      <th>forex</th>\n      <th>fund</th>\n      <th>gift</th>\n      <th>giftbox</th>\n      <th>gold</th>\n      <th>guide</th>\n      <th>home</th>\n      <th>inquiry</th>\n      <th>insurance</th>\n      <th>irp</th>\n      <th>join</th>\n      <th>life</th>\n      <th>loan</th>\n      <th>main</th>\n      <th>management</th>\n      <th>marketing</th>\n      <th>mycard</th>\n      <th>othercard</th>\n      <th>remit</th>\n      <th>service</th>\n      <th>welcomebox</th>\n      <th>Recency</th>\n      <th>순번</th>\n    </tr>\n  </thead>\n  <tbody>\n    <tr>\n      <th>0</th>\n      <td>-0.010369</td>\n      <td>-0.13996</td>\n      <td>-0.383266</td>\n      <td>-0.004878</td>\n      <td>-0.386203</td>\n      <td>-0.122596</td>\n      <td>-0.012215</td>\n      <td>-0.0567</td>\n      <td>-0.039921</td>\n      <td>-0.010586</td>\n      <td>-0.055231</td>\n      <td>-0.03359</td>\n      <td>-0.018354</td>\n      <td>-0.022333</td>\n      <td>1.902165</td>\n      <td>-0.034609</td>\n      <td>-0.094781</td>\n      <td>-0.080303</td>\n      <td>-0.367275</td>\n      <td>-0.235861</td>\n      <td>-0.259558</td>\n      <td>-0.020546</td>\n      <td>0.183811</td>\n      <td>-0.015065</td>\n      <td>-0.007602</td>\n      <td>0.641225</td>\n      <td>-0.401427</td>\n      <td>-0.033841</td>\n      <td>-0.854311</td>\n      <td>1</td>\n    </tr>\n    <tr>\n      <th>1</th>\n      <td>-0.010369</td>\n      <td>-0.13996</td>\n      <td>-0.383266</td>\n      <td>-0.004878</td>\n      <td>-0.386203</td>\n      <td>-0.122596</td>\n      <td>-0.012215</td>\n      <td>-0.0567</td>\n      <td>-0.039921</td>\n      <td>-0.010586</td>\n      <td>-0.055231</td>\n      <td>-0.03359</td>\n      <td>-0.018354</td>\n      <td>-0.022333</td>\n      <td>1.597663</td>\n      <td>-0.034609</td>\n      <td>-0.094781</td>\n      <td>-0.080303</td>\n      <td>-0.367275</td>\n      <td>-0.235861</td>\n      <td>-0.259558</td>\n      <td>-0.020546</td>\n      <td>0.183811</td>\n      <td>-0.015065</td>\n      <td>-0.007602</td>\n      <td>0.072443</td>\n      <td>-0.401427</td>\n      <td>-0.033841</td>\n      <td>-0.767652</td>\n      <td>2</td>\n    </tr>\n    <tr>\n      <th>2</th>\n      <td>-0.010369</td>\n      <td>-0.13996</td>\n      <td>1.198181</td>\n      <td>-0.004878</td>\n      <td>-0.386203</td>\n      <td>-0.122596</td>\n      <td>-0.012215</td>\n      <td>-0.0567</td>\n      <td>-0.039921</td>\n      <td>-0.010586</td>\n      <td>-0.055231</td>\n      <td>-0.03359</td>\n      <td>-0.018354</td>\n      <td>-0.022333</td>\n      <td>-1.074735</td>\n      <td>-0.034609</td>\n      <td>-0.094781</td>\n      <td>-0.080303</td>\n      <td>-0.367275</td>\n      <td>-0.235861</td>\n      <td>-0.259558</td>\n      <td>-0.020546</td>\n      <td>0.183811</td>\n      <td>-0.015065</td>\n      <td>-0.007602</td>\n      <td>-1.150814</td>\n      <td>-0.401427</td>\n      <td>-0.033841</td>\n      <td>-0.196803</td>\n      <td>4</td>\n    </tr>\n    <tr>\n      <th>3</th>\n      <td>-0.010369</td>\n      <td>-0.13996</td>\n      <td>-0.383266</td>\n      <td>-0.004878</td>\n      <td>-0.386203</td>\n      <td>3.278335</td>\n      <td>-0.012215</td>\n      <td>-0.0567</td>\n      <td>-0.039921</td>\n      <td>-0.010586</td>\n      <td>-0.055231</td>\n      <td>-0.03359</td>\n      <td>-0.018354</td>\n      <td>-0.022333</td>\n      <td>-0.270263</td>\n      <td>-0.034609</td>\n      <td>-0.094781</td>\n      <td>-0.080303</td>\n      <td>-0.367275</td>\n      <td>-0.235861</td>\n      <td>-0.259558</td>\n      <td>-0.020546</td>\n      <td>0.183811</td>\n      <td>-0.015065</td>\n      <td>-0.007602</td>\n      <td>-1.150814</td>\n      <td>-0.401427</td>\n      <td>-0.033841</td>\n      <td>2.434192</td>\n      <td>5</td>\n    </tr>\n    <tr>\n      <th>4</th>\n      <td>-0.010369</td>\n      <td>-0.13996</td>\n      <td>-0.383266</td>\n      <td>-0.004878</td>\n      <td>-0.386203</td>\n      <td>-0.122596</td>\n      <td>-0.012215</td>\n      <td>-0.0567</td>\n      <td>30.113353</td>\n      <td>-0.010586</td>\n      <td>-0.055231</td>\n      <td>-0.03359</td>\n      <td>-0.018354</td>\n      <td>-0.022333</td>\n      <td>-1.074735</td>\n      <td>-0.034609</td>\n      <td>-0.094781</td>\n      <td>-0.080303</td>\n      <td>-0.367275</td>\n      <td>-0.235861</td>\n      <td>-0.259558</td>\n      <td>-0.020546</td>\n      <td>-0.822018</td>\n      <td>-0.015065</td>\n      <td>-0.007602</td>\n      <td>-1.150814</td>\n      <td>-0.401427</td>\n      <td>-0.033841</td>\n      <td>-0.426965</td>\n      <td>6</td>\n    </tr>\n    <tr>\n      <th>5</th>\n      <td>-0.010369</td>\n      <td>-0.13996</td>\n      <td>-0.383266</td>\n      <td>-0.004878</td>\n      <td>-0.386203</td>\n      <td>-0.122596</td>\n      <td>-0.012215</td>\n      <td>-0.0567</td>\n      <td>-0.039921</td>\n      <td>-0.010586</td>\n      <td>-0.055231</td>\n      <td>-0.03359</td>\n      <td>-0.018354</td>\n      <td>-0.022333</td>\n      <td>-1.074735</td>\n      <td>-0.034609</td>\n      <td>-0.094781</td>\n      <td>-0.080303</td>\n      <td>-0.367275</td>\n      <td>-0.235861</td>\n      <td>-0.259558</td>\n      <td>-0.020546</td>\n      <td>-0.822018</td>\n      <td>-0.015065</td>\n      <td>-0.007602</td>\n      <td>0.072443</td>\n      <td>-0.401427</td>\n      <td>-0.033841</td>\n      <td>1.819885</td>\n      <td>7</td>\n    </tr>\n    <tr>\n      <th>6</th>\n      <td>-0.010369</td>\n      <td>-0.13996</td>\n      <td>-0.383266</td>\n      <td>-0.004878</td>\n      <td>-0.386203</td>\n      <td>-0.122596</td>\n      <td>-0.012215</td>\n      <td>-0.0567</td>\n      <td>-0.039921</td>\n      <td>-0.010586</td>\n      <td>-0.055231</td>\n      <td>-0.03359</td>\n      <td>-0.018354</td>\n      <td>-0.022333</td>\n      <td>-0.270263</td>\n      <td>-0.034609</td>\n      <td>-0.094781</td>\n      <td>-0.080303</td>\n      <td>-0.367275</td>\n      <td>-0.235861</td>\n      <td>-0.259558</td>\n      <td>-0.020546</td>\n      <td>0.772183</td>\n      <td>-0.015065</td>\n      <td>-0.007602</td>\n      <td>-1.150814</td>\n      <td>-0.401427</td>\n      <td>-0.033841</td>\n      <td>-0.152329</td>\n      <td>8</td>\n    </tr>\n    <tr>\n      <th>7</th>\n      <td>-0.010369</td>\n      <td>-0.13996</td>\n      <td>-0.383266</td>\n      <td>-0.004878</td>\n      <td>-0.386203</td>\n      <td>-0.122596</td>\n      <td>-0.012215</td>\n      <td>-0.0567</td>\n      <td>-0.039921</td>\n      <td>-0.010586</td>\n      <td>-0.055231</td>\n      <td>-0.03359</td>\n      <td>-0.018354</td>\n      <td>-0.022333</td>\n      <td>-0.270263</td>\n      <td>-0.034609</td>\n      <td>-0.094781</td>\n      <td>-0.080303</td>\n      <td>-0.367275</td>\n      <td>-0.235861</td>\n      <td>-0.259558</td>\n      <td>-0.020546</td>\n      <td>-0.822018</td>\n      <td>-0.015065</td>\n      <td>-0.007602</td>\n      <td>-0.379025</td>\n      <td>-0.401427</td>\n      <td>-0.033841</td>\n      <td>-0.073161</td>\n      <td>9</td>\n    </tr>\n    <tr>\n      <th>8</th>\n      <td>-0.010369</td>\n      <td>-0.13996</td>\n      <td>-0.383266</td>\n      <td>-0.004878</td>\n      <td>-0.386203</td>\n      <td>-0.122596</td>\n      <td>-0.012215</td>\n      <td>-0.0567</td>\n      <td>-0.039921</td>\n      <td>-0.010586</td>\n      <td>-0.055231</td>\n      <td>-0.03359</td>\n      <td>-0.018354</td>\n      <td>-0.022333</td>\n      <td>0.200323</td>\n      <td>-0.034609</td>\n      <td>-0.094781</td>\n      <td>-0.080303</td>\n      <td>-0.367275</td>\n      <td>-0.235861</td>\n      <td>-0.259558</td>\n      <td>-0.020546</td>\n      <td>-0.822018</td>\n      <td>-0.015065</td>\n      <td>-0.007602</td>\n      <td>-0.379025</td>\n      <td>-0.401427</td>\n      <td>-0.033841</td>\n      <td>0.202519</td>\n      <td>10</td>\n    </tr>\n    <tr>\n      <th>9</th>\n      <td>-0.010369</td>\n      <td>-0.13996</td>\n      <td>-0.383266</td>\n      <td>-0.004878</td>\n      <td>-0.386203</td>\n      <td>-0.122596</td>\n      <td>-0.012215</td>\n      <td>-0.0567</td>\n      <td>-0.039921</td>\n      <td>-0.010586</td>\n      <td>-0.055231</td>\n      <td>-0.03359</td>\n      <td>-0.018354</td>\n      <td>-0.022333</td>\n      <td>-1.074735</td>\n      <td>-0.034609</td>\n      <td>-0.094781</td>\n      <td>-0.080303</td>\n      <td>-0.367275</td>\n      <td>-0.235861</td>\n      <td>-0.259558</td>\n      <td>-0.020546</td>\n      <td>0.183811</td>\n      <td>-0.015065</td>\n      <td>-0.007602</td>\n      <td>-0.379025</td>\n      <td>-0.401427</td>\n      <td>-0.033841</td>\n      <td>0.190545</td>\n      <td>11</td>\n    </tr>\n  </tbody>\n</table>\n</div>"
          },
          "metadata": {}
        }
      ]
    },
    {
      "cell_type": "code",
      "source": [
        "rfm_df.shape"
      ],
      "metadata": {
        "execution": {
          "iopub.status.busy": "2024-10-05T05:50:14.515534Z",
          "iopub.execute_input": "2024-10-05T05:50:14.516650Z",
          "iopub.status.idle": "2024-10-05T05:50:14.523179Z",
          "shell.execute_reply.started": "2024-10-05T05:50:14.516600Z",
          "shell.execute_reply": "2024-10-05T05:50:14.522011Z"
        },
        "trusted": true,
        "id": "5PAQxkId-LDy",
        "outputId": "fd483880-9fae-42d3-9482-f6083867f9a9"
      },
      "execution_count": null,
      "outputs": [
        {
          "execution_count": 98,
          "output_type": "execute_result",
          "data": {
            "text/plain": "(744053, 31)"
          },
          "metadata": {}
        }
      ]
    },
    {
      "cell_type": "code",
      "source": [
        "column = rfm_df.iloc[:, [0, 29]]  # 30번째 열 선택\n",
        "display(column.head(30))"
      ],
      "metadata": {
        "colab": {
          "base_uri": "https://localhost:8080/",
          "height": 990
        },
        "id": "DdkECD-RBoUX",
        "outputId": "870f8d7b-54dc-4e1c-c5ba-d0c2c09bf11e",
        "execution": {
          "iopub.status.busy": "2024-10-05T05:24:59.500760Z",
          "iopub.execute_input": "2024-10-05T05:24:59.501095Z",
          "iopub.status.idle": "2024-10-05T05:24:59.525331Z",
          "shell.execute_reply.started": "2024-10-05T05:24:59.501063Z",
          "shell.execute_reply": "2024-10-05T05:24:59.524344Z"
        },
        "trusted": true
      },
      "execution_count": null,
      "outputs": [
        {
          "output_type": "display_data",
          "data": {
            "text/plain": "    순번 카드사용액\n0    1     4\n1    2     6\n2    4     0\n3    5     6\n4    6     0\n5    7     0\n6    8     5\n7    9     0\n8   10     2\n9   11     6\n10  12     5\n11  13     8\n12  14     0\n13  15     0\n14  16     7\n15  17     2\n16  18     6\n17  19     0\n18  20     5\n19  21     0\n20  22     4\n21  23     7\n22  24     5\n23  25     7\n24  26     0\n25  27     3\n26  30     4\n27  31     0\n28  32     8\n29  33     5",
            "text/html": "<div>\n<style scoped>\n    .dataframe tbody tr th:only-of-type {\n        vertical-align: middle;\n    }\n\n    .dataframe tbody tr th {\n        vertical-align: top;\n    }\n\n    .dataframe thead th {\n        text-align: right;\n    }\n</style>\n<table border=\"1\" class=\"dataframe\">\n  <thead>\n    <tr style=\"text-align: right;\">\n      <th></th>\n      <th>순번</th>\n      <th>카드사용액</th>\n    </tr>\n  </thead>\n  <tbody>\n    <tr>\n      <th>0</th>\n      <td>1</td>\n      <td>4</td>\n    </tr>\n    <tr>\n      <th>1</th>\n      <td>2</td>\n      <td>6</td>\n    </tr>\n    <tr>\n      <th>2</th>\n      <td>4</td>\n      <td>0</td>\n    </tr>\n    <tr>\n      <th>3</th>\n      <td>5</td>\n      <td>6</td>\n    </tr>\n    <tr>\n      <th>4</th>\n      <td>6</td>\n      <td>0</td>\n    </tr>\n    <tr>\n      <th>5</th>\n      <td>7</td>\n      <td>0</td>\n    </tr>\n    <tr>\n      <th>6</th>\n      <td>8</td>\n      <td>5</td>\n    </tr>\n    <tr>\n      <th>7</th>\n      <td>9</td>\n      <td>0</td>\n    </tr>\n    <tr>\n      <th>8</th>\n      <td>10</td>\n      <td>2</td>\n    </tr>\n    <tr>\n      <th>9</th>\n      <td>11</td>\n      <td>6</td>\n    </tr>\n    <tr>\n      <th>10</th>\n      <td>12</td>\n      <td>5</td>\n    </tr>\n    <tr>\n      <th>11</th>\n      <td>13</td>\n      <td>8</td>\n    </tr>\n    <tr>\n      <th>12</th>\n      <td>14</td>\n      <td>0</td>\n    </tr>\n    <tr>\n      <th>13</th>\n      <td>15</td>\n      <td>0</td>\n    </tr>\n    <tr>\n      <th>14</th>\n      <td>16</td>\n      <td>7</td>\n    </tr>\n    <tr>\n      <th>15</th>\n      <td>17</td>\n      <td>2</td>\n    </tr>\n    <tr>\n      <th>16</th>\n      <td>18</td>\n      <td>6</td>\n    </tr>\n    <tr>\n      <th>17</th>\n      <td>19</td>\n      <td>0</td>\n    </tr>\n    <tr>\n      <th>18</th>\n      <td>20</td>\n      <td>5</td>\n    </tr>\n    <tr>\n      <th>19</th>\n      <td>21</td>\n      <td>0</td>\n    </tr>\n    <tr>\n      <th>20</th>\n      <td>22</td>\n      <td>4</td>\n    </tr>\n    <tr>\n      <th>21</th>\n      <td>23</td>\n      <td>7</td>\n    </tr>\n    <tr>\n      <th>22</th>\n      <td>24</td>\n      <td>5</td>\n    </tr>\n    <tr>\n      <th>23</th>\n      <td>25</td>\n      <td>7</td>\n    </tr>\n    <tr>\n      <th>24</th>\n      <td>26</td>\n      <td>0</td>\n    </tr>\n    <tr>\n      <th>25</th>\n      <td>27</td>\n      <td>3</td>\n    </tr>\n    <tr>\n      <th>26</th>\n      <td>30</td>\n      <td>4</td>\n    </tr>\n    <tr>\n      <th>27</th>\n      <td>31</td>\n      <td>0</td>\n    </tr>\n    <tr>\n      <th>28</th>\n      <td>32</td>\n      <td>8</td>\n    </tr>\n    <tr>\n      <th>29</th>\n      <td>33</td>\n      <td>5</td>\n    </tr>\n  </tbody>\n</table>\n</div>"
          },
          "metadata": {}
        }
      ]
    },
    {
      "cell_type": "code",
      "source": [
        "rfm_scaled_df.shape"
      ],
      "metadata": {
        "execution": {
          "iopub.status.busy": "2024-10-05T05:25:48.111714Z",
          "iopub.execute_input": "2024-10-05T05:25:48.112535Z",
          "iopub.status.idle": "2024-10-05T05:25:48.119002Z",
          "shell.execute_reply.started": "2024-10-05T05:25:48.112493Z",
          "shell.execute_reply": "2024-10-05T05:25:48.117862Z"
        },
        "trusted": true,
        "id": "tIyU1Ljg-LDz",
        "outputId": "d79380ce-68f0-4941-b49a-8312f7f06e98"
      },
      "execution_count": null,
      "outputs": [
        {
          "execution_count": 66,
          "output_type": "execute_result",
          "data": {
            "text/plain": "(744053, 30)"
          },
          "metadata": {}
        }
      ]
    },
    {
      "cell_type": "code",
      "source": [
        "final = rfm_scaled_df.merge(column, on='순번', how='left')"
      ],
      "metadata": {
        "id": "lEmYXtRkCQSg",
        "execution": {
          "iopub.status.busy": "2024-10-05T05:24:59.526508Z",
          "iopub.execute_input": "2024-10-05T05:24:59.526797Z",
          "iopub.status.idle": "2024-10-05T05:24:59.621081Z",
          "shell.execute_reply.started": "2024-10-05T05:24:59.526767Z",
          "shell.execute_reply": "2024-10-05T05:24:59.619970Z"
        },
        "trusted": true
      },
      "execution_count": null,
      "outputs": []
    },
    {
      "cell_type": "code",
      "source": [
        "display(final.head(10))\n",
        "display(final.shape)"
      ],
      "metadata": {
        "colab": {
          "base_uri": "https://localhost:8080/",
          "height": 470
        },
        "id": "d6miNz2cC6iJ",
        "outputId": "43505cc6-3b3c-44d1-b456-8f5ad78af435",
        "execution": {
          "iopub.status.busy": "2024-10-05T05:24:59.622530Z",
          "iopub.execute_input": "2024-10-05T05:24:59.622920Z",
          "iopub.status.idle": "2024-10-05T05:24:59.659096Z",
          "shell.execute_reply.started": "2024-10-05T05:24:59.622879Z",
          "shell.execute_reply": "2024-10-05T05:24:59.657859Z"
        },
        "trusted": true
      },
      "execution_count": null,
      "outputs": [
        {
          "output_type": "display_data",
          "data": {
            "text/plain": "      brand     card   deposit    estate     event  exchange       fit  \\\n0 -0.010369 -0.13996 -0.383266 -0.004878 -0.386203 -0.122596 -0.012215   \n1 -0.010369 -0.13996 -0.383266 -0.004878 -0.386203 -0.122596 -0.012215   \n2 -0.010369 -0.13996  1.198181 -0.004878 -0.386203 -0.122596 -0.012215   \n3 -0.010369 -0.13996 -0.383266 -0.004878 -0.386203  3.278335 -0.012215   \n4 -0.010369 -0.13996 -0.383266 -0.004878 -0.386203 -0.122596 -0.012215   \n5 -0.010369 -0.13996 -0.383266 -0.004878 -0.386203 -0.122596 -0.012215   \n6 -0.010369 -0.13996 -0.383266 -0.004878 -0.386203 -0.122596 -0.012215   \n7 -0.010369 -0.13996 -0.383266 -0.004878 -0.386203 -0.122596 -0.012215   \n8 -0.010369 -0.13996 -0.383266 -0.004878 -0.386203 -0.122596 -0.012215   \n9 -0.010369 -0.13996 -0.383266 -0.004878 -0.386203 -0.122596 -0.012215   \n\n    forex       fund      gift   giftbox     gold     guide      home  \\\n0 -0.0567  -0.039921 -0.010586 -0.055231 -0.03359 -0.018354 -0.022333   \n1 -0.0567  -0.039921 -0.010586 -0.055231 -0.03359 -0.018354 -0.022333   \n2 -0.0567  -0.039921 -0.010586 -0.055231 -0.03359 -0.018354 -0.022333   \n3 -0.0567  -0.039921 -0.010586 -0.055231 -0.03359 -0.018354 -0.022333   \n4 -0.0567  30.113353 -0.010586 -0.055231 -0.03359 -0.018354 -0.022333   \n5 -0.0567  -0.039921 -0.010586 -0.055231 -0.03359 -0.018354 -0.022333   \n6 -0.0567  -0.039921 -0.010586 -0.055231 -0.03359 -0.018354 -0.022333   \n7 -0.0567  -0.039921 -0.010586 -0.055231 -0.03359 -0.018354 -0.022333   \n8 -0.0567  -0.039921 -0.010586 -0.055231 -0.03359 -0.018354 -0.022333   \n9 -0.0567  -0.039921 -0.010586 -0.055231 -0.03359 -0.018354 -0.022333   \n\n    inquiry  insurance       irp      join      life      loan      main  \\\n0  1.902165  -0.034609 -0.094781 -0.080303 -0.367275 -0.235861 -0.259558   \n1  1.597663  -0.034609 -0.094781 -0.080303 -0.367275 -0.235861 -0.259558   \n2 -1.074735  -0.034609 -0.094781 -0.080303 -0.367275 -0.235861 -0.259558   \n3 -0.270263  -0.034609 -0.094781 -0.080303 -0.367275 -0.235861 -0.259558   \n4 -1.074735  -0.034609 -0.094781 -0.080303 -0.367275 -0.235861 -0.259558   \n5 -1.074735  -0.034609 -0.094781 -0.080303 -0.367275 -0.235861 -0.259558   \n6 -0.270263  -0.034609 -0.094781 -0.080303 -0.367275 -0.235861 -0.259558   \n7 -0.270263  -0.034609 -0.094781 -0.080303 -0.367275 -0.235861 -0.259558   \n8  0.200323  -0.034609 -0.094781 -0.080303 -0.367275 -0.235861 -0.259558   \n9 -1.074735  -0.034609 -0.094781 -0.080303 -0.367275 -0.235861 -0.259558   \n\n   management  marketing    mycard  othercard     remit   service  welcomebox  \\\n0   -0.020546   0.183811 -0.015065  -0.007602  0.641225 -0.401427   -0.033841   \n1   -0.020546   0.183811 -0.015065  -0.007602  0.072443 -0.401427   -0.033841   \n2   -0.020546   0.183811 -0.015065  -0.007602 -1.150814 -0.401427   -0.033841   \n3   -0.020546   0.183811 -0.015065  -0.007602 -1.150814 -0.401427   -0.033841   \n4   -0.020546  -0.822018 -0.015065  -0.007602 -1.150814 -0.401427   -0.033841   \n5   -0.020546  -0.822018 -0.015065  -0.007602  0.072443 -0.401427   -0.033841   \n6   -0.020546   0.772183 -0.015065  -0.007602 -1.150814 -0.401427   -0.033841   \n7   -0.020546  -0.822018 -0.015065  -0.007602 -0.379025 -0.401427   -0.033841   \n8   -0.020546  -0.822018 -0.015065  -0.007602 -0.379025 -0.401427   -0.033841   \n9   -0.020546   0.183811 -0.015065  -0.007602 -0.379025 -0.401427   -0.033841   \n\n    Recency  순번 카드사용액  \n0 -0.854311   1     4  \n1 -0.767652   2     6  \n2 -0.196803   4     0  \n3  2.434192   5     6  \n4 -0.426965   6     0  \n5  1.819885   7     0  \n6 -0.152329   8     5  \n7 -0.073161   9     0  \n8  0.202519  10     2  \n9  0.190545  11     6  ",
            "text/html": "<div>\n<style scoped>\n    .dataframe tbody tr th:only-of-type {\n        vertical-align: middle;\n    }\n\n    .dataframe tbody tr th {\n        vertical-align: top;\n    }\n\n    .dataframe thead th {\n        text-align: right;\n    }\n</style>\n<table border=\"1\" class=\"dataframe\">\n  <thead>\n    <tr style=\"text-align: right;\">\n      <th></th>\n      <th>brand</th>\n      <th>card</th>\n      <th>deposit</th>\n      <th>estate</th>\n      <th>event</th>\n      <th>exchange</th>\n      <th>fit</th>\n      <th>forex</th>\n      <th>fund</th>\n      <th>gift</th>\n      <th>giftbox</th>\n      <th>gold</th>\n      <th>guide</th>\n      <th>home</th>\n      <th>inquiry</th>\n      <th>insurance</th>\n      <th>irp</th>\n      <th>join</th>\n      <th>life</th>\n      <th>loan</th>\n      <th>main</th>\n      <th>management</th>\n      <th>marketing</th>\n      <th>mycard</th>\n      <th>othercard</th>\n      <th>remit</th>\n      <th>service</th>\n      <th>welcomebox</th>\n      <th>Recency</th>\n      <th>순번</th>\n      <th>카드사용액</th>\n    </tr>\n  </thead>\n  <tbody>\n    <tr>\n      <th>0</th>\n      <td>-0.010369</td>\n      <td>-0.13996</td>\n      <td>-0.383266</td>\n      <td>-0.004878</td>\n      <td>-0.386203</td>\n      <td>-0.122596</td>\n      <td>-0.012215</td>\n      <td>-0.0567</td>\n      <td>-0.039921</td>\n      <td>-0.010586</td>\n      <td>-0.055231</td>\n      <td>-0.03359</td>\n      <td>-0.018354</td>\n      <td>-0.022333</td>\n      <td>1.902165</td>\n      <td>-0.034609</td>\n      <td>-0.094781</td>\n      <td>-0.080303</td>\n      <td>-0.367275</td>\n      <td>-0.235861</td>\n      <td>-0.259558</td>\n      <td>-0.020546</td>\n      <td>0.183811</td>\n      <td>-0.015065</td>\n      <td>-0.007602</td>\n      <td>0.641225</td>\n      <td>-0.401427</td>\n      <td>-0.033841</td>\n      <td>-0.854311</td>\n      <td>1</td>\n      <td>4</td>\n    </tr>\n    <tr>\n      <th>1</th>\n      <td>-0.010369</td>\n      <td>-0.13996</td>\n      <td>-0.383266</td>\n      <td>-0.004878</td>\n      <td>-0.386203</td>\n      <td>-0.122596</td>\n      <td>-0.012215</td>\n      <td>-0.0567</td>\n      <td>-0.039921</td>\n      <td>-0.010586</td>\n      <td>-0.055231</td>\n      <td>-0.03359</td>\n      <td>-0.018354</td>\n      <td>-0.022333</td>\n      <td>1.597663</td>\n      <td>-0.034609</td>\n      <td>-0.094781</td>\n      <td>-0.080303</td>\n      <td>-0.367275</td>\n      <td>-0.235861</td>\n      <td>-0.259558</td>\n      <td>-0.020546</td>\n      <td>0.183811</td>\n      <td>-0.015065</td>\n      <td>-0.007602</td>\n      <td>0.072443</td>\n      <td>-0.401427</td>\n      <td>-0.033841</td>\n      <td>-0.767652</td>\n      <td>2</td>\n      <td>6</td>\n    </tr>\n    <tr>\n      <th>2</th>\n      <td>-0.010369</td>\n      <td>-0.13996</td>\n      <td>1.198181</td>\n      <td>-0.004878</td>\n      <td>-0.386203</td>\n      <td>-0.122596</td>\n      <td>-0.012215</td>\n      <td>-0.0567</td>\n      <td>-0.039921</td>\n      <td>-0.010586</td>\n      <td>-0.055231</td>\n      <td>-0.03359</td>\n      <td>-0.018354</td>\n      <td>-0.022333</td>\n      <td>-1.074735</td>\n      <td>-0.034609</td>\n      <td>-0.094781</td>\n      <td>-0.080303</td>\n      <td>-0.367275</td>\n      <td>-0.235861</td>\n      <td>-0.259558</td>\n      <td>-0.020546</td>\n      <td>0.183811</td>\n      <td>-0.015065</td>\n      <td>-0.007602</td>\n      <td>-1.150814</td>\n      <td>-0.401427</td>\n      <td>-0.033841</td>\n      <td>-0.196803</td>\n      <td>4</td>\n      <td>0</td>\n    </tr>\n    <tr>\n      <th>3</th>\n      <td>-0.010369</td>\n      <td>-0.13996</td>\n      <td>-0.383266</td>\n      <td>-0.004878</td>\n      <td>-0.386203</td>\n      <td>3.278335</td>\n      <td>-0.012215</td>\n      <td>-0.0567</td>\n      <td>-0.039921</td>\n      <td>-0.010586</td>\n      <td>-0.055231</td>\n      <td>-0.03359</td>\n      <td>-0.018354</td>\n      <td>-0.022333</td>\n      <td>-0.270263</td>\n      <td>-0.034609</td>\n      <td>-0.094781</td>\n      <td>-0.080303</td>\n      <td>-0.367275</td>\n      <td>-0.235861</td>\n      <td>-0.259558</td>\n      <td>-0.020546</td>\n      <td>0.183811</td>\n      <td>-0.015065</td>\n      <td>-0.007602</td>\n      <td>-1.150814</td>\n      <td>-0.401427</td>\n      <td>-0.033841</td>\n      <td>2.434192</td>\n      <td>5</td>\n      <td>6</td>\n    </tr>\n    <tr>\n      <th>4</th>\n      <td>-0.010369</td>\n      <td>-0.13996</td>\n      <td>-0.383266</td>\n      <td>-0.004878</td>\n      <td>-0.386203</td>\n      <td>-0.122596</td>\n      <td>-0.012215</td>\n      <td>-0.0567</td>\n      <td>30.113353</td>\n      <td>-0.010586</td>\n      <td>-0.055231</td>\n      <td>-0.03359</td>\n      <td>-0.018354</td>\n      <td>-0.022333</td>\n      <td>-1.074735</td>\n      <td>-0.034609</td>\n      <td>-0.094781</td>\n      <td>-0.080303</td>\n      <td>-0.367275</td>\n      <td>-0.235861</td>\n      <td>-0.259558</td>\n      <td>-0.020546</td>\n      <td>-0.822018</td>\n      <td>-0.015065</td>\n      <td>-0.007602</td>\n      <td>-1.150814</td>\n      <td>-0.401427</td>\n      <td>-0.033841</td>\n      <td>-0.426965</td>\n      <td>6</td>\n      <td>0</td>\n    </tr>\n    <tr>\n      <th>5</th>\n      <td>-0.010369</td>\n      <td>-0.13996</td>\n      <td>-0.383266</td>\n      <td>-0.004878</td>\n      <td>-0.386203</td>\n      <td>-0.122596</td>\n      <td>-0.012215</td>\n      <td>-0.0567</td>\n      <td>-0.039921</td>\n      <td>-0.010586</td>\n      <td>-0.055231</td>\n      <td>-0.03359</td>\n      <td>-0.018354</td>\n      <td>-0.022333</td>\n      <td>-1.074735</td>\n      <td>-0.034609</td>\n      <td>-0.094781</td>\n      <td>-0.080303</td>\n      <td>-0.367275</td>\n      <td>-0.235861</td>\n      <td>-0.259558</td>\n      <td>-0.020546</td>\n      <td>-0.822018</td>\n      <td>-0.015065</td>\n      <td>-0.007602</td>\n      <td>0.072443</td>\n      <td>-0.401427</td>\n      <td>-0.033841</td>\n      <td>1.819885</td>\n      <td>7</td>\n      <td>0</td>\n    </tr>\n    <tr>\n      <th>6</th>\n      <td>-0.010369</td>\n      <td>-0.13996</td>\n      <td>-0.383266</td>\n      <td>-0.004878</td>\n      <td>-0.386203</td>\n      <td>-0.122596</td>\n      <td>-0.012215</td>\n      <td>-0.0567</td>\n      <td>-0.039921</td>\n      <td>-0.010586</td>\n      <td>-0.055231</td>\n      <td>-0.03359</td>\n      <td>-0.018354</td>\n      <td>-0.022333</td>\n      <td>-0.270263</td>\n      <td>-0.034609</td>\n      <td>-0.094781</td>\n      <td>-0.080303</td>\n      <td>-0.367275</td>\n      <td>-0.235861</td>\n      <td>-0.259558</td>\n      <td>-0.020546</td>\n      <td>0.772183</td>\n      <td>-0.015065</td>\n      <td>-0.007602</td>\n      <td>-1.150814</td>\n      <td>-0.401427</td>\n      <td>-0.033841</td>\n      <td>-0.152329</td>\n      <td>8</td>\n      <td>5</td>\n    </tr>\n    <tr>\n      <th>7</th>\n      <td>-0.010369</td>\n      <td>-0.13996</td>\n      <td>-0.383266</td>\n      <td>-0.004878</td>\n      <td>-0.386203</td>\n      <td>-0.122596</td>\n      <td>-0.012215</td>\n      <td>-0.0567</td>\n      <td>-0.039921</td>\n      <td>-0.010586</td>\n      <td>-0.055231</td>\n      <td>-0.03359</td>\n      <td>-0.018354</td>\n      <td>-0.022333</td>\n      <td>-0.270263</td>\n      <td>-0.034609</td>\n      <td>-0.094781</td>\n      <td>-0.080303</td>\n      <td>-0.367275</td>\n      <td>-0.235861</td>\n      <td>-0.259558</td>\n      <td>-0.020546</td>\n      <td>-0.822018</td>\n      <td>-0.015065</td>\n      <td>-0.007602</td>\n      <td>-0.379025</td>\n      <td>-0.401427</td>\n      <td>-0.033841</td>\n      <td>-0.073161</td>\n      <td>9</td>\n      <td>0</td>\n    </tr>\n    <tr>\n      <th>8</th>\n      <td>-0.010369</td>\n      <td>-0.13996</td>\n      <td>-0.383266</td>\n      <td>-0.004878</td>\n      <td>-0.386203</td>\n      <td>-0.122596</td>\n      <td>-0.012215</td>\n      <td>-0.0567</td>\n      <td>-0.039921</td>\n      <td>-0.010586</td>\n      <td>-0.055231</td>\n      <td>-0.03359</td>\n      <td>-0.018354</td>\n      <td>-0.022333</td>\n      <td>0.200323</td>\n      <td>-0.034609</td>\n      <td>-0.094781</td>\n      <td>-0.080303</td>\n      <td>-0.367275</td>\n      <td>-0.235861</td>\n      <td>-0.259558</td>\n      <td>-0.020546</td>\n      <td>-0.822018</td>\n      <td>-0.015065</td>\n      <td>-0.007602</td>\n      <td>-0.379025</td>\n      <td>-0.401427</td>\n      <td>-0.033841</td>\n      <td>0.202519</td>\n      <td>10</td>\n      <td>2</td>\n    </tr>\n    <tr>\n      <th>9</th>\n      <td>-0.010369</td>\n      <td>-0.13996</td>\n      <td>-0.383266</td>\n      <td>-0.004878</td>\n      <td>-0.386203</td>\n      <td>-0.122596</td>\n      <td>-0.012215</td>\n      <td>-0.0567</td>\n      <td>-0.039921</td>\n      <td>-0.010586</td>\n      <td>-0.055231</td>\n      <td>-0.03359</td>\n      <td>-0.018354</td>\n      <td>-0.022333</td>\n      <td>-1.074735</td>\n      <td>-0.034609</td>\n      <td>-0.094781</td>\n      <td>-0.080303</td>\n      <td>-0.367275</td>\n      <td>-0.235861</td>\n      <td>-0.259558</td>\n      <td>-0.020546</td>\n      <td>0.183811</td>\n      <td>-0.015065</td>\n      <td>-0.007602</td>\n      <td>-0.379025</td>\n      <td>-0.401427</td>\n      <td>-0.033841</td>\n      <td>0.190545</td>\n      <td>11</td>\n      <td>6</td>\n    </tr>\n  </tbody>\n</table>\n</div>"
          },
          "metadata": {}
        },
        {
          "output_type": "display_data",
          "data": {
            "text/plain": "(744053, 31)"
          },
          "metadata": {}
        }
      ]
    },
    {
      "cell_type": "markdown",
      "source": [
        "## Clustering"
      ],
      "metadata": {
        "id": "Qbj0tcRKDaKx"
      }
    },
    {
      "cell_type": "code",
      "source": [
        "from sklearn.preprocessing import StandardScaler\n",
        "\n",
        "# 필요한 열만 선택\n",
        "df = final[['Recency','brand', 'card',\n",
        "       'deposit', 'estate', 'event', 'exchange', 'fit', 'forex', 'fund',\n",
        "       'gift', 'giftbox', 'gold', 'guide', 'home', 'inquiry', 'insurance',\n",
        "       'irp', 'join', 'life', 'loan', 'main', 'management', 'marketing',\n",
        "       'mycard', 'othercard', 'remit', 'service', 'welcomebox', '카드사용액']]\n"
      ],
      "metadata": {
        "id": "ecAVxYAS44HR",
        "execution": {
          "iopub.status.busy": "2024-10-05T05:50:53.485817Z",
          "iopub.execute_input": "2024-10-05T05:50:53.486236Z",
          "iopub.status.idle": "2024-10-05T05:50:53.625969Z",
          "shell.execute_reply.started": "2024-10-05T05:50:53.486198Z",
          "shell.execute_reply": "2024-10-05T05:50:53.624996Z"
        },
        "trusted": true
      },
      "execution_count": null,
      "outputs": []
    },
    {
      "cell_type": "code",
      "source": [
        "df.shape"
      ],
      "metadata": {
        "execution": {
          "iopub.status.busy": "2024-10-05T05:50:55.122046Z",
          "iopub.execute_input": "2024-10-05T05:50:55.123017Z",
          "iopub.status.idle": "2024-10-05T05:50:55.129247Z",
          "shell.execute_reply.started": "2024-10-05T05:50:55.122978Z",
          "shell.execute_reply": "2024-10-05T05:50:55.128117Z"
        },
        "trusted": true,
        "id": "ZZc4u1ob-LD2",
        "outputId": "72ab48df-1639-49f7-b5c0-54558b2e6581"
      },
      "execution_count": null,
      "outputs": [
        {
          "execution_count": 101,
          "output_type": "execute_result",
          "data": {
            "text/plain": "(744053, 30)"
          },
          "metadata": {}
        }
      ]
    },
    {
      "cell_type": "code",
      "source": [
        "from sklearn.cluster import KMeans\n",
        "import matplotlib.pyplot as plt\n",
        "\n",
        "# The Elbow Method\n",
        "sse = []\n",
        "k_range = range(1, 11)\n",
        "\n",
        "for k in k_range:\n",
        "    kmeans = KMeans(n_clusters=k, random_state=42)\n",
        "    kmeans.fit(df)\n",
        "    sse.append(kmeans.inertia_)\n",
        "\n",
        "plt.plot(k_range, sse, marker='o')\n",
        "plt.xlabel('Number of clusters')\n",
        "plt.ylabel('SSE (Sum of Squared Distances)')\n",
        "plt.title('Elbow Method')\n",
        "plt.show()"
      ],
      "metadata": {
        "colab": {
          "base_uri": "https://localhost:8080/",
          "height": 1000
        },
        "id": "d8GO9PML44HR",
        "outputId": "4fbb1f8a-332d-4de1-8820-a00cd31141fe",
        "execution": {
          "iopub.status.busy": "2024-10-05T05:50:58.559679Z",
          "iopub.execute_input": "2024-10-05T05:50:58.560113Z",
          "iopub.status.idle": "2024-10-05T05:53:21.509351Z",
          "shell.execute_reply.started": "2024-10-05T05:50:58.560073Z",
          "shell.execute_reply": "2024-10-05T05:53:21.508376Z"
        },
        "trusted": true
      },
      "execution_count": null,
      "outputs": [
        {
          "output_type": "display_data",
          "data": {
            "text/plain": "<Figure size 640x480 with 1 Axes>",
            "image/png": "[encoded data removed]"
          },
          "metadata": {}
        }
      ]
    },
    {
      "cell_type": "code",
      "source": [
        "# from sklearn.cluster import KMeans\n",
        "# from sklearn.metrics import silhouette_score\n",
        "# import pandas as pd\n",
        "# import numpy as np\n",
        "\n",
        "# # 데이터 스케일링을 이미 수행한 데이터로 가정 (scaled_data 사용)\n",
        "# # scaled_data = ...\n",
        "\n",
        "# # 클러스터 개수를 3과 4로 각각 설정한 후 KMeans 실행 및 실루엣 계수 계산\n",
        "# for k in [3, 4]:\n",
        "#     kmeans = KMeans(n_clusters=k, random_state=42)\n",
        "#     kmeans.fit(df)\n",
        "#     labels = kmeans.labels_\n",
        "\n",
        "#     # 실루엣 계수 계산\n",
        "#     silhouette_avg = silhouette_score(scaled_data, labels)\n",
        "#     print(f\"클러스터 개수 {k}개의 실루엣 계수: {silhouette_avg}\")"
      ],
      "metadata": {
        "id": "l1uwAULyEtgm",
        "execution": {
          "iopub.status.busy": "2024-10-05T05:17:17.380535Z",
          "iopub.execute_input": "2024-10-05T05:17:17.381481Z",
          "iopub.status.idle": "2024-10-05T05:17:17.386566Z",
          "shell.execute_reply.started": "2024-10-05T05:17:17.381428Z",
          "shell.execute_reply": "2024-10-05T05:17:17.385513Z"
        },
        "trusted": true
      },
      "execution_count": null,
      "outputs": []
    },
    {
      "cell_type": "code",
      "source": [
        "# 최적의 클러스터 수로 K-Means 적용\n",
        "optimal_k = 3\n",
        "kmeans = KMeans(n_clusters=optimal_k, random_state=42)\n",
        "final['Cluster'] = kmeans.fit_predict(df)"
      ],
      "metadata": {
        "id": "Oca3dpJc44HR",
        "execution": {
          "iopub.status.busy": "2024-10-05T05:54:20.274342Z",
          "iopub.execute_input": "2024-10-05T05:54:20.275317Z",
          "iopub.status.idle": "2024-10-05T05:54:30.761686Z",
          "shell.execute_reply.started": "2024-10-05T05:54:20.275260Z",
          "shell.execute_reply": "2024-10-05T05:54:30.760752Z"
        },
        "trusted": true
      },
      "execution_count": null,
      "outputs": []
    },
    {
      "cell_type": "code",
      "source": [
        "final.head()"
      ],
      "metadata": {
        "execution": {
          "iopub.status.busy": "2024-10-05T05:54:30.763628Z",
          "iopub.execute_input": "2024-10-05T05:54:30.764164Z",
          "iopub.status.idle": "2024-10-05T05:54:30.796192Z",
          "shell.execute_reply.started": "2024-10-05T05:54:30.764117Z",
          "shell.execute_reply": "2024-10-05T05:54:30.794978Z"
        },
        "trusted": true,
        "id": "puDUDSBy-LD5",
        "outputId": "df6c3f0e-7220-4045-b50b-437f7bc9bf34"
      },
      "execution_count": null,
      "outputs": [
        {
          "execution_count": 104,
          "output_type": "execute_result",
          "data": {
            "text/plain": "      brand     card   deposit    estate     event  exchange       fit  \\\n0 -0.010369 -0.13996 -0.383266 -0.004878 -0.386203 -0.122596 -0.012215   \n1 -0.010369 -0.13996 -0.383266 -0.004878 -0.386203 -0.122596 -0.012215   \n2 -0.010369 -0.13996  1.198181 -0.004878 -0.386203 -0.122596 -0.012215   \n3 -0.010369 -0.13996 -0.383266 -0.004878 -0.386203  3.278335 -0.012215   \n4 -0.010369 -0.13996 -0.383266 -0.004878 -0.386203 -0.122596 -0.012215   \n\n    forex       fund      gift   giftbox     gold     guide      home  \\\n0 -0.0567  -0.039921 -0.010586 -0.055231 -0.03359 -0.018354 -0.022333   \n1 -0.0567  -0.039921 -0.010586 -0.055231 -0.03359 -0.018354 -0.022333   \n2 -0.0567  -0.039921 -0.010586 -0.055231 -0.03359 -0.018354 -0.022333   \n3 -0.0567  -0.039921 -0.010586 -0.055231 -0.03359 -0.018354 -0.022333   \n4 -0.0567  30.113353 -0.010586 -0.055231 -0.03359 -0.018354 -0.022333   \n\n    inquiry  insurance       irp      join      life      loan      main  \\\n0  1.902165  -0.034609 -0.094781 -0.080303 -0.367275 -0.235861 -0.259558   \n1  1.597663  -0.034609 -0.094781 -0.080303 -0.367275 -0.235861 -0.259558   \n2 -1.074735  -0.034609 -0.094781 -0.080303 -0.367275 -0.235861 -0.259558   \n3 -0.270263  -0.034609 -0.094781 -0.080303 -0.367275 -0.235861 -0.259558   \n4 -1.074735  -0.034609 -0.094781 -0.080303 -0.367275 -0.235861 -0.259558   \n\n   management  marketing    mycard  othercard     remit   service  welcomebox  \\\n0   -0.020546   0.183811 -0.015065  -0.007602  0.641225 -0.401427   -0.033841   \n1   -0.020546   0.183811 -0.015065  -0.007602  0.072443 -0.401427   -0.033841   \n2   -0.020546   0.183811 -0.015065  -0.007602 -1.150814 -0.401427   -0.033841   \n3   -0.020546   0.183811 -0.015065  -0.007602 -1.150814 -0.401427   -0.033841   \n4   -0.020546  -0.822018 -0.015065  -0.007602 -1.150814 -0.401427   -0.033841   \n\n    Recency  순번 카드사용액  Cluster  \n0 -0.854311   1     4        1  \n1 -0.767652   2     6        1  \n2 -0.196803   4     0        0  \n3  2.434192   5     6        1  \n4 -0.426965   6     0        0  ",
            "text/html": "<div>\n<style scoped>\n    .dataframe tbody tr th:only-of-type {\n        vertical-align: middle;\n    }\n\n    .dataframe tbody tr th {\n        vertical-align: top;\n    }\n\n    .dataframe thead th {\n        text-align: right;\n    }\n</style>\n<table border=\"1\" class=\"dataframe\">\n  <thead>\n    <tr style=\"text-align: right;\">\n      <th></th>\n      <th>brand</th>\n      <th>card</th>\n      <th>deposit</th>\n      <th>estate</th>\n      <th>event</th>\n      <th>exchange</th>\n      <th>fit</th>\n      <th>forex</th>\n      <th>fund</th>\n      <th>gift</th>\n      <th>giftbox</th>\n      <th>gold</th>\n      <th>guide</th>\n      <th>home</th>\n      <th>inquiry</th>\n      <th>insurance</th>\n      <th>irp</th>\n      <th>join</th>\n      <th>life</th>\n      <th>loan</th>\n      <th>main</th>\n      <th>management</th>\n      <th>marketing</th>\n      <th>mycard</th>\n      <th>othercard</th>\n      <th>remit</th>\n      <th>service</th>\n      <th>welcomebox</th>\n      <th>Recency</th>\n      <th>순번</th>\n      <th>카드사용액</th>\n      <th>Cluster</th>\n    </tr>\n  </thead>\n  <tbody>\n    <tr>\n      <th>0</th>\n      <td>-0.010369</td>\n      <td>-0.13996</td>\n      <td>-0.383266</td>\n      <td>-0.004878</td>\n      <td>-0.386203</td>\n      <td>-0.122596</td>\n      <td>-0.012215</td>\n      <td>-0.0567</td>\n      <td>-0.039921</td>\n      <td>-0.010586</td>\n      <td>-0.055231</td>\n      <td>-0.03359</td>\n      <td>-0.018354</td>\n      <td>-0.022333</td>\n      <td>1.902165</td>\n      <td>-0.034609</td>\n      <td>-0.094781</td>\n      <td>-0.080303</td>\n      <td>-0.367275</td>\n      <td>-0.235861</td>\n      <td>-0.259558</td>\n      <td>-0.020546</td>\n      <td>0.183811</td>\n      <td>-0.015065</td>\n      <td>-0.007602</td>\n      <td>0.641225</td>\n      <td>-0.401427</td>\n      <td>-0.033841</td>\n      <td>-0.854311</td>\n      <td>1</td>\n      <td>4</td>\n      <td>1</td>\n    </tr>\n    <tr>\n      <th>1</th>\n      <td>-0.010369</td>\n      <td>-0.13996</td>\n      <td>-0.383266</td>\n      <td>-0.004878</td>\n      <td>-0.386203</td>\n      <td>-0.122596</td>\n      <td>-0.012215</td>\n      <td>-0.0567</td>\n      <td>-0.039921</td>\n      <td>-0.010586</td>\n      <td>-0.055231</td>\n      <td>-0.03359</td>\n      <td>-0.018354</td>\n      <td>-0.022333</td>\n      <td>1.597663</td>\n      <td>-0.034609</td>\n      <td>-0.094781</td>\n      <td>-0.080303</td>\n      <td>-0.367275</td>\n      <td>-0.235861</td>\n      <td>-0.259558</td>\n      <td>-0.020546</td>\n      <td>0.183811</td>\n      <td>-0.015065</td>\n      <td>-0.007602</td>\n      <td>0.072443</td>\n      <td>-0.401427</td>\n      <td>-0.033841</td>\n      <td>-0.767652</td>\n      <td>2</td>\n      <td>6</td>\n      <td>1</td>\n    </tr>\n    <tr>\n      <th>2</th>\n      <td>-0.010369</td>\n      <td>-0.13996</td>\n      <td>1.198181</td>\n      <td>-0.004878</td>\n      <td>-0.386203</td>\n      <td>-0.122596</td>\n      <td>-0.012215</td>\n      <td>-0.0567</td>\n      <td>-0.039921</td>\n      <td>-0.010586</td>\n      <td>-0.055231</td>\n      <td>-0.03359</td>\n      <td>-0.018354</td>\n      <td>-0.022333</td>\n      <td>-1.074735</td>\n      <td>-0.034609</td>\n      <td>-0.094781</td>\n      <td>-0.080303</td>\n      <td>-0.367275</td>\n      <td>-0.235861</td>\n      <td>-0.259558</td>\n      <td>-0.020546</td>\n      <td>0.183811</td>\n      <td>-0.015065</td>\n      <td>-0.007602</td>\n      <td>-1.150814</td>\n      <td>-0.401427</td>\n      <td>-0.033841</td>\n      <td>-0.196803</td>\n      <td>4</td>\n      <td>0</td>\n      <td>0</td>\n    </tr>\n    <tr>\n      <th>3</th>\n      <td>-0.010369</td>\n      <td>-0.13996</td>\n      <td>-0.383266</td>\n      <td>-0.004878</td>\n      <td>-0.386203</td>\n      <td>3.278335</td>\n      <td>-0.012215</td>\n      <td>-0.0567</td>\n      <td>-0.039921</td>\n      <td>-0.010586</td>\n      <td>-0.055231</td>\n      <td>-0.03359</td>\n      <td>-0.018354</td>\n      <td>-0.022333</td>\n      <td>-0.270263</td>\n      <td>-0.034609</td>\n      <td>-0.094781</td>\n      <td>-0.080303</td>\n      <td>-0.367275</td>\n      <td>-0.235861</td>\n      <td>-0.259558</td>\n      <td>-0.020546</td>\n      <td>0.183811</td>\n      <td>-0.015065</td>\n      <td>-0.007602</td>\n      <td>-1.150814</td>\n      <td>-0.401427</td>\n      <td>-0.033841</td>\n      <td>2.434192</td>\n      <td>5</td>\n      <td>6</td>\n      <td>1</td>\n    </tr>\n    <tr>\n      <th>4</th>\n      <td>-0.010369</td>\n      <td>-0.13996</td>\n      <td>-0.383266</td>\n      <td>-0.004878</td>\n      <td>-0.386203</td>\n      <td>-0.122596</td>\n      <td>-0.012215</td>\n      <td>-0.0567</td>\n      <td>30.113353</td>\n      <td>-0.010586</td>\n      <td>-0.055231</td>\n      <td>-0.03359</td>\n      <td>-0.018354</td>\n      <td>-0.022333</td>\n      <td>-1.074735</td>\n      <td>-0.034609</td>\n      <td>-0.094781</td>\n      <td>-0.080303</td>\n      <td>-0.367275</td>\n      <td>-0.235861</td>\n      <td>-0.259558</td>\n      <td>-0.020546</td>\n      <td>-0.822018</td>\n      <td>-0.015065</td>\n      <td>-0.007602</td>\n      <td>-1.150814</td>\n      <td>-0.401427</td>\n      <td>-0.033841</td>\n      <td>-0.426965</td>\n      <td>6</td>\n      <td>0</td>\n      <td>0</td>\n    </tr>\n  </tbody>\n</table>\n</div>"
          },
          "metadata": {}
        }
      ]
    },
    {
      "cell_type": "code",
      "source": [
        "# final.to_csv('/content/drive/MyDrive/DIVE2024/data/final_cluster_4K.csv', index=False, encoding='utf-8')\n",
        "final = final_cluster_3K.copy()"
      ],
      "metadata": {
        "id": "VLHE5nbmtPMO"
      },
      "execution_count": null,
      "outputs": []
    },
    {
      "cell_type": "code",
      "source": [
        "final['Cluster'].value_counts()"
      ],
      "metadata": {
        "id": "_zvqNdxB44HR",
        "outputId": "2e30281a-e0d8-4dab-88b8-1105876becce",
        "colab": {
          "base_uri": "https://localhost:8080/",
          "height": 209
        },
        "execution": {
          "iopub.status.busy": "2024-10-05T05:54:31.161833Z",
          "iopub.execute_input": "2024-10-05T05:54:31.162681Z",
          "iopub.status.idle": "2024-10-05T05:54:31.176616Z",
          "shell.execute_reply.started": "2024-10-05T05:54:31.162628Z",
          "shell.execute_reply": "2024-10-05T05:54:31.175519Z"
        },
        "trusted": true
      },
      "execution_count": null,
      "outputs": [
        {
          "execution_count": 105,
          "output_type": "execute_result",
          "data": {
            "text/plain": "Cluster\n0    397203\n1    346479\n2       371\nName: count, dtype: int64"
          },
          "metadata": {}
        }
      ]
    },
    {
      "cell_type": "code",
      "source": [
        "final.shape"
      ],
      "metadata": {
        "execution": {
          "iopub.status.busy": "2024-10-05T05:54:40.376758Z",
          "iopub.execute_input": "2024-10-05T05:54:40.377806Z",
          "iopub.status.idle": "2024-10-05T05:54:40.383857Z",
          "shell.execute_reply.started": "2024-10-05T05:54:40.377760Z",
          "shell.execute_reply": "2024-10-05T05:54:40.382804Z"
        },
        "trusted": true,
        "id": "GDi6hOIR-LD8",
        "outputId": "cc250b8c-5d02-488a-ee1b-f6daef9c356d"
      },
      "execution_count": null,
      "outputs": [
        {
          "execution_count": 106,
          "output_type": "execute_result",
          "data": {
            "text/plain": "(744053, 32)"
          },
          "metadata": {}
        }
      ]
    },
    {
      "cell_type": "markdown",
      "source": [
        "## Cluster별로 merge"
      ],
      "metadata": {
        "id": "IWZocn_z-LD9"
      }
    },
    {
      "cell_type": "code",
      "source": [
        "# final = final_cluster_3K.copy()"
      ],
      "metadata": {
        "execution": {
          "iopub.status.busy": "2024-10-05T02:16:52.173396Z",
          "iopub.execute_input": "2024-10-05T02:16:52.173948Z",
          "iopub.status.idle": "2024-10-05T02:16:52.228576Z",
          "shell.execute_reply.started": "2024-10-05T02:16:52.173890Z",
          "shell.execute_reply": "2024-10-05T02:16:52.227225Z"
        },
        "trusted": true,
        "id": "O18wfzqv-LD9"
      },
      "execution_count": null,
      "outputs": []
    },
    {
      "cell_type": "code",
      "source": [
        "cluster_0 = final[final['Cluster'] == 0]\n",
        "cluster_1 = final[final['Cluster'] == 1]\n",
        "cluster_2 = final[final['Cluster'] == 2]"
      ],
      "metadata": {
        "execution": {
          "iopub.status.busy": "2024-10-05T05:55:14.663196Z",
          "iopub.execute_input": "2024-10-05T05:55:14.664221Z",
          "iopub.status.idle": "2024-10-05T05:55:14.784970Z",
          "shell.execute_reply.started": "2024-10-05T05:55:14.664178Z",
          "shell.execute_reply": "2024-10-05T05:55:14.783830Z"
        },
        "trusted": true,
        "id": "Cx0dX6iF-LD-"
      },
      "execution_count": null,
      "outputs": []
    },
    {
      "cell_type": "markdown",
      "source": [
        "### cluster 0"
      ],
      "metadata": {
        "id": "20KMMe1n-LD-"
      }
    },
    {
      "cell_type": "code",
      "source": [
        "# '기준일자', '카드사용액'을 제외한 새로운 데이터프레임 생성\n",
        "# cluster_0_dropped = cluster_0.drop(columns=['카드사용액'], errors='ignore')\n",
        "apps_dropped = apps.drop(columns=['기준일자'], errors='ignore')\n",
        "cust_dropped = cust.drop(columns=['카드사용액'], errors='ignore')\n",
        "\n",
        "# '순번'을 기준으로 두 데이터프레임 병합 (inner join)\n",
        "merged_data = pd.merge(cluster_0, apps_dropped, on='순번', how='inner')\n",
        "\n",
        "# 그 다음 'cust_dropped'도 '순번'을 기준으로 병합\n",
        "final_cluster_0 = pd.merge(merged_data, cust_dropped, on='순번', how='inner')\n",
        "\n",
        "# 결과 확인\n",
        "print(final_cluster_0.shape)\n",
        "print(final_cluster_0.head())"
      ],
      "metadata": {
        "execution": {
          "iopub.status.busy": "2024-10-05T05:57:22.446097Z",
          "iopub.execute_input": "2024-10-05T05:57:22.446535Z",
          "iopub.status.idle": "2024-10-05T05:57:30.809404Z",
          "shell.execute_reply.started": "2024-10-05T05:57:22.446496Z",
          "shell.execute_reply": "2024-10-05T05:57:30.808066Z"
        },
        "trusted": true,
        "id": "xkFGxwdd-LD_",
        "outputId": "afbf342f-3a87-4071-88c2-0f6ced05e042"
      },
      "execution_count": null,
      "outputs": [
        {
          "name": "stdout",
          "text": "(3229079, 42)\n      brand     card   deposit    estate     event  exchange       fit  \\\n0 -0.010369 -0.13996  1.198181 -0.004878 -0.386203 -0.122596 -0.012215   \n1 -0.010369 -0.13996  1.198181 -0.004878 -0.386203 -0.122596 -0.012215   \n2 -0.010369 -0.13996 -0.383266 -0.004878 -0.386203 -0.122596 -0.012215   \n3 -0.010369 -0.13996 -0.383266 -0.004878 -0.386203 -0.122596 -0.012215   \n4 -0.010369 -0.13996 -0.383266 -0.004878 -0.386203 -0.122596 -0.012215   \n\n    forex       fund      gift   giftbox     gold     guide      home  \\\n0 -0.0567  -0.039921 -0.010586 -0.055231 -0.03359 -0.018354 -0.022333   \n1 -0.0567  -0.039921 -0.010586 -0.055231 -0.03359 -0.018354 -0.022333   \n2 -0.0567  30.113353 -0.010586 -0.055231 -0.03359 -0.018354 -0.022333   \n3 -0.0567  30.113353 -0.010586 -0.055231 -0.03359 -0.018354 -0.022333   \n4 -0.0567  30.113353 -0.010586 -0.055231 -0.03359 -0.018354 -0.022333   \n\n    inquiry  insurance       irp      join      life      loan      main  \\\n0 -1.074735  -0.034609 -0.094781 -0.080303 -0.367275 -0.235861 -0.259558   \n1 -1.074735  -0.034609 -0.094781 -0.080303 -0.367275 -0.235861 -0.259558   \n2 -1.074735  -0.034609 -0.094781 -0.080303 -0.367275 -0.235861 -0.259558   \n3 -1.074735  -0.034609 -0.094781 -0.080303 -0.367275 -0.235861 -0.259558   \n4 -1.074735  -0.034609 -0.094781 -0.080303 -0.367275 -0.235861 -0.259558   \n\n   management  marketing    mycard  othercard     remit   service  welcomebox  \\\n0   -0.020546   0.183811 -0.015065  -0.007602 -1.150814 -0.401427   -0.033841   \n1   -0.020546   0.183811 -0.015065  -0.007602 -1.150814 -0.401427   -0.033841   \n2   -0.020546  -0.822018 -0.015065  -0.007602 -1.150814 -0.401427   -0.033841   \n3   -0.020546  -0.822018 -0.015065  -0.007602 -1.150814 -0.401427   -0.033841   \n4   -0.020546  -0.822018 -0.015065  -0.007602 -1.150814 -0.401427   -0.033841   \n\n    Recency  순번 카드사용액  Cluster      기준시간                   이벤트명      이벤트타입  \\\n0 -0.196803   4     0        0  19:39:03          af_main_popup  marketing   \n1 -0.196803   4     0        0  22:44:49        af_content_view    deposit   \n2 -0.426965   6     0        0  11:05:00            af_purchase       fund   \n3 -0.426965   6     0        0  11:03:16  af_initiated_checkout       fund   \n4 -0.426965   6     0        0  11:03:02        af_content_view       fund   \n\n        이벤트ID 클릭버튼               연령 성별      주소지 자산잔액 부채잔액  \n0    7suspend  NaN  25세 이상 ~ 30세 미만  M  부산 해운대구    1    0  \n1  0010100167  NaN  25세 이상 ~ 30세 미만  M  부산 해운대구    1    0  \n2  0010301449  NaN  25세 이상 ~ 30세 미만  M  부산 부산진구    6    0  \n3  0010301449  NaN  25세 이상 ~ 30세 미만  M  부산 부산진구    6    0  \n4        main  NaN  25세 이상 ~ 30세 미만  M  부산 부산진구    6    0  \n",
          "output_type": "stream"
        }
      ]
    },
    {
      "cell_type": "code",
      "source": [
        "display(final_cluster_0.head())"
      ],
      "metadata": {
        "execution": {
          "iopub.status.busy": "2024-10-05T08:17:45.255915Z",
          "iopub.execute_input": "2024-10-05T08:17:45.256371Z",
          "iopub.status.idle": "2024-10-05T08:17:45.689701Z",
          "shell.execute_reply.started": "2024-10-05T08:17:45.256318Z",
          "shell.execute_reply": "2024-10-05T08:17:45.687722Z"
        },
        "trusted": true,
        "id": "KMrP8Qag-LEA",
        "outputId": "6954af6f-b721-4d7f-800f-b0df1926e1ea"
      },
      "execution_count": null,
      "outputs": [
        {
          "traceback": [
            "\u001b[0;31m---------------------------------------------------------------------------\u001b[0m",
            "\u001b[0;31mNameError\u001b[0m                                 Traceback (most recent call last)",
            "Cell \u001b[0;32mIn[1], line 1\u001b[0m\n\u001b[0;32m----> 1\u001b[0m display(\u001b[43mfinal_cluster_0\u001b[49m\u001b[38;5;241m.\u001b[39mhead())\n",
            "\u001b[0;31mNameError\u001b[0m: name 'final_cluster_0' is not defined"
          ],
          "ename": "NameError",
          "evalue": "name 'final_cluster_0' is not defined",
          "output_type": "error"
        }
      ]
    },
    {
      "cell_type": "code",
      "source": [
        "final_cluster_0.to_csv('final_cluster_0.csv', index=False)\n",
        "\n",
        "# 캐글에서 파일을 다운로드하려면 아래 명령어를 추가\n",
        "from IPython.display import FileLink\n",
        "\n",
        "# 저장한 파일을 다운로드할 수 있는 링크 생성\n",
        "FileLink('final_cluster_0.csv')"
      ],
      "metadata": {
        "execution": {
          "iopub.status.busy": "2024-10-05T05:57:36.672815Z",
          "iopub.execute_input": "2024-10-05T05:57:36.673792Z",
          "iopub.status.idle": "2024-10-05T06:00:46.587767Z",
          "shell.execute_reply.started": "2024-10-05T05:57:36.673736Z",
          "shell.execute_reply": "2024-10-05T06:00:46.586714Z"
        },
        "trusted": true,
        "id": "WWTd9VCb-LEA",
        "outputId": "ae394d09-988c-4ea7-ef9a-dc1b3bf8e564"
      },
      "execution_count": null,
      "outputs": [
        {
          "execution_count": 113,
          "output_type": "execute_result",
          "data": {
            "text/plain": "/kaggle/working/final_cluster_0.csv",
            "text/html": "<a href='final_cluster_0.csv' target='_blank'>final_cluster_0.csv</a><br>"
          },
          "metadata": {}
        }
      ]
    },
    {
      "cell_type": "markdown",
      "source": [
        "### cluster 1"
      ],
      "metadata": {
        "id": "WNcI5CXl-LEB"
      }
    },
    {
      "cell_type": "code",
      "source": [
        "# '기준일자', '카드사용액'을 제외한 새로운 데이터프레임 생성\n",
        "# cluster_1_dropped = cluster_1.drop(columns=['카드사용액'], errors='ignore')\n",
        "apps_dropped = apps.drop(columns=['기준일자'], errors='ignore')\n",
        "cust_dropped = cust.drop(columns=['카드사용액'], errors='ignore')\n",
        "\n",
        "# '순번'을 기준으로 두 데이터프레임 병합 (inner join)\n",
        "merged_data = pd.merge(cluster_1, apps_dropped, on='순번', how='inner')\n",
        "\n",
        "# 그 다음 'cust_dropped'도 '순번'을 기준으로 병합\n",
        "final_cluster_1 = pd.merge(merged_data, cust_dropped, on='순번', how='inner')\n",
        "\n",
        "# 결과 확인\n",
        "print(final_cluster_1.shape)\n",
        "print(final_cluster_1.head())"
      ],
      "metadata": {
        "execution": {
          "iopub.status.busy": "2024-10-05T06:02:30.510769Z",
          "iopub.execute_input": "2024-10-05T06:02:30.511579Z",
          "iopub.status.idle": "2024-10-05T06:02:40.963707Z",
          "shell.execute_reply.started": "2024-10-05T06:02:30.511536Z",
          "shell.execute_reply": "2024-10-05T06:02:40.962640Z"
        },
        "trusted": true,
        "id": "JMglv5zc-LEC",
        "outputId": "5ed873c6-24fa-4e6c-d16e-ba8e4260a9eb"
      },
      "execution_count": null,
      "outputs": [
        {
          "name": "stdout",
          "text": "(3736708, 42)\n      brand     card   deposit    estate     event  exchange       fit  \\\n0 -0.010369 -0.13996 -0.383266 -0.004878 -0.386203 -0.122596 -0.012215   \n1 -0.010369 -0.13996 -0.383266 -0.004878 -0.386203 -0.122596 -0.012215   \n2 -0.010369 -0.13996 -0.383266 -0.004878 -0.386203 -0.122596 -0.012215   \n3 -0.010369 -0.13996 -0.383266 -0.004878 -0.386203 -0.122596 -0.012215   \n4 -0.010369 -0.13996 -0.383266 -0.004878 -0.386203 -0.122596 -0.012215   \n\n    forex      fund      gift   giftbox     gold     guide      home  \\\n0 -0.0567 -0.039921 -0.010586 -0.055231 -0.03359 -0.018354 -0.022333   \n1 -0.0567 -0.039921 -0.010586 -0.055231 -0.03359 -0.018354 -0.022333   \n2 -0.0567 -0.039921 -0.010586 -0.055231 -0.03359 -0.018354 -0.022333   \n3 -0.0567 -0.039921 -0.010586 -0.055231 -0.03359 -0.018354 -0.022333   \n4 -0.0567 -0.039921 -0.010586 -0.055231 -0.03359 -0.018354 -0.022333   \n\n    inquiry  insurance       irp      join      life      loan      main  \\\n0  1.902165  -0.034609 -0.094781 -0.080303 -0.367275 -0.235861 -0.259558   \n1  1.902165  -0.034609 -0.094781 -0.080303 -0.367275 -0.235861 -0.259558   \n2  1.902165  -0.034609 -0.094781 -0.080303 -0.367275 -0.235861 -0.259558   \n3  1.902165  -0.034609 -0.094781 -0.080303 -0.367275 -0.235861 -0.259558   \n4  1.902165  -0.034609 -0.094781 -0.080303 -0.367275 -0.235861 -0.259558   \n\n   management  marketing    mycard  othercard     remit   service  welcomebox  \\\n0   -0.020546   0.183811 -0.015065  -0.007602  0.641225 -0.401427   -0.033841   \n1   -0.020546   0.183811 -0.015065  -0.007602  0.641225 -0.401427   -0.033841   \n2   -0.020546   0.183811 -0.015065  -0.007602  0.641225 -0.401427   -0.033841   \n3   -0.020546   0.183811 -0.015065  -0.007602  0.641225 -0.401427   -0.033841   \n4   -0.020546   0.183811 -0.015065  -0.007602  0.641225 -0.401427   -0.033841   \n\n    Recency  순번 카드사용액  Cluster      기준시간             이벤트명    이벤트타입    이벤트ID  \\\n0 -0.854311   1     4        1  18:31:40  af_service_view  inquiry  inquiry   \n1 -0.854311   1     4        1  22:10:06  af_service_view  inquiry  inquiry   \n2 -0.854311   1     4        1  20:40:14  af_service_view    remit    remit   \n3 -0.854311   1     4        1  08:21:03  af_service_view  inquiry  inquiry   \n4 -0.854311   1     4        1  21:35:49  af_service_view    remit    remit   \n\n  클릭버튼               연령 성별     주소지 자산잔액 부채잔액  \n0  NaN  25세 이상 ~ 30세 미만  M  부산 사하구    1    0  \n1  NaN  25세 이상 ~ 30세 미만  M  부산 사하구    1    0  \n2  NaN  25세 이상 ~ 30세 미만  M  부산 사하구    1    0  \n3  NaN  25세 이상 ~ 30세 미만  M  부산 사하구    1    0  \n4  NaN  25세 이상 ~ 30세 미만  M  부산 사하구    1    0  \n",
          "output_type": "stream"
        }
      ]
    },
    {
      "cell_type": "code",
      "source": [
        "final_cluster_1.to_csv('final_cluster_1.csv', index=False)\n",
        "\n",
        "# 캐글에서 파일을 다운로드하려면 아래 명령어를 추가\n",
        "from IPython.display import FileLink\n",
        "\n",
        "# 저장한 파일을 다운로드할 수 있는 링크 생성\n",
        "FileLink('final_cluster_1.csv')"
      ],
      "metadata": {
        "execution": {
          "iopub.status.busy": "2024-10-05T06:03:11.781229Z",
          "iopub.execute_input": "2024-10-05T06:03:11.782417Z",
          "iopub.status.idle": "2024-10-05T06:06:47.021868Z",
          "shell.execute_reply.started": "2024-10-05T06:03:11.782370Z",
          "shell.execute_reply": "2024-10-05T06:06:47.020719Z"
        },
        "trusted": true,
        "id": "EcfsBKH4-LED",
        "outputId": "d26caffa-777f-4e2b-8c23-2ef2ffced7c6"
      },
      "execution_count": null,
      "outputs": [
        {
          "execution_count": 115,
          "output_type": "execute_result",
          "data": {
            "text/plain": "/kaggle/working/final_cluster_1.csv",
            "text/html": "<a href='final_cluster_1.csv' target='_blank'>final_cluster_1.csv</a><br>"
          },
          "metadata": {}
        }
      ]
    },
    {
      "cell_type": "markdown",
      "source": [
        "### cluster 2"
      ],
      "metadata": {
        "id": "ju8nfQf7-LED"
      }
    },
    {
      "cell_type": "code",
      "source": [
        "# '기준일자', '카드사용액'을 제외한 새로운 데이터프레임 생성\n",
        "# cluster_2_dropped = cluster_2.drop(columns=['카드사용액'], errors='ignore')\n",
        "apps_dropped = apps.drop(columns=['기준일자'], errors='ignore')\n",
        "cust_dropped = cust.drop(columns=['카드사용액'], errors='ignore')\n",
        "\n",
        "# '순번'을 기준으로 두 데이터프레임 병합 (inner join)\n",
        "merged_data = pd.merge(cluster_2, apps_dropped, on='순번', how='inner')\n",
        "\n",
        "# 그 다음 'cust_dropped'도 '순번'을 기준으로 병합\n",
        "final_cluster_2 = pd.merge(merged_data, cust_dropped, on='순번', how='inner')\n",
        "\n",
        "# 결과 확인\n",
        "print(final_cluster_2.shape)\n",
        "print(final_cluster_2.head())"
      ],
      "metadata": {
        "execution": {
          "iopub.status.busy": "2024-10-05T06:17:28.905406Z",
          "iopub.execute_input": "2024-10-05T06:17:28.906335Z",
          "iopub.status.idle": "2024-10-05T06:17:31.777042Z",
          "shell.execute_reply.started": "2024-10-05T06:17:28.906264Z",
          "shell.execute_reply": "2024-10-05T06:17:31.775731Z"
        },
        "trusted": true,
        "id": "skX7qdm5-LEE",
        "outputId": "e266a13d-c2f5-4102-b89a-51fbc2281e38"
      },
      "execution_count": null,
      "outputs": [
        {
          "name": "stdout",
          "text": "(8713, 42)\n      brand     card   deposit    estate     event  exchange       fit  \\\n0 -0.010369 -0.13996 -0.383266 -0.004878 -0.386203 -0.122596 -0.012215   \n1 -0.010369 -0.13996 -0.383266 -0.004878 -0.386203 -0.122596 -0.012215   \n2 -0.010369 -0.13996 -0.383266 -0.004878 -0.386203 -0.122596 -0.012215   \n3 -0.010369 -0.13996 -0.383266 -0.004878  2.469775 -0.122596 -0.012215   \n4 -0.010369 -0.13996 -0.383266 -0.004878  2.469775 -0.122596 -0.012215   \n\n    forex      fund      gift   giftbox     gold      guide      home  \\\n0 -0.0567 -0.039921 -0.010586 -0.055231 -0.03359  -0.018354 -0.022333   \n1 -0.0567 -0.039921 -0.010586 -0.055231 -0.03359  -0.018354 -0.022333   \n2 -0.0567 -0.039921 -0.010586 -0.055231 -0.03359  -0.018354 -0.022333   \n3 -0.0567 -0.039921 -0.010586 -0.055231 -0.03359  52.724551 -0.022333   \n4 -0.0567 -0.039921 -0.010586 -0.055231 -0.03359  52.724551 -0.022333   \n\n    inquiry  insurance       irp      join      life      loan      main  \\\n0 -1.074735  -0.034609 -0.094781 -0.080303 -0.367275 -0.235861  3.129190   \n1 -1.074735  -0.034609 -0.094781 -0.080303 -0.367275 -0.235861  3.129190   \n2 -1.074735  -0.034609 -0.094781 -0.080303 -0.367275 -0.235861  3.129190   \n3 -0.270263  -0.034609 -0.094781 -0.080303 -0.367275 -0.235861 -0.259558   \n4 -0.270263  -0.034609 -0.094781 -0.080303 -0.367275 -0.235861 -0.259558   \n\n   management  marketing    mycard  othercard     remit   service  welcomebox  \\\n0   46.873944  -0.822018 -0.015065  -0.007602 -0.379025 -0.401427   -0.033841   \n1   46.873944  -0.822018 -0.015065  -0.007602 -0.379025 -0.401427   -0.033841   \n2   46.873944  -0.822018 -0.015065  -0.007602 -0.379025 -0.401427   -0.033841   \n3   46.873944   0.183811 -0.015065  -0.007602  0.072443 -0.401427   -0.033841   \n4   46.873944   0.183811 -0.015065  -0.007602  0.072443 -0.401427   -0.033841   \n\n    Recency    순번 카드사용액  Cluster      기준시간                      이벤트명  \\\n0 -0.831897  5545     5        2  21:22:55           af_service_view   \n1 -0.831897  5545     5        2  15:07:52  af_moneyingplus_pageview   \n2 -0.831897  5545     5        2  15:07:36  af_moneyingplus_pageview   \n3 -0.234718  8529     3        2  08:26:50             af_event_view   \n4 -0.234718  8529     3        2  08:26:49             af_main_popup   \n\n        이벤트타입                 이벤트ID 클릭버튼               연령 성별      주소지 자산잔액  \\\n0       remit                 remit  NaN  20세 이상 ~ 25세 미만  M  부산 부산진구    3   \n1  management                   NaN  NaN  20세 이상 ~ 25세 미만  M  부산 부산진구    3   \n2        main                   NaN  NaN  20세 이상 ~ 25세 미만  M  부산 부산진구    3   \n3       event  마지막 롯데자이언츠 시민권 증정 이벤  NaN           70세 이상  M   부산 금정구    6   \n4   marketing  20240208155929537AP2  NaN           70세 이상  M   부산 금정구    6   \n\n  부채잔액  \n0    0  \n1    0  \n2    0  \n3    0  \n4    0  \n",
          "output_type": "stream"
        }
      ]
    },
    {
      "cell_type": "code",
      "source": [
        "final_cluster_2.to_csv('final_cluster_2.csv', index=False)\n",
        "\n",
        "# 캐글에서 파일을 다운로드하려면 아래 명령어를 추가\n",
        "from IPython.display import FileLink\n",
        "\n",
        "# 저장한 파일을 다운로드할 수 있는 링크 생성\n",
        "FileLink('final_cluster_2.csv')"
      ],
      "metadata": {
        "execution": {
          "iopub.status.busy": "2024-10-05T06:17:31.778773Z",
          "iopub.execute_input": "2024-10-05T06:17:31.779129Z",
          "iopub.status.idle": "2024-10-05T06:17:32.281281Z",
          "shell.execute_reply.started": "2024-10-05T06:17:31.779093Z",
          "shell.execute_reply": "2024-10-05T06:17:32.280177Z"
        },
        "trusted": true,
        "id": "QkY7wbNI-LEE",
        "outputId": "1b0a0e51-56e2-4ba3-b98c-deae0d79560b"
      },
      "execution_count": null,
      "outputs": [
        {
          "execution_count": 117,
          "output_type": "execute_result",
          "data": {
            "text/plain": "/kaggle/working/final_cluster_2.csv",
            "text/html": "<a href='final_cluster_2.csv' target='_blank'>final_cluster_2.csv</a><br>"
          },
          "metadata": {}
        }
      ]
    },
    {
      "cell_type": "code",
      "source": [
        "final_cluster_0.shape[0] + final_cluster_1.shape[0] + final_cluster_2.shape[0]"
      ],
      "metadata": {
        "execution": {
          "iopub.status.busy": "2024-10-05T06:20:58.378544Z",
          "iopub.execute_input": "2024-10-05T06:20:58.379067Z",
          "iopub.status.idle": "2024-10-05T06:20:58.386892Z",
          "shell.execute_reply.started": "2024-10-05T06:20:58.379025Z",
          "shell.execute_reply": "2024-10-05T06:20:58.385735Z"
        },
        "trusted": true,
        "id": "l7EUvwAE-LEF",
        "outputId": "c574036c-b0a0-465f-fb2b-08994c39747c"
      },
      "execution_count": null,
      "outputs": [
        {
          "execution_count": 118,
          "output_type": "execute_result",
          "data": {
            "text/plain": "6974500"
          },
          "metadata": {}
        }
      ]
    },
    {
      "cell_type": "markdown",
      "source": [
        "## 샘플링 (실루엑 계수 계산하기 위해서)"
      ],
      "metadata": {
        "id": "PQJoVL_-PXKb"
      }
    },
    {
      "cell_type": "code",
      "source": [
        "import pandas as pd\n",
        "import numpy as np\n",
        "from sklearn.cluster import KMeans\n",
        "from sklearn.metrics import silhouette_score\n",
        "from sklearn.preprocessing import StandardScaler\n",
        "\n",
        "# 샘플링할 비율 설정 (예: 10% 샘플링)\n",
        "sampling_fraction = 0.1\n",
        "\n",
        "# 데이터프레임이 scaled_data라고 가정 (이미 스케일링된 데이터)\n",
        "# scaled_data = ...\n",
        "\n",
        "# 데이터프레임에서 무작위 샘플링 (전체 데이터의 10% 샘플링)\n",
        "sampled_data = final.sample(frac=sampling_fraction, random_state=42)\n",
        "\n",
        "# 클러스터 개수를 3과 4로 설정하여 KMeans 실행 및 실루엣 계수 계산\n",
        "for k in [3, 4]:\n",
        "    kmeans = KMeans(n_clusters=k, random_state=42)\n",
        "    kmeans.fit(sampled_data)\n",
        "    labels = kmeans.labels_\n",
        "\n",
        "    # 샘플링된 데이터로 실루엣 계수 계산\n",
        "    silhouette_avg = silhouette_score(sampled_data, labels)\n",
        "    print(f\"클러스터 개수 {k}개의 실루엣 계수 (샘플링된 데이터): {silhouette_avg}\")\n"
      ],
      "metadata": {
        "colab": {
          "base_uri": "https://localhost:8080/"
        },
        "id": "PwRm1Hk9Pb-1",
        "outputId": "b267d230-bc52-49db-d335-d6ccfd8f6550"
      },
      "execution_count": null,
      "outputs": [
        {
          "output_type": "stream",
          "name": "stdout",
          "text": "클러스터 개수 3개의 실루엣 계수 (샘플링된 데이터): 0.5891397164287263\n\n클러스터 개수 4개의 실루엣 계수 (샘플링된 데이터): 0.5713644672671695\n"
        }
      ]
    },
    {
      "cell_type": "code",
      "source": [
        "import pandas as pd\n",
        "import numpy as np\n",
        "from sklearn.cluster import KMeans\n",
        "from sklearn.metrics import silhouette_score\n",
        "from sklearn.preprocessing import StandardScaler\n",
        "\n",
        "# 샘플링할 비율 설정 (예: 10% 샘플링)\n",
        "sampling_fraction = 0.3\n",
        "\n",
        "# 데이터프레임이 scaled_data라고 가정 (이미 스케일링된 데이터)\n",
        "# scaled_data = ...\n",
        "\n",
        "# 데이터프레임에서 무작위 샘플링 (전체 데이터의 10% 샘플링)\n",
        "sampled_data = final.sample(frac=sampling_fraction, random_state=42)\n",
        "\n",
        "# 클러스터 개수를 3과 4로 설정하여 KMeans 실행 및 실루엣 계수 계산\n",
        "for k in [3, 4]:\n",
        "    kmeans = KMeans(n_clusters=k, random_state=42)\n",
        "    kmeans.fit(sampled_data)\n",
        "    labels = kmeans.labels_\n",
        "\n",
        "    # 샘플링된 데이터로 실루엣 계수 계산\n",
        "    silhouette_avg = silhouette_score(sampled_data, labels)\n",
        "    print(f\"클러스터 개수 {k}개의 실루엣 계수 (샘플링된 데이터): {silhouette_avg}\")"
      ],
      "metadata": {
        "colab": {
          "base_uri": "https://localhost:8080/"
        },
        "id": "eWKuWpOCSdZR",
        "outputId": "1a704a61-8a1a-42c3-8fc5-3bd2dcfe6564"
      },
      "execution_count": null,
      "outputs": [
        {
          "output_type": "stream",
          "name": "stdout",
          "text": "클러스터 개수 3개의 실루엣 계수 (샘플링된 데이터): 0.5898556528375561\n\n클러스터 개수 4개의 실루엣 계수 (샘플링된 데이터): 0.5709611680368968\n"
        }
      ]
    },
    {
      "cell_type": "markdown",
      "source": [
        "### 실루엣 계수 시각화"
      ],
      "metadata": {
        "id": "eKfvsMkCTpuM"
      }
    },
    {
      "cell_type": "code",
      "source": [
        "import matplotlib.pyplot as plt\n",
        "import matplotlib.cm as cm\n",
        "import numpy as np\n",
        "from sklearn.cluster import KMeans\n",
        "from sklearn.metrics import silhouette_samples, silhouette_score\n",
        "from sklearn.preprocessing import StandardScaler\n",
        "\n",
        "# 데이터 스케일링 (이미 수행된 데이터라고 가정)\n",
        "# scaled_data = ...\n",
        "\n",
        "# 클러스터 개수 설정 (2, 3, 4개로 각각 시각화)\n",
        "range_n_clusters = [2, 3, 4]\n",
        "\n",
        "for n_clusters in range_n_clusters:\n",
        "    # KMeans 클러스터링 수행\n",
        "    kmeans = KMeans(n_clusters=n_clusters, random_state=42)\n",
        "    cluster_labels = kmeans.fit_predict(scaled_data)\n",
        "\n",
        "    # 실루엣 계수 계산\n",
        "    silhouette_avg = silhouette_score(scaled_data, cluster_labels)\n",
        "    print(f\"클러스터 수 {n_clusters}개의 평균 실루엣 계수: {silhouette_avg}\")\n",
        "\n",
        "    # 각 샘플의 실루엣 계수 계산\n",
        "    sample_silhouette_values = silhouette_samples(scaled_data, cluster_labels)\n",
        "\n",
        "    # 시각화 영역 설정\n",
        "    fig, ax1 = plt.subplots(1, 1)\n",
        "    fig.set_size_inches(6, 6)\n",
        "\n",
        "    # 그래프 설정\n",
        "    ax1.set_xlim([-0.1, 1])\n",
        "    ax1.set_ylim([0, len(scaled_data) + (n_clusters + 1) * 10])\n",
        "\n",
        "    y_lower = 10\n",
        "    for i in range(n_clusters):\n",
        "        ith_cluster_silhouette_values = sample_silhouette_values[cluster_labels == i]\n",
        "        ith_cluster_silhouette_values.sort()\n",
        "\n",
        "        size_cluster_i = ith_cluster_silhouette_values.shape[0]\n",
        "        y_upper = y_lower + size_cluster_i\n",
        "\n",
        "        color = cm.nipy_spectral(float(i) / n_clusters)\n",
        "        ax1.fill_betweenx(np.arange(y_lower, y_upper),\n",
        "                          0, ith_cluster_silhouette_values,\n",
        "                          facecolor=color, edgecolor=color, alpha=0.7)\n",
        "\n",
        "        ax1.text(-0.05, y_lower + 0.5 * size_cluster_i, str(i))\n",
        "\n",
        "        y_lower = y_upper + 10  # 10 for the 0 samples\n",
        "\n",
        "    ax1.set_title(f\"Number of Clusters: {n_clusters}\\nSilhouette Score: {round(silhouette_avg, 3)}\")\n",
        "    ax1.set_xlabel(\"The silhouette coefficient values\")\n",
        "    ax1.set_ylabel(\"Cluster label\")\n",
        "\n",
        "    ax1.axvline(x=silhouette_avg, color=\"red\", linestyle=\"--\")\n",
        "    ax1.set_yticks([])  # 클러스터 라벨 대신 표시하지 않음\n",
        "    ax1.set_xticks(np.arange(-0.1, 1.1, 0.2))\n",
        "\n",
        "    plt.show()\n"
      ],
      "metadata": {
        "id": "pu1tRmI3ToL_"
      },
      "execution_count": null,
      "outputs": []
    },
    {
      "cell_type": "code",
      "source": [
        "cluster_0 = final[final['Cluster'] == 0]\n",
        "cluster_1 = final[final['Cluster'] == 1]\n",
        "cluster_2 = final[final['Cluster'] == 2]"
      ],
      "metadata": {
        "id": "tzOmySo744HS"
      },
      "execution_count": null,
      "outputs": []
    },
    {
      "cell_type": "markdown",
      "source": [
        "### cluster 별로 EDA할 변수들 추가"
      ],
      "metadata": {
        "id": "Ji46enL1lbe7"
      }
    },
    {
      "cell_type": "code",
      "source": [
        "display(cluster_0.head())\n",
        "display(apps.head())\n",
        "display(cust.head())\n",
        "display(apps.shape)"
      ],
      "metadata": {
        "colab": {
          "base_uri": "https://localhost:8080/",
          "height": 692
        },
        "id": "ALC5l89ylhu9",
        "outputId": "36235cc3-4927-46a4-bcd1-d54d909dac74"
      },
      "execution_count": null,
      "outputs": [
        {
          "output_type": "display_data",
          "data": {
            "text/plain": [
              "      brand      card   deposit    estate     event  exchange       fit  \\\n",
              "3 -0.011091 -0.148415  0.269878 -0.005042 -0.417981 -0.131489 -0.013468   \n",
              "5 -0.011091 -0.148415 -0.459451 -0.005042 -0.417981 -0.131489 -0.013468   \n",
              "6 -0.011091 -0.148415 -0.459451 -0.005042 -0.417981 -0.131489 -0.013468   \n",
              "8 -0.011091 -0.148415 -0.459451 -0.005042 -0.417981 -0.131489 -0.013468   \n",
              "9 -0.011091 -0.148415 -0.459451 -0.005042 -0.417981 -0.131489 -0.013468   \n",
              "\n",
              "     forex       fund      gift   giftbox      gold     guide      home  \\\n",
              "3 -0.05905  -0.044975 -0.013022 -0.057322 -0.034008 -0.021783 -0.024657   \n",
              "5 -0.05905  27.002811 -0.013022 -0.057322 -0.034008 -0.021783 -0.024657   \n",
              "6 -0.05905  -0.044975 -0.013022 -0.057322 -0.034008 -0.021783 -0.024657   \n",
              "8 -0.05905  -0.044975 -0.013022 -0.057322 -0.034008 -0.021783 -0.024657   \n",
              "9 -0.05905  -0.044975 -0.013022 -0.057322 -0.034008 -0.021783 -0.024657   \n",
              "\n",
              "    inquiry  insurance       irp      join      life      loan      main  \\\n",
              "3 -1.036821   -0.03745 -0.101236 -0.083563 -0.377379 -0.249668 -0.275141   \n",
              "5 -1.036821   -0.03745 -0.101236 -0.083563 -0.377379 -0.249668 -0.275141   \n",
              "6 -1.036821   -0.03745 -0.101236 -0.083563 -0.377379 -0.249668 -0.275141   \n",
              "8  0.031625   -0.03745 -0.101236 -0.083563 -0.377379 -0.249668 -0.275141   \n",
              "9 -0.190098   -0.03745 -0.101236 -0.083563 -0.377379 -0.249668 -0.275141   \n",
              "\n",
              "   management  marketing    mycard  othercard     remit   service  welcomebox  \\\n",
              "3   -0.024866   0.029450 -0.015502  -0.007527 -1.334091 -0.408125   -0.033812   \n",
              "5   -0.024866  -0.803719 -0.015502  -0.007527 -1.334091 -0.408125   -0.033812   \n",
              "6   -0.024866  -0.803719 -0.015502  -0.007527 -0.634875 -0.408125   -0.033812   \n",
              "8   -0.024866  -0.803719 -0.015502  -0.007527 -0.451779 -0.408125   -0.033812   \n",
              "9   -0.024866  -0.803719 -0.015502  -0.007527 -0.892935 -0.408125   -0.033812   \n",
              "\n",
              "    Recency  순번 카드사용액  Cluster  \n",
              "3  2.104447   4     0        0  \n",
              "5 -0.267995   6     0        0  \n",
              "6  0.165137   7     0        0  \n",
              "8  2.021082   9     0        0  \n",
              "9 -0.576873  10     2        0  "
            ],
            "text/html": [
              "\n",
              "  <div id=\"df-2a5a7714-b885-453c-bdad-89d6487e2d09\" class=\"colab-df-container\">\n",
              "    <div>\n",
              "<style scoped>\n",
              "    .dataframe tbody tr th:only-of-type {\n",
              "        vertical-align: middle;\n",
              "    }\n",
              "\n",
              "    .dataframe tbody tr th {\n",
              "        vertical-align: top;\n",
              "    }\n",
              "\n",
              "    .dataframe thead th {\n",
              "        text-align: right;\n",
              "    }\n",
              "</style>\n",
              "<table border=\"1\" class=\"dataframe\">\n",
              "  <thead>\n",
              "    <tr style=\"text-align: right;\">\n",
              "      <th></th>\n",
              "      <th>brand</th>\n",
              "      <th>card</th>\n",
              "      <th>deposit</th>\n",
              "      <th>estate</th>\n",
              "      <th>event</th>\n",
              "      <th>exchange</th>\n",
              "      <th>fit</th>\n",
              "      <th>forex</th>\n",
              "      <th>fund</th>\n",
              "      <th>gift</th>\n",
              "      <th>giftbox</th>\n",
              "      <th>gold</th>\n",
              "      <th>guide</th>\n",
              "      <th>home</th>\n",
              "      <th>inquiry</th>\n",
              "      <th>insurance</th>\n",
              "      <th>irp</th>\n",
              "      <th>join</th>\n",
              "      <th>life</th>\n",
              "      <th>loan</th>\n",
              "      <th>main</th>\n",
              "      <th>management</th>\n",
              "      <th>marketing</th>\n",
              "      <th>mycard</th>\n",
              "      <th>othercard</th>\n",
              "      <th>remit</th>\n",
              "      <th>service</th>\n",
              "      <th>welcomebox</th>\n",
              "      <th>Recency</th>\n",
              "      <th>순번</th>\n",
              "      <th>카드사용액</th>\n",
              "      <th>Cluster</th>\n",
              "    </tr>\n",
              "  </thead>\n",
              "  <tbody>\n",
              "    <tr>\n",
              "      <th>3</th>\n",
              "      <td>-0.011091</td>\n",
              "      <td>-0.148415</td>\n",
              "      <td>0.269878</td>\n",
              "      <td>-0.005042</td>\n",
              "      <td>-0.417981</td>\n",
              "      <td>-0.131489</td>\n",
              "      <td>-0.013468</td>\n",
              "      <td>-0.05905</td>\n",
              "      <td>-0.044975</td>\n",
              "      <td>-0.013022</td>\n",
              "      <td>-0.057322</td>\n",
              "      <td>-0.034008</td>\n",
              "      <td>-0.021783</td>\n",
              "      <td>-0.024657</td>\n",
              "      <td>-1.036821</td>\n",
              "      <td>-0.03745</td>\n",
              "      <td>-0.101236</td>\n",
              "      <td>-0.083563</td>\n",
              "      <td>-0.377379</td>\n",
              "      <td>-0.249668</td>\n",
              "      <td>-0.275141</td>\n",
              "      <td>-0.024866</td>\n",
              "      <td>0.029450</td>\n",
              "      <td>-0.015502</td>\n",
              "      <td>-0.007527</td>\n",
              "      <td>-1.334091</td>\n",
              "      <td>-0.408125</td>\n",
              "      <td>-0.033812</td>\n",
              "      <td>2.104447</td>\n",
              "      <td>4</td>\n",
              "      <td>0</td>\n",
              "      <td>0</td>\n",
              "    </tr>\n",
              "    <tr>\n",
              "      <th>5</th>\n",
              "      <td>-0.011091</td>\n",
              "      <td>-0.148415</td>\n",
              "      <td>-0.459451</td>\n",
              "      <td>-0.005042</td>\n",
              "      <td>-0.417981</td>\n",
              "      <td>-0.131489</td>\n",
              "      <td>-0.013468</td>\n",
              "      <td>-0.05905</td>\n",
              "      <td>27.002811</td>\n",
              "      <td>-0.013022</td>\n",
              "      <td>-0.057322</td>\n",
              "      <td>-0.034008</td>\n",
              "      <td>-0.021783</td>\n",
              "      <td>-0.024657</td>\n",
              "      <td>-1.036821</td>\n",
              "      <td>-0.03745</td>\n",
              "      <td>-0.101236</td>\n",
              "      <td>-0.083563</td>\n",
              "      <td>-0.377379</td>\n",
              "      <td>-0.249668</td>\n",
              "      <td>-0.275141</td>\n",
              "      <td>-0.024866</td>\n",
              "      <td>-0.803719</td>\n",
              "      <td>-0.015502</td>\n",
              "      <td>-0.007527</td>\n",
              "      <td>-1.334091</td>\n",
              "      <td>-0.408125</td>\n",
              "      <td>-0.033812</td>\n",
              "      <td>-0.267995</td>\n",
              "      <td>6</td>\n",
              "      <td>0</td>\n",
              "      <td>0</td>\n",
              "    </tr>\n",
              "    <tr>\n",
              "      <th>6</th>\n",
              "      <td>-0.011091</td>\n",
              "      <td>-0.148415</td>\n",
              "      <td>-0.459451</td>\n",
              "      <td>-0.005042</td>\n",
              "      <td>-0.417981</td>\n",
              "      <td>-0.131489</td>\n",
              "      <td>-0.013468</td>\n",
              "      <td>-0.05905</td>\n",
              "      <td>-0.044975</td>\n",
              "      <td>-0.013022</td>\n",
              "      <td>-0.057322</td>\n",
              "      <td>-0.034008</td>\n",
              "      <td>-0.021783</td>\n",
              "      <td>-0.024657</td>\n",
              "      <td>-1.036821</td>\n",
              "      <td>-0.03745</td>\n",
              "      <td>-0.101236</td>\n",
              "      <td>-0.083563</td>\n",
              "      <td>-0.377379</td>\n",
              "      <td>-0.249668</td>\n",
              "      <td>-0.275141</td>\n",
              "      <td>-0.024866</td>\n",
              "      <td>-0.803719</td>\n",
              "      <td>-0.015502</td>\n",
              "      <td>-0.007527</td>\n",
              "      <td>-0.634875</td>\n",
              "      <td>-0.408125</td>\n",
              "      <td>-0.033812</td>\n",
              "      <td>0.165137</td>\n",
              "      <td>7</td>\n",
              "      <td>0</td>\n",
              "      <td>0</td>\n",
              "    </tr>\n",
              "    <tr>\n",
              "      <th>8</th>\n",
              "      <td>-0.011091</td>\n",
              "      <td>-0.148415</td>\n",
              "      <td>-0.459451</td>\n",
              "      <td>-0.005042</td>\n",
              "      <td>-0.417981</td>\n",
              "      <td>-0.131489</td>\n",
              "      <td>-0.013468</td>\n",
              "      <td>-0.05905</td>\n",
              "      <td>-0.044975</td>\n",
              "      <td>-0.013022</td>\n",
              "      <td>-0.057322</td>\n",
              "      <td>-0.034008</td>\n",
              "      <td>-0.021783</td>\n",
              "      <td>-0.024657</td>\n",
              "      <td>0.031625</td>\n",
              "      <td>-0.03745</td>\n",
              "      <td>-0.101236</td>\n",
              "      <td>-0.083563</td>\n",
              "      <td>-0.377379</td>\n",
              "      <td>-0.249668</td>\n",
              "      <td>-0.275141</td>\n",
              "      <td>-0.024866</td>\n",
              "      <td>-0.803719</td>\n",
              "      <td>-0.015502</td>\n",
              "      <td>-0.007527</td>\n",
              "      <td>-0.451779</td>\n",
              "      <td>-0.408125</td>\n",
              "      <td>-0.033812</td>\n",
              "      <td>2.021082</td>\n",
              "      <td>9</td>\n",
              "      <td>0</td>\n",
              "      <td>0</td>\n",
              "    </tr>\n",
              "    <tr>\n",
              "      <th>9</th>\n",
              "      <td>-0.011091</td>\n",
              "      <td>-0.148415</td>\n",
              "      <td>-0.459451</td>\n",
              "      <td>-0.005042</td>\n",
              "      <td>-0.417981</td>\n",
              "      <td>-0.131489</td>\n",
              "      <td>-0.013468</td>\n",
              "      <td>-0.05905</td>\n",
              "      <td>-0.044975</td>\n",
              "      <td>-0.013022</td>\n",
              "      <td>-0.057322</td>\n",
              "      <td>-0.034008</td>\n",
              "      <td>-0.021783</td>\n",
              "      <td>-0.024657</td>\n",
              "      <td>-0.190098</td>\n",
              "      <td>-0.03745</td>\n",
              "      <td>-0.101236</td>\n",
              "      <td>-0.083563</td>\n",
              "      <td>-0.377379</td>\n",
              "      <td>-0.249668</td>\n",
              "      <td>-0.275141</td>\n",
              "      <td>-0.024866</td>\n",
              "      <td>-0.803719</td>\n",
              "      <td>-0.015502</td>\n",
              "      <td>-0.007527</td>\n",
              "      <td>-0.892935</td>\n",
              "      <td>-0.408125</td>\n",
              "      <td>-0.033812</td>\n",
              "      <td>-0.576873</td>\n",
              "      <td>10</td>\n",
              "      <td>2</td>\n",
              "      <td>0</td>\n",
              "    </tr>\n",
              "  </tbody>\n",
              "</table>\n",
              "</div>\n",
              "    <div class=\"colab-df-buttons\">\n",
              "\n",
              "  <div class=\"colab-df-container\">\n",
              "    <button class=\"colab-df-convert\" onclick=\"convertToInteractive('df-2a5a7714-b885-453c-bdad-89d6487e2d09')\"\n",
              "            title=\"Convert this dataframe to an interactive table.\"\n",
              "            style=\"display:none;\">\n",
              "\n",
              "  <svg xmlns=\"http://www.w3.org/2000/svg\" height=\"24px\" viewBox=\"0 -960 960 960\">\n",
              "    <path d=\"M120-120v-720h720v720H120Zm60-500h600v-160H180v160Zm220 220h160v-160H400v160Zm0 220h160v-160H400v160ZM180-400h160v-160H180v160Zm440 0h160v-160H620v160ZM180-180h160v-160H180v160Zm440 0h160v-160H620v160Z\"/>\n",
              "  </svg>\n",
              "    </button>\n",
              "\n",
              "  <style>\n",
              "    .colab-df-container {\n",
              "      display:flex;\n",
              "      gap: 12px;\n",
              "    }\n",
              "\n",
              "    .colab-df-convert {\n",
              "      background-color: #E8F0FE;\n",
              "      border: none;\n",
              "      border-radius: 50%;\n",
              "      cursor: pointer;\n",
              "      display: none;\n",
              "      fill: #1967D2;\n",
              "      height: 32px;\n",
              "      padding: 0 0 0 0;\n",
              "      width: 32px;\n",
              "    }\n",
              "\n",
              "    .colab-df-convert:hover {\n",
              "      background-color: #E2EBFA;\n",
              "      box-shadow: 0px 1px 2px rgba(60, 64, 67, 0.3), 0px 1px 3px 1px rgba(60, 64, 67, 0.15);\n",
              "      fill: #174EA6;\n",
              "    }\n",
              "\n",
              "    .colab-df-buttons div {\n",
              "      margin-bottom: 4px;\n",
              "    }\n",
              "\n",
              "    [theme=dark] .colab-df-convert {\n",
              "      background-color: #3B4455;\n",
              "      fill: #D2E3FC;\n",
              "    }\n",
              "\n",
              "    [theme=dark] .colab-df-convert:hover {\n",
              "      background-color: #434B5C;\n",
              "      box-shadow: 0px 1px 3px 1px rgba(0, 0, 0, 0.15);\n",
              "      filter: drop-shadow(0px 1px 2px rgba(0, 0, 0, 0.3));\n",
              "      fill: #FFFFFF;\n",
              "    }\n",
              "  </style>\n",
              "\n",
              "    <script>\n",
              "      const buttonEl =\n",
              "        document.querySelector('#df-2a5a7714-b885-453c-bdad-89d6487e2d09 button.colab-df-convert');\n",
              "      buttonEl.style.display =\n",
              "        google.colab.kernel.accessAllowed ? 'block' : 'none';\n",
              "\n",
              "      async function convertToInteractive(key) {\n",
              "        const element = document.querySelector('#df-2a5a7714-b885-453c-bdad-89d6487e2d09');\n",
              "        const dataTable =\n",
              "          await google.colab.kernel.invokeFunction('convertToInteractive',\n",
              "                                                    [key], {});\n",
              "        if (!dataTable) return;\n",
              "\n",
              "        const docLinkHtml = 'Like what you see? Visit the ' +\n",
              "          '<a target=\"_blank\" href=https://colab.research.google.com/notebooks/data_table.ipynb>data table notebook</a>'\n",
              "          + ' to learn more about interactive tables.';\n",
              "        element.innerHTML = '';\n",
              "        dataTable['output_type'] = 'display_data';\n",
              "        await google.colab.output.renderOutput(dataTable, element);\n",
              "        const docLink = document.createElement('div');\n",
              "        docLink.innerHTML = docLinkHtml;\n",
              "        element.appendChild(docLink);\n",
              "      }\n",
              "    </script>\n",
              "  </div>\n",
              "\n",
              "\n",
              "<div id=\"df-2412e436-12de-4ba0-9840-18422894d186\">\n",
              "  <button class=\"colab-df-quickchart\" onclick=\"quickchart('df-2412e436-12de-4ba0-9840-18422894d186')\"\n",
              "            title=\"Suggest charts\"\n",
              "            style=\"display:none;\">\n",
              "\n",
              "<svg xmlns=\"http://www.w3.org/2000/svg\" height=\"24px\"viewBox=\"0 0 24 24\"\n",
              "     width=\"24px\">\n",
              "    <g>\n",
              "        <path d=\"M19 3H5c-1.1 0-2 .9-2 2v14c0 1.1.9 2 2 2h14c1.1 0 2-.9 2-2V5c0-1.1-.9-2-2-2zM9 17H7v-7h2v7zm4 0h-2V7h2v10zm4 0h-2v-4h2v4z\"/>\n",
              "    </g>\n",
              "</svg>\n",
              "  </button>\n",
              "\n",
              "<style>\n",
              "  .colab-df-quickchart {\n",
              "      --bg-color: #E8F0FE;\n",
              "      --fill-color: #1967D2;\n",
              "      --hover-bg-color: #E2EBFA;\n",
              "      --hover-fill-color: #174EA6;\n",
              "      --disabled-fill-color: #AAA;\n",
              "      --disabled-bg-color: #DDD;\n",
              "  }\n",
              "\n",
              "  [theme=dark] .colab-df-quickchart {\n",
              "      --bg-color: #3B4455;\n",
              "      --fill-color: #D2E3FC;\n",
              "      --hover-bg-color: #434B5C;\n",
              "      --hover-fill-color: #FFFFFF;\n",
              "      --disabled-bg-color: #3B4455;\n",
              "      --disabled-fill-color: #666;\n",
              "  }\n",
              "\n",
              "  .colab-df-quickchart {\n",
              "    background-color: var(--bg-color);\n",
              "    border: none;\n",
              "    border-radius: 50%;\n",
              "    cursor: pointer;\n",
              "    display: none;\n",
              "    fill: var(--fill-color);\n",
              "    height: 32px;\n",
              "    padding: 0;\n",
              "    width: 32px;\n",
              "  }\n",
              "\n",
              "  .colab-df-quickchart:hover {\n",
              "    background-color: var(--hover-bg-color);\n",
              "    box-shadow: 0 1px 2px rgba(60, 64, 67, 0.3), 0 1px 3px 1px rgba(60, 64, 67, 0.15);\n",
              "    fill: var(--button-hover-fill-color);\n",
              "  }\n",
              "\n",
              "  .colab-df-quickchart-complete:disabled,\n",
              "  .colab-df-quickchart-complete:disabled:hover {\n",
              "    background-color: var(--disabled-bg-color);\n",
              "    fill: var(--disabled-fill-color);\n",
              "    box-shadow: none;\n",
              "  }\n",
              "\n",
              "  .colab-df-spinner {\n",
              "    border: 2px solid var(--fill-color);\n",
              "    border-color: transparent;\n",
              "    border-bottom-color: var(--fill-color);\n",
              "    animation:\n",
              "      spin 1s steps(1) infinite;\n",
              "  }\n",
              "\n",
              "  @keyframes spin {\n",
              "    0% {\n",
              "      border-color: transparent;\n",
              "      border-bottom-color: var(--fill-color);\n",
              "      border-left-color: var(--fill-color);\n",
              "    }\n",
              "    20% {\n",
              "      border-color: transparent;\n",
              "      border-left-color: var(--fill-color);\n",
              "      border-top-color: var(--fill-color);\n",
              "    }\n",
              "    30% {\n",
              "      border-color: transparent;\n",
              "      border-left-color: var(--fill-color);\n",
              "      border-top-color: var(--fill-color);\n",
              "      border-right-color: var(--fill-color);\n",
              "    }\n",
              "    40% {\n",
              "      border-color: transparent;\n",
              "      border-right-color: var(--fill-color);\n",
              "      border-top-color: var(--fill-color);\n",
              "    }\n",
              "    60% {\n",
              "      border-color: transparent;\n",
              "      border-right-color: var(--fill-color);\n",
              "    }\n",
              "    80% {\n",
              "      border-color: transparent;\n",
              "      border-right-color: var(--fill-color);\n",
              "      border-bottom-color: var(--fill-color);\n",
              "    }\n",
              "    90% {\n",
              "      border-color: transparent;\n",
              "      border-bottom-color: var(--fill-color);\n",
              "    }\n",
              "  }\n",
              "</style>\n",
              "\n",
              "  <script>\n",
              "    async function quickchart(key) {\n",
              "      const quickchartButtonEl =\n",
              "        document.querySelector('#' + key + ' button');\n",
              "      quickchartButtonEl.disabled = true;  // To prevent multiple clicks.\n",
              "      quickchartButtonEl.classList.add('colab-df-spinner');\n",
              "      try {\n",
              "        const charts = await google.colab.kernel.invokeFunction(\n",
              "            'suggestCharts', [key], {});\n",
              "      } catch (error) {\n",
              "        console.error('Error during call to suggestCharts:', error);\n",
              "      }\n",
              "      quickchartButtonEl.classList.remove('colab-df-spinner');\n",
              "      quickchartButtonEl.classList.add('colab-df-quickchart-complete');\n",
              "    }\n",
              "    (() => {\n",
              "      let quickchartButtonEl =\n",
              "        document.querySelector('#df-2412e436-12de-4ba0-9840-18422894d186 button');\n",
              "      quickchartButtonEl.style.display =\n",
              "        google.colab.kernel.accessAllowed ? 'block' : 'none';\n",
              "    })();\n",
              "  </script>\n",
              "</div>\n",
              "\n",
              "    </div>\n",
              "  </div>\n"
            ],
            "application/vnd.google.colaboratory.intrinsic+json": {
              "type": "dataframe"
            }
          },
          "metadata": {}
        },
        {
          "output_type": "display_data",
          "data": {
            "text/plain": [
              "   기준일자      기준시간             이벤트명    이벤트타입    이벤트ID 클릭버튼      순번\n",
              "0     1  11:09:46  af_service_view  inquiry  inquiry  NaN  579572\n",
              "1     1  11:09:46  af_service_view  inquiry  inquiry  NaN  579572\n",
              "2     1  11:09:46  af_service_view  inquiry  inquiry  NaN  579572\n",
              "3     1  11:09:46  af_service_view  inquiry  inquiry  NaN  579572\n",
              "4     1  11:09:46  af_service_view  inquiry  inquiry  NaN   63178"
            ],
            "text/html": [
              "\n",
              "  <div id=\"df-b96b1dfa-7330-4923-bf7b-3f77c6584d43\" class=\"colab-df-container\">\n",
              "    <div>\n",
              "<style scoped>\n",
              "    .dataframe tbody tr th:only-of-type {\n",
              "        vertical-align: middle;\n",
              "    }\n",
              "\n",
              "    .dataframe tbody tr th {\n",
              "        vertical-align: top;\n",
              "    }\n",
              "\n",
              "    .dataframe thead th {\n",
              "        text-align: right;\n",
              "    }\n",
              "</style>\n",
              "<table border=\"1\" class=\"dataframe\">\n",
              "  <thead>\n",
              "    <tr style=\"text-align: right;\">\n",
              "      <th></th>\n",
              "      <th>기준일자</th>\n",
              "      <th>기준시간</th>\n",
              "      <th>이벤트명</th>\n",
              "      <th>이벤트타입</th>\n",
              "      <th>이벤트ID</th>\n",
              "      <th>클릭버튼</th>\n",
              "      <th>순번</th>\n",
              "    </tr>\n",
              "  </thead>\n",
              "  <tbody>\n",
              "    <tr>\n",
              "      <th>0</th>\n",
              "      <td>1</td>\n",
              "      <td>11:09:46</td>\n",
              "      <td>af_service_view</td>\n",
              "      <td>inquiry</td>\n",
              "      <td>inquiry</td>\n",
              "      <td>NaN</td>\n",
              "      <td>579572</td>\n",
              "    </tr>\n",
              "    <tr>\n",
              "      <th>1</th>\n",
              "      <td>1</td>\n",
              "      <td>11:09:46</td>\n",
              "      <td>af_service_view</td>\n",
              "      <td>inquiry</td>\n",
              "      <td>inquiry</td>\n",
              "      <td>NaN</td>\n",
              "      <td>579572</td>\n",
              "    </tr>\n",
              "    <tr>\n",
              "      <th>2</th>\n",
              "      <td>1</td>\n",
              "      <td>11:09:46</td>\n",
              "      <td>af_service_view</td>\n",
              "      <td>inquiry</td>\n",
              "      <td>inquiry</td>\n",
              "      <td>NaN</td>\n",
              "      <td>579572</td>\n",
              "    </tr>\n",
              "    <tr>\n",
              "      <th>3</th>\n",
              "      <td>1</td>\n",
              "      <td>11:09:46</td>\n",
              "      <td>af_service_view</td>\n",
              "      <td>inquiry</td>\n",
              "      <td>inquiry</td>\n",
              "      <td>NaN</td>\n",
              "      <td>579572</td>\n",
              "    </tr>\n",
              "    <tr>\n",
              "      <th>4</th>\n",
              "      <td>1</td>\n",
              "      <td>11:09:46</td>\n",
              "      <td>af_service_view</td>\n",
              "      <td>inquiry</td>\n",
              "      <td>inquiry</td>\n",
              "      <td>NaN</td>\n",
              "      <td>63178</td>\n",
              "    </tr>\n",
              "  </tbody>\n",
              "</table>\n",
              "</div>\n",
              "    <div class=\"colab-df-buttons\">\n",
              "\n",
              "  <div class=\"colab-df-container\">\n",
              "    <button class=\"colab-df-convert\" onclick=\"convertToInteractive('df-b96b1dfa-7330-4923-bf7b-3f77c6584d43')\"\n",
              "            title=\"Convert this dataframe to an interactive table.\"\n",
              "            style=\"display:none;\">\n",
              "\n",
              "  <svg xmlns=\"http://www.w3.org/2000/svg\" height=\"24px\" viewBox=\"0 -960 960 960\">\n",
              "    <path d=\"M120-120v-720h720v720H120Zm60-500h600v-160H180v160Zm220 220h160v-160H400v160Zm0 220h160v-160H400v160ZM180-400h160v-160H180v160Zm440 0h160v-160H620v160ZM180-180h160v-160H180v160Zm440 0h160v-160H620v160Z\"/>\n",
              "  </svg>\n",
              "    </button>\n",
              "\n",
              "  <style>\n",
              "    .colab-df-container {\n",
              "      display:flex;\n",
              "      gap: 12px;\n",
              "    }\n",
              "\n",
              "    .colab-df-convert {\n",
              "      background-color: #E8F0FE;\n",
              "      border: none;\n",
              "      border-radius: 50%;\n",
              "      cursor: pointer;\n",
              "      display: none;\n",
              "      fill: #1967D2;\n",
              "      height: 32px;\n",
              "      padding: 0 0 0 0;\n",
              "      width: 32px;\n",
              "    }\n",
              "\n",
              "    .colab-df-convert:hover {\n",
              "      background-color: #E2EBFA;\n",
              "      box-shadow: 0px 1px 2px rgba(60, 64, 67, 0.3), 0px 1px 3px 1px rgba(60, 64, 67, 0.15);\n",
              "      fill: #174EA6;\n",
              "    }\n",
              "\n",
              "    .colab-df-buttons div {\n",
              "      margin-bottom: 4px;\n",
              "    }\n",
              "\n",
              "    [theme=dark] .colab-df-convert {\n",
              "      background-color: #3B4455;\n",
              "      fill: #D2E3FC;\n",
              "    }\n",
              "\n",
              "    [theme=dark] .colab-df-convert:hover {\n",
              "      background-color: #434B5C;\n",
              "      box-shadow: 0px 1px 3px 1px rgba(0, 0, 0, 0.15);\n",
              "      filter: drop-shadow(0px 1px 2px rgba(0, 0, 0, 0.3));\n",
              "      fill: #FFFFFF;\n",
              "    }\n",
              "  </style>\n",
              "\n",
              "    <script>\n",
              "      const buttonEl =\n",
              "        document.querySelector('#df-b96b1dfa-7330-4923-bf7b-3f77c6584d43 button.colab-df-convert');\n",
              "      buttonEl.style.display =\n",
              "        google.colab.kernel.accessAllowed ? 'block' : 'none';\n",
              "\n",
              "      async function convertToInteractive(key) {\n",
              "        const element = document.querySelector('#df-b96b1dfa-7330-4923-bf7b-3f77c6584d43');\n",
              "        const dataTable =\n",
              "          await google.colab.kernel.invokeFunction('convertToInteractive',\n",
              "                                                    [key], {});\n",
              "        if (!dataTable) return;\n",
              "\n",
              "        const docLinkHtml = 'Like what you see? Visit the ' +\n",
              "          '<a target=\"_blank\" href=https://colab.research.google.com/notebooks/data_table.ipynb>data table notebook</a>'\n",
              "          + ' to learn more about interactive tables.';\n",
              "        element.innerHTML = '';\n",
              "        dataTable['output_type'] = 'display_data';\n",
              "        await google.colab.output.renderOutput(dataTable, element);\n",
              "        const docLink = document.createElement('div');\n",
              "        docLink.innerHTML = docLinkHtml;\n",
              "        element.appendChild(docLink);\n",
              "      }\n",
              "    </script>\n",
              "  </div>\n",
              "\n",
              "\n",
              "<div id=\"df-6a372ca7-45a8-4a62-b138-32e5b8e105ec\">\n",
              "  <button class=\"colab-df-quickchart\" onclick=\"quickchart('df-6a372ca7-45a8-4a62-b138-32e5b8e105ec')\"\n",
              "            title=\"Suggest charts\"\n",
              "            style=\"display:none;\">\n",
              "\n",
              "<svg xmlns=\"http://www.w3.org/2000/svg\" height=\"24px\"viewBox=\"0 0 24 24\"\n",
              "     width=\"24px\">\n",
              "    <g>\n",
              "        <path d=\"M19 3H5c-1.1 0-2 .9-2 2v14c0 1.1.9 2 2 2h14c1.1 0 2-.9 2-2V5c0-1.1-.9-2-2-2zM9 17H7v-7h2v7zm4 0h-2V7h2v10zm4 0h-2v-4h2v4z\"/>\n",
              "    </g>\n",
              "</svg>\n",
              "  </button>\n",
              "\n",
              "<style>\n",
              "  .colab-df-quickchart {\n",
              "      --bg-color: #E8F0FE;\n",
              "      --fill-color: #1967D2;\n",
              "      --hover-bg-color: #E2EBFA;\n",
              "      --hover-fill-color: #174EA6;\n",
              "      --disabled-fill-color: #AAA;\n",
              "      --disabled-bg-color: #DDD;\n",
              "  }\n",
              "\n",
              "  [theme=dark] .colab-df-quickchart {\n",
              "      --bg-color: #3B4455;\n",
              "      --fill-color: #D2E3FC;\n",
              "      --hover-bg-color: #434B5C;\n",
              "      --hover-fill-color: #FFFFFF;\n",
              "      --disabled-bg-color: #3B4455;\n",
              "      --disabled-fill-color: #666;\n",
              "  }\n",
              "\n",
              "  .colab-df-quickchart {\n",
              "    background-color: var(--bg-color);\n",
              "    border: none;\n",
              "    border-radius: 50%;\n",
              "    cursor: pointer;\n",
              "    display: none;\n",
              "    fill: var(--fill-color);\n",
              "    height: 32px;\n",
              "    padding: 0;\n",
              "    width: 32px;\n",
              "  }\n",
              "\n",
              "  .colab-df-quickchart:hover {\n",
              "    background-color: var(--hover-bg-color);\n",
              "    box-shadow: 0 1px 2px rgba(60, 64, 67, 0.3), 0 1px 3px 1px rgba(60, 64, 67, 0.15);\n",
              "    fill: var(--button-hover-fill-color);\n",
              "  }\n",
              "\n",
              "  .colab-df-quickchart-complete:disabled,\n",
              "  .colab-df-quickchart-complete:disabled:hover {\n",
              "    background-color: var(--disabled-bg-color);\n",
              "    fill: var(--disabled-fill-color);\n",
              "    box-shadow: none;\n",
              "  }\n",
              "\n",
              "  .colab-df-spinner {\n",
              "    border: 2px solid var(--fill-color);\n",
              "    border-color: transparent;\n",
              "    border-bottom-color: var(--fill-color);\n",
              "    animation:\n",
              "      spin 1s steps(1) infinite;\n",
              "  }\n",
              "\n",
              "  @keyframes spin {\n",
              "    0% {\n",
              "      border-color: transparent;\n",
              "      border-bottom-color: var(--fill-color);\n",
              "      border-left-color: var(--fill-color);\n",
              "    }\n",
              "    20% {\n",
              "      border-color: transparent;\n",
              "      border-left-color: var(--fill-color);\n",
              "      border-top-color: var(--fill-color);\n",
              "    }\n",
              "    30% {\n",
              "      border-color: transparent;\n",
              "      border-left-color: var(--fill-color);\n",
              "      border-top-color: var(--fill-color);\n",
              "      border-right-color: var(--fill-color);\n",
              "    }\n",
              "    40% {\n",
              "      border-color: transparent;\n",
              "      border-right-color: var(--fill-color);\n",
              "      border-top-color: var(--fill-color);\n",
              "    }\n",
              "    60% {\n",
              "      border-color: transparent;\n",
              "      border-right-color: var(--fill-color);\n",
              "    }\n",
              "    80% {\n",
              "      border-color: transparent;\n",
              "      border-right-color: var(--fill-color);\n",
              "      border-bottom-color: var(--fill-color);\n",
              "    }\n",
              "    90% {\n",
              "      border-color: transparent;\n",
              "      border-bottom-color: var(--fill-color);\n",
              "    }\n",
              "  }\n",
              "</style>\n",
              "\n",
              "  <script>\n",
              "    async function quickchart(key) {\n",
              "      const quickchartButtonEl =\n",
              "        document.querySelector('#' + key + ' button');\n",
              "      quickchartButtonEl.disabled = true;  // To prevent multiple clicks.\n",
              "      quickchartButtonEl.classList.add('colab-df-spinner');\n",
              "      try {\n",
              "        const charts = await google.colab.kernel.invokeFunction(\n",
              "            'suggestCharts', [key], {});\n",
              "      } catch (error) {\n",
              "        console.error('Error during call to suggestCharts:', error);\n",
              "      }\n",
              "      quickchartButtonEl.classList.remove('colab-df-spinner');\n",
              "      quickchartButtonEl.classList.add('colab-df-quickchart-complete');\n",
              "    }\n",
              "    (() => {\n",
              "      let quickchartButtonEl =\n",
              "        document.querySelector('#df-6a372ca7-45a8-4a62-b138-32e5b8e105ec button');\n",
              "      quickchartButtonEl.style.display =\n",
              "        google.colab.kernel.accessAllowed ? 'block' : 'none';\n",
              "    })();\n",
              "  </script>\n",
              "</div>\n",
              "\n",
              "    </div>\n",
              "  </div>\n"
            ],
            "application/vnd.google.colaboratory.intrinsic+json": {
              "type": "dataframe",
              "repr_error": "Out of range float values are not JSON compliant: nan"
            }
          },
          "metadata": {}
        },
        {
          "output_type": "display_data",
          "data": {
            "text/plain": [
              "                연령 성별      주소지 자산잔액 부채잔액 카드사용액  순번\n",
              "0  25세 이상 ~ 30세 미만  M   부산 사하구    1    0     4   1\n",
              "1  25세 이상 ~ 30세 미만  M   부산 사하구    1    0     6   2\n",
              "2  25세 이상 ~ 30세 미만  M    부산 북구    0    0     4   3\n",
              "3  25세 이상 ~ 30세 미만  M  부산 해운대구    1    0     0   4\n",
              "4  25세 이상 ~ 30세 미만  M   부산 금정구    7    0     6   5"
            ],
            "text/html": [
              "\n",
              "  <div id=\"df-2ca117db-72a3-4155-8152-c4a7445f88fd\" class=\"colab-df-container\">\n",
              "    <div>\n",
              "<style scoped>\n",
              "    .dataframe tbody tr th:only-of-type {\n",
              "        vertical-align: middle;\n",
              "    }\n",
              "\n",
              "    .dataframe tbody tr th {\n",
              "        vertical-align: top;\n",
              "    }\n",
              "\n",
              "    .dataframe thead th {\n",
              "        text-align: right;\n",
              "    }\n",
              "</style>\n",
              "<table border=\"1\" class=\"dataframe\">\n",
              "  <thead>\n",
              "    <tr style=\"text-align: right;\">\n",
              "      <th></th>\n",
              "      <th>연령</th>\n",
              "      <th>성별</th>\n",
              "      <th>주소지</th>\n",
              "      <th>자산잔액</th>\n",
              "      <th>부채잔액</th>\n",
              "      <th>카드사용액</th>\n",
              "      <th>순번</th>\n",
              "    </tr>\n",
              "  </thead>\n",
              "  <tbody>\n",
              "    <tr>\n",
              "      <th>0</th>\n",
              "      <td>25세 이상 ~ 30세 미만</td>\n",
              "      <td>M</td>\n",
              "      <td>부산 사하구</td>\n",
              "      <td>1</td>\n",
              "      <td>0</td>\n",
              "      <td>4</td>\n",
              "      <td>1</td>\n",
              "    </tr>\n",
              "    <tr>\n",
              "      <th>1</th>\n",
              "      <td>25세 이상 ~ 30세 미만</td>\n",
              "      <td>M</td>\n",
              "      <td>부산 사하구</td>\n",
              "      <td>1</td>\n",
              "      <td>0</td>\n",
              "      <td>6</td>\n",
              "      <td>2</td>\n",
              "    </tr>\n",
              "    <tr>\n",
              "      <th>2</th>\n",
              "      <td>25세 이상 ~ 30세 미만</td>\n",
              "      <td>M</td>\n",
              "      <td>부산 북구</td>\n",
              "      <td>0</td>\n",
              "      <td>0</td>\n",
              "      <td>4</td>\n",
              "      <td>3</td>\n",
              "    </tr>\n",
              "    <tr>\n",
              "      <th>3</th>\n",
              "      <td>25세 이상 ~ 30세 미만</td>\n",
              "      <td>M</td>\n",
              "      <td>부산 해운대구</td>\n",
              "      <td>1</td>\n",
              "      <td>0</td>\n",
              "      <td>0</td>\n",
              "      <td>4</td>\n",
              "    </tr>\n",
              "    <tr>\n",
              "      <th>4</th>\n",
              "      <td>25세 이상 ~ 30세 미만</td>\n",
              "      <td>M</td>\n",
              "      <td>부산 금정구</td>\n",
              "      <td>7</td>\n",
              "      <td>0</td>\n",
              "      <td>6</td>\n",
              "      <td>5</td>\n",
              "    </tr>\n",
              "  </tbody>\n",
              "</table>\n",
              "</div>\n",
              "    <div class=\"colab-df-buttons\">\n",
              "\n",
              "  <div class=\"colab-df-container\">\n",
              "    <button class=\"colab-df-convert\" onclick=\"convertToInteractive('df-2ca117db-72a3-4155-8152-c4a7445f88fd')\"\n",
              "            title=\"Convert this dataframe to an interactive table.\"\n",
              "            style=\"display:none;\">\n",
              "\n",
              "  <svg xmlns=\"http://www.w3.org/2000/svg\" height=\"24px\" viewBox=\"0 -960 960 960\">\n",
              "    <path d=\"M120-120v-720h720v720H120Zm60-500h600v-160H180v160Zm220 220h160v-160H400v160Zm0 220h160v-160H400v160ZM180-400h160v-160H180v160Zm440 0h160v-160H620v160ZM180-180h160v-160H180v160Zm440 0h160v-160H620v160Z\"/>\n",
              "  </svg>\n",
              "    </button>\n",
              "\n",
              "  <style>\n",
              "    .colab-df-container {\n",
              "      display:flex;\n",
              "      gap: 12px;\n",
              "    }\n",
              "\n",
              "    .colab-df-convert {\n",
              "      background-color: #E8F0FE;\n",
              "      border: none;\n",
              "      border-radius: 50%;\n",
              "      cursor: pointer;\n",
              "      display: none;\n",
              "      fill: #1967D2;\n",
              "      height: 32px;\n",
              "      padding: 0 0 0 0;\n",
              "      width: 32px;\n",
              "    }\n",
              "\n",
              "    .colab-df-convert:hover {\n",
              "      background-color: #E2EBFA;\n",
              "      box-shadow: 0px 1px 2px rgba(60, 64, 67, 0.3), 0px 1px 3px 1px rgba(60, 64, 67, 0.15);\n",
              "      fill: #174EA6;\n",
              "    }\n",
              "\n",
              "    .colab-df-buttons div {\n",
              "      margin-bottom: 4px;\n",
              "    }\n",
              "\n",
              "    [theme=dark] .colab-df-convert {\n",
              "      background-color: #3B4455;\n",
              "      fill: #D2E3FC;\n",
              "    }\n",
              "\n",
              "    [theme=dark] .colab-df-convert:hover {\n",
              "      background-color: #434B5C;\n",
              "      box-shadow: 0px 1px 3px 1px rgba(0, 0, 0, 0.15);\n",
              "      filter: drop-shadow(0px 1px 2px rgba(0, 0, 0, 0.3));\n",
              "      fill: #FFFFFF;\n",
              "    }\n",
              "  </style>\n",
              "\n",
              "    <script>\n",
              "      const buttonEl =\n",
              "        document.querySelector('#df-2ca117db-72a3-4155-8152-c4a7445f88fd button.colab-df-convert');\n",
              "      buttonEl.style.display =\n",
              "        google.colab.kernel.accessAllowed ? 'block' : 'none';\n",
              "\n",
              "      async function convertToInteractive(key) {\n",
              "        const element = document.querySelector('#df-2ca117db-72a3-4155-8152-c4a7445f88fd');\n",
              "        const dataTable =\n",
              "          await google.colab.kernel.invokeFunction('convertToInteractive',\n",
              "                                                    [key], {});\n",
              "        if (!dataTable) return;\n",
              "\n",
              "        const docLinkHtml = 'Like what you see? Visit the ' +\n",
              "          '<a target=\"_blank\" href=https://colab.research.google.com/notebooks/data_table.ipynb>data table notebook</a>'\n",
              "          + ' to learn more about interactive tables.';\n",
              "        element.innerHTML = '';\n",
              "        dataTable['output_type'] = 'display_data';\n",
              "        await google.colab.output.renderOutput(dataTable, element);\n",
              "        const docLink = document.createElement('div');\n",
              "        docLink.innerHTML = docLinkHtml;\n",
              "        element.appendChild(docLink);\n",
              "      }\n",
              "    </script>\n",
              "  </div>\n",
              "\n",
              "\n",
              "<div id=\"df-f2bf03a0-31c0-469a-bf2a-7371404ac16e\">\n",
              "  <button class=\"colab-df-quickchart\" onclick=\"quickchart('df-f2bf03a0-31c0-469a-bf2a-7371404ac16e')\"\n",
              "            title=\"Suggest charts\"\n",
              "            style=\"display:none;\">\n",
              "\n",
              "<svg xmlns=\"http://www.w3.org/2000/svg\" height=\"24px\"viewBox=\"0 0 24 24\"\n",
              "     width=\"24px\">\n",
              "    <g>\n",
              "        <path d=\"M19 3H5c-1.1 0-2 .9-2 2v14c0 1.1.9 2 2 2h14c1.1 0 2-.9 2-2V5c0-1.1-.9-2-2-2zM9 17H7v-7h2v7zm4 0h-2V7h2v10zm4 0h-2v-4h2v4z\"/>\n",
              "    </g>\n",
              "</svg>\n",
              "  </button>\n",
              "\n",
              "<style>\n",
              "  .colab-df-quickchart {\n",
              "      --bg-color: #E8F0FE;\n",
              "      --fill-color: #1967D2;\n",
              "      --hover-bg-color: #E2EBFA;\n",
              "      --hover-fill-color: #174EA6;\n",
              "      --disabled-fill-color: #AAA;\n",
              "      --disabled-bg-color: #DDD;\n",
              "  }\n",
              "\n",
              "  [theme=dark] .colab-df-quickchart {\n",
              "      --bg-color: #3B4455;\n",
              "      --fill-color: #D2E3FC;\n",
              "      --hover-bg-color: #434B5C;\n",
              "      --hover-fill-color: #FFFFFF;\n",
              "      --disabled-bg-color: #3B4455;\n",
              "      --disabled-fill-color: #666;\n",
              "  }\n",
              "\n",
              "  .colab-df-quickchart {\n",
              "    background-color: var(--bg-color);\n",
              "    border: none;\n",
              "    border-radius: 50%;\n",
              "    cursor: pointer;\n",
              "    display: none;\n",
              "    fill: var(--fill-color);\n",
              "    height: 32px;\n",
              "    padding: 0;\n",
              "    width: 32px;\n",
              "  }\n",
              "\n",
              "  .colab-df-quickchart:hover {\n",
              "    background-color: var(--hover-bg-color);\n",
              "    box-shadow: 0 1px 2px rgba(60, 64, 67, 0.3), 0 1px 3px 1px rgba(60, 64, 67, 0.15);\n",
              "    fill: var(--button-hover-fill-color);\n",
              "  }\n",
              "\n",
              "  .colab-df-quickchart-complete:disabled,\n",
              "  .colab-df-quickchart-complete:disabled:hover {\n",
              "    background-color: var(--disabled-bg-color);\n",
              "    fill: var(--disabled-fill-color);\n",
              "    box-shadow: none;\n",
              "  }\n",
              "\n",
              "  .colab-df-spinner {\n",
              "    border: 2px solid var(--fill-color);\n",
              "    border-color: transparent;\n",
              "    border-bottom-color: var(--fill-color);\n",
              "    animation:\n",
              "      spin 1s steps(1) infinite;\n",
              "  }\n",
              "\n",
              "  @keyframes spin {\n",
              "    0% {\n",
              "      border-color: transparent;\n",
              "      border-bottom-color: var(--fill-color);\n",
              "      border-left-color: var(--fill-color);\n",
              "    }\n",
              "    20% {\n",
              "      border-color: transparent;\n",
              "      border-left-color: var(--fill-color);\n",
              "      border-top-color: var(--fill-color);\n",
              "    }\n",
              "    30% {\n",
              "      border-color: transparent;\n",
              "      border-left-color: var(--fill-color);\n",
              "      border-top-color: var(--fill-color);\n",
              "      border-right-color: var(--fill-color);\n",
              "    }\n",
              "    40% {\n",
              "      border-color: transparent;\n",
              "      border-right-color: var(--fill-color);\n",
              "      border-top-color: var(--fill-color);\n",
              "    }\n",
              "    60% {\n",
              "      border-color: transparent;\n",
              "      border-right-color: var(--fill-color);\n",
              "    }\n",
              "    80% {\n",
              "      border-color: transparent;\n",
              "      border-right-color: var(--fill-color);\n",
              "      border-bottom-color: var(--fill-color);\n",
              "    }\n",
              "    90% {\n",
              "      border-color: transparent;\n",
              "      border-bottom-color: var(--fill-color);\n",
              "    }\n",
              "  }\n",
              "</style>\n",
              "\n",
              "  <script>\n",
              "    async function quickchart(key) {\n",
              "      const quickchartButtonEl =\n",
              "        document.querySelector('#' + key + ' button');\n",
              "      quickchartButtonEl.disabled = true;  // To prevent multiple clicks.\n",
              "      quickchartButtonEl.classList.add('colab-df-spinner');\n",
              "      try {\n",
              "        const charts = await google.colab.kernel.invokeFunction(\n",
              "            'suggestCharts', [key], {});\n",
              "      } catch (error) {\n",
              "        console.error('Error during call to suggestCharts:', error);\n",
              "      }\n",
              "      quickchartButtonEl.classList.remove('colab-df-spinner');\n",
              "      quickchartButtonEl.classList.add('colab-df-quickchart-complete');\n",
              "    }\n",
              "    (() => {\n",
              "      let quickchartButtonEl =\n",
              "        document.querySelector('#df-f2bf03a0-31c0-469a-bf2a-7371404ac16e button');\n",
              "      quickchartButtonEl.style.display =\n",
              "        google.colab.kernel.accessAllowed ? 'block' : 'none';\n",
              "    })();\n",
              "  </script>\n",
              "</div>\n",
              "\n",
              "    </div>\n",
              "  </div>\n"
            ],
            "application/vnd.google.colaboratory.intrinsic+json": {
              "type": "dataframe",
              "summary": "{\n  \"name\": \"display(apps\",\n  \"rows\": 5,\n  \"fields\": [\n    {\n      \"column\": \"\\uc5f0\\ub839\",\n      \"properties\": {\n        \"dtype\": \"category\",\n        \"num_unique_values\": 1,\n        \"samples\": [\n          \"25\\uc138 \\uc774\\uc0c1 ~ 30\\uc138 \\ubbf8\\ub9cc\"\n        ],\n        \"semantic_type\": \"\",\n        \"description\": \"\"\n      }\n    },\n    {\n      \"column\": \"\\uc131\\ubcc4\",\n      \"properties\": {\n        \"dtype\": \"category\",\n        \"num_unique_values\": 1,\n        \"samples\": [\n          \"M\"\n        ],\n        \"semantic_type\": \"\",\n        \"description\": \"\"\n      }\n    },\n    {\n      \"column\": \"\\uc8fc\\uc18c\\uc9c0\",\n      \"properties\": {\n        \"dtype\": \"string\",\n        \"num_unique_values\": 4,\n        \"samples\": [\n          \"\\ubd80\\uc0b0 \\ubd81\\uad6c\"\n        ],\n        \"semantic_type\": \"\",\n        \"description\": \"\"\n      }\n    },\n    {\n      \"column\": \"\\uc790\\uc0b0\\uc794\\uc561\",\n      \"properties\": {\n        \"dtype\": \"string\",\n        \"num_unique_values\": 3,\n        \"samples\": [\n          \"1\"\n        ],\n        \"semantic_type\": \"\",\n        \"description\": \"\"\n      }\n    },\n    {\n      \"column\": \"\\ubd80\\ucc44\\uc794\\uc561\",\n      \"properties\": {\n        \"dtype\": \"category\",\n        \"num_unique_values\": 1,\n        \"samples\": [\n          \"0\"\n        ],\n        \"semantic_type\": \"\",\n        \"description\": \"\"\n      }\n    },\n    {\n      \"column\": \"\\uce74\\ub4dc\\uc0ac\\uc6a9\\uc561\",\n      \"properties\": {\n        \"dtype\": \"string\",\n        \"num_unique_values\": 3,\n        \"samples\": [\n          \"4\"\n        ],\n        \"semantic_type\": \"\",\n        \"description\": \"\"\n      }\n    },\n    {\n      \"column\": \"\\uc21c\\ubc88\",\n      \"properties\": {\n        \"dtype\": \"number\",\n        \"std\": 1,\n        \"min\": 1,\n        \"max\": 5,\n        \"num_unique_values\": 5,\n        \"samples\": [\n          2\n        ],\n        \"semantic_type\": \"\",\n        \"description\": \"\"\n      }\n    }\n  ]\n}"
            }
          },
          "metadata": {}
        },
        {
          "output_type": "display_data",
          "data": {
            "text/plain": [
              "(37024153, 7)"
            ]
          },
          "metadata": {}
        }
      ]
    },
    {
      "cell_type": "markdown",
      "source": [
        "#### cluster 2"
      ],
      "metadata": {
        "id": "IYj6p42fwhWe"
      }
    },
    {
      "cell_type": "code",
      "source": [
        "# '기준일자', '카드사용액'을 제외한 새로운 데이터프레임 생성\n",
        "cluster_2_dropped = cluster_2.drop(columns=['카드사용액'], errors='ignore')\n",
        "apps_dropped = apps.drop(columns=['기준일자'], errors='ignore')\n",
        "cust_dropped = cust.drop(columns=['카드사용액'], errors='ignore')\n",
        "\n",
        "# '순번'을 기준으로 두 데이터프레임 병합 (inner join)\n",
        "merged_data = pd.merge(cluster_2_dropped, apps_dropped, on='순번', how='inner')\n",
        "\n",
        "# 그 다음 'cust_dropped'도 '순번'을 기준으로 병합\n",
        "final_cluster_2 = pd.merge(merged_data, cust_dropped, on='순번', how='inner')\n",
        "\n",
        "# 결과 확인\n",
        "print(final_cluster_2.shape)\n",
        "print(final_cluster_2.head())"
      ],
      "metadata": {
        "colab": {
          "base_uri": "https://localhost:8080/"
        },
        "id": "U8zM4-eEl3hi",
        "outputId": "9b8a020b-f725-423f-b537-d549c9dbe31b"
      },
      "execution_count": null,
      "outputs": [
        {
          "output_type": "stream",
          "name": "stdout",
          "text": "(72464, 41)\n\n      brand      card   deposit    estate     event  exchange       fit  \\\n\n0 -0.011091 -0.148415 -0.459451 -0.005042  2.109262 -0.131489 -0.013468   \n\n1 -0.011091 -0.148415 -0.459451 -0.005042  2.109262 -0.131489 -0.013468   \n\n2 -0.011091 -0.148415 -0.459451 -0.005042  2.109262 -0.131489 -0.013468   \n\n3 -0.011091 -0.148415 -0.459451 -0.005042  2.109262 -0.131489 -0.013468   \n\n4 -0.011091 -0.148415 -0.459451 -0.005042  2.109262 -0.131489 -0.013468   \n\n\n\n     forex      fund      gift   giftbox      gold      guide      home  \\\n\n0 -0.05905 -0.044975 -0.013022 -0.057322 -0.034008  28.319135 -0.024657   \n\n1 -0.05905 -0.044975 -0.013022 -0.057322 -0.034008  28.319135 -0.024657   \n\n2 -0.05905 -0.044975 -0.013022 -0.057322 -0.034008  28.319135 -0.024657   \n\n3 -0.05905 -0.044975 -0.013022 -0.057322 -0.034008  28.319135 -0.024657   \n\n4 -0.05905 -0.044975 -0.013022 -0.057322 -0.034008  28.319135 -0.024657   \n\n\n\n    inquiry  insurance       irp      join      life      loan      main  \\\n\n0  0.031625   -0.03745 -0.101236 -0.083563 -0.377379 -0.249668  3.127053   \n\n1  0.031625   -0.03745 -0.101236 -0.083563 -0.377379 -0.249668  3.127053   \n\n2  0.031625   -0.03745 -0.101236 -0.083563 -0.377379 -0.249668  3.127053   \n\n3  0.031625   -0.03745 -0.101236 -0.083563 -0.377379 -0.249668  3.127053   \n\n4  0.031625   -0.03745 -0.101236 -0.083563 -0.377379 -0.249668  3.127053   \n\n\n\n   management  marketing    mycard  othercard     remit   service  welcomebox  \\\n\n0   24.626136    0.02945 -0.015502  -0.007527 -0.634875 -0.408125   -0.033812   \n\n1   24.626136    0.02945 -0.015502  -0.007527 -0.634875 -0.408125   -0.033812   \n\n2   24.626136    0.02945 -0.015502  -0.007527 -0.634875 -0.408125   -0.033812   \n\n3   24.626136    0.02945 -0.015502  -0.007527 -0.634875 -0.408125   -0.033812   \n\n4   24.626136    0.02945 -0.015502  -0.007527 -0.634875 -0.408125   -0.033812   \n\n\n\n    Recency    순번  Cluster      기준시간             이벤트명      이벤트타입  \\\n\n0 -0.034016  8529        2  08:26:50    af_event_view      event   \n\n1 -0.034016  8529        2  08:26:49    af_main_popup  marketing   \n\n2 -0.034016  8529        2  09:58:14  af_service_view      remit   \n\n3 -0.034016  8529        2  09:56:34  af_service_view    inquiry   \n\n4 -0.034016  8529        2  17:37:13    af_event_view      event   \n\n\n\n                  이벤트ID 클릭버튼      연령 성별     주소지 자산잔액 부채잔액  \n\n0  마지막 롯데자이언츠 시민권 증정 이벤  NaN  70세 이상  M  부산 금정구    6    0  \n\n1  20240208155929537AP2  NaN  70세 이상  M  부산 금정구    6    0  \n\n2                 remit  NaN  70세 이상  M  부산 금정구    6    0  \n\n3               inquiry  NaN  70세 이상  M  부산 금정구    6    0  \n\n4   무비라이프withCGV 행복의 나라  NaN  70세 이상  M  부산 금정구    6    0  \n"
        }
      ]
    },
    {
      "cell_type": "code",
      "source": [
        "# final_cluster_2.to_csv('/content/drive/MyDrive/DIVE2024/data/3K_cluster_2.csv', index=False, encoding='utf-8')"
      ],
      "metadata": {
        "id": "iXFvFJoYu7Ng"
      },
      "execution_count": null,
      "outputs": []
    },
    {
      "cell_type": "markdown",
      "source": [
        "#### cluster 0"
      ],
      "metadata": {
        "id": "5MXoc242wpXM"
      }
    },
    {
      "cell_type": "code",
      "source": [
        "cluster_0.shape"
      ],
      "metadata": {
        "colab": {
          "base_uri": "https://localhost:8080/"
        },
        "id": "QtNpTNPCwocC",
        "outputId": "163e9b85-e00c-41a4-d237-acd78ceab4a8"
      },
      "execution_count": null,
      "outputs": [
        {
          "output_type": "execute_result",
          "execution_count": 8,
          "data": {
            "text/plain": [
              "(379388, 32)"
            ]
          },
          "metadata": {}
        }
      ]
    },
    {
      "cell_type": "code",
      "source": [
        "# cluster_0을 5등분으로 나누기\n",
        "cluster_chunks = np.array_split(cluster_0, 5)\n",
        "\n",
        "# 각 chunk를 개별 데이터프레임으로 저장\n",
        "cluster_0_1, cluster_0_2, cluster_0_3, cluster_0_4, cluster_0_5 = cluster_chunks"
      ],
      "metadata": {
        "id": "eP0-Zei3xT2Y"
      },
      "execution_count": null,
      "outputs": []
    },
    {
      "cell_type": "code",
      "source": [
        "# '기준일자', '카드사용액'을 제외한 새로운 데이터프레임 생성\n",
        "cluster_0_1_dropped = cluster_0_1.drop(columns=['카드사용액'], errors='ignore')\n",
        "apps_dropped = apps.drop(columns=['기준일자'], errors='ignore')\n",
        "cust_dropped = cust.drop(columns=['카드사용액'], errors='ignore')\n",
        "\n",
        "# '순번'을 기준으로 두 데이터프레임 병합 (inner join)\n",
        "merged_data = pd.merge(cluster_0_1_dropped, apps_dropped, on='순번', how='inner')\n",
        "\n",
        "# 그 다음 'cust_dropped'도 '순번'을 기준으로 병합\n",
        "final_cluster_0_1 = pd.merge(merged_data, cust_dropped, on='순번', how='inner')\n",
        "\n",
        "# 결과 확인\n",
        "print(final_cluster_0_1.shape)\n",
        "print(final_cluster_0_1.head())"
      ],
      "metadata": {
        "colab": {
          "base_uri": "https://localhost:8080/"
        },
        "id": "DtX_2Bz5z9Fy",
        "outputId": "7fa8af29-a4bb-4bf8-d752-ada654000ae4"
      },
      "execution_count": null,
      "outputs": [
        {
          "output_type": "stream",
          "name": "stdout",
          "text": "(3757386, 41)\n\n      brand      card   deposit    estate     event  exchange       fit  \\\n\n0 -0.011091 -0.148415 -0.459451 -0.005042 -0.417981 -0.131489 -0.013468   \n\n1 -0.011091 -0.148415 -0.459451 -0.005042 -0.417981 -0.131489 -0.013468   \n\n2 -0.011091 -0.148415 -0.459451 -0.005042 -0.417981 -0.131489 -0.013468   \n\n3 -0.011091 -0.148415 -0.459451 -0.005042 -0.417981 -0.131489 -0.013468   \n\n4 -0.011091 -0.148415 -0.459451 -0.005042 -0.417981 -0.131489 -0.013468   \n\n\n\n     forex      fund      gift   giftbox      gold     guide      home  \\\n\n0 -0.05905 -0.044975 -0.013022 -0.057322 -0.034008 -0.021783 -0.024657   \n\n1 -0.05905 -0.044975 -0.013022 -0.057322 -0.034008 -0.021783 -0.024657   \n\n2 -0.05905 -0.044975 -0.013022 -0.057322 -0.034008 -0.021783 -0.024657   \n\n3 -0.05905 -0.044975 -0.013022 -0.057322 -0.034008 -0.021783 -0.024657   \n\n4 -0.05905 -0.044975 -0.013022 -0.057322 -0.034008 -0.021783 -0.024657   \n\n\n\n    inquiry  insurance       irp      join      life      loan      main  \\\n\n0  1.232519   -0.03745 -0.101236 -0.083563 -0.377379 -0.249668 -0.275141   \n\n1  1.232519   -0.03745 -0.101236 -0.083563 -0.377379 -0.249668 -0.275141   \n\n2  1.232519   -0.03745 -0.101236 -0.083563 -0.377379 -0.249668 -0.275141   \n\n3  1.232519   -0.03745 -0.101236 -0.083563 -0.377379 -0.249668 -0.275141   \n\n4  1.232519   -0.03745 -0.101236 -0.083563 -0.377379 -0.249668 -0.275141   \n\n\n\n   management  marketing    mycard  othercard     remit   service  welcomebox  \\\n\n0   -0.024866    0.02945 -0.015502  -0.007527 -0.095609 -0.408125   -0.033812   \n\n1   -0.024866    0.02945 -0.015502  -0.007527 -0.095609 -0.408125   -0.033812   \n\n2   -0.024866    0.02945 -0.015502  -0.007527 -0.095609 -0.408125   -0.033812   \n\n3   -0.024866    0.02945 -0.015502  -0.007527 -0.095609 -0.408125   -0.033812   \n\n4   -0.024866    0.02945 -0.015502  -0.007527 -0.095609 -0.408125   -0.033812   \n\n\n\n    Recency  순번  Cluster      기준시간             이벤트명    이벤트타입    이벤트ID 클릭버튼  \\\n\n0 -0.690441   1        0  18:31:40  af_service_view  inquiry  inquiry  NaN   \n\n1 -0.690441   1        0  22:10:06  af_service_view  inquiry  inquiry  NaN   \n\n2 -0.690441   1        0  20:40:14  af_service_view    remit    remit  NaN   \n\n3 -0.690441   1        0  08:21:03  af_service_view  inquiry  inquiry  NaN   \n\n4 -0.690441   1        0  21:35:49  af_service_view    remit    remit  NaN   \n\n\n\n                연령 성별     주소지                  자산잔액       부채잔액  \n\n0  25세 이상 ~ 30세 미만  M  부산 사하구  1. 일만 원 이상 ~ 십만 원 미만  0. 대출 미보유  \n\n1  25세 이상 ~ 30세 미만  M  부산 사하구  1. 일만 원 이상 ~ 십만 원 미만  0. 대출 미보유  \n\n2  25세 이상 ~ 30세 미만  M  부산 사하구  1. 일만 원 이상 ~ 십만 원 미만  0. 대출 미보유  \n\n3  25세 이상 ~ 30세 미만  M  부산 사하구  1. 일만 원 이상 ~ 십만 원 미만  0. 대출 미보유  \n\n4  25세 이상 ~ 30세 미만  M  부산 사하구  1. 일만 원 이상 ~ 십만 원 미만  0. 대출 미보유  \n"
        }
      ]
    },
    {
      "cell_type": "code",
      "source": [
        "# '기준일자', '카드사용액'을 제외한 새로운 데이터프레임 생성\n",
        "cluster_0_2_dropped = cluster_0_2.drop(columns=['카드사용액'], errors='ignore')\n",
        "apps_dropped = apps.drop(columns=['기준일자'], errors='ignore')\n",
        "cust_dropped = cust.drop(columns=['카드사용액'], errors='ignore')\n",
        "\n",
        "# '순번'을 기준으로 두 데이터프레임 병합 (inner join)\n",
        "merged_data = pd.merge(cluster_0_2_dropped, apps_dropped, on='순번', how='inner')\n",
        "\n",
        "# 그 다음 'cust_dropped'도 '순번'을 기준으로 병합\n",
        "final_cluster_0_2 = pd.merge(merged_data, cust_dropped, on='순번', how='inner')\n",
        "\n",
        "# 결과 확인\n",
        "print(final_cluster_0_2.shape)\n",
        "print(final_cluster_0_2.head())"
      ],
      "metadata": {
        "id": "tRpfBhyB0gDJ"
      },
      "execution_count": null,
      "outputs": []
    },
    {
      "cell_type": "code",
      "source": [
        "# '기준일자', '카드사용액'을 제외한 새로운 데이터프레임 생성\n",
        "cluster_0_3_dropped = cluster_0_3.drop(columns=['카드사용액'], errors='ignore')\n",
        "apps_dropped = apps.drop(columns=['기준일자'], errors='ignore')\n",
        "cust_dropped = cust.drop(columns=['카드사용액'], errors='ignore')\n",
        "\n",
        "# '순번'을 기준으로 두 데이터프레임 병합 (inner join)\n",
        "merged_data = pd.merge(cluster_0_2_dropped, apps_dropped, on='순번', how='inner')\n",
        "\n",
        "# 그 다음 'cust_dropped'도 '순번'을 기준으로 병합\n",
        "final_cluster_0_2 = pd.merge(merged_data, cust_dropped, on='순번', how='inner')\n",
        "\n",
        "# 결과 확인\n",
        "print(final_cluster_0_2.shape)\n",
        "print(final_cluster_0_2.head())"
      ],
      "metadata": {
        "id": "zauSqd4e0pFh"
      },
      "execution_count": null,
      "outputs": []
    },
    {
      "cell_type": "markdown",
      "source": [
        "### Cluster 2"
      ],
      "metadata": {
        "id": "z_zP7ywCAADc"
      }
    },
    {
      "cell_type": "code",
      "source": [
        "cluster_2.head()"
      ],
      "metadata": {
        "colab": {
          "base_uri": "https://localhost:8080/",
          "height": 625
        },
        "id": "uW6NQTURACnx",
        "outputId": "7f0f026d-67b7-4d6f-d48d-451b40c87de4"
      },
      "execution_count": null,
      "outputs": [
        {
          "output_type": "execute_result",
          "execution_count": 6,
          "data": {
            "text/plain": [
              "      brand      card   deposit    estate     event  exchange       fit  \\\n",
              "0 -0.011091 -0.148415 -0.459451 -0.005042  2.109262 -0.131489 -0.013468   \n",
              "1 -0.011091 -0.148415 -0.459451 -0.005042  2.109262 -0.131489 -0.013468   \n",
              "2 -0.011091 -0.148415 -0.459451 -0.005042  2.109262 -0.131489 -0.013468   \n",
              "3 -0.011091 -0.148415 -0.459451 -0.005042  2.109262 -0.131489 -0.013468   \n",
              "4 -0.011091 -0.148415 -0.459451 -0.005042  2.109262 -0.131489 -0.013468   \n",
              "\n",
              "     forex      fund      gift   giftbox      gold      guide      home  \\\n",
              "0 -0.05905 -0.044975 -0.013022 -0.057322 -0.034008  28.319135 -0.024657   \n",
              "1 -0.05905 -0.044975 -0.013022 -0.057322 -0.034008  28.319135 -0.024657   \n",
              "2 -0.05905 -0.044975 -0.013022 -0.057322 -0.034008  28.319135 -0.024657   \n",
              "3 -0.05905 -0.044975 -0.013022 -0.057322 -0.034008  28.319135 -0.024657   \n",
              "4 -0.05905 -0.044975 -0.013022 -0.057322 -0.034008  28.319135 -0.024657   \n",
              "\n",
              "    inquiry  insurance       irp      join      life      loan      main  \\\n",
              "0  0.031625   -0.03745 -0.101236 -0.083563 -0.377379 -0.249668  3.127053   \n",
              "1  0.031625   -0.03745 -0.101236 -0.083563 -0.377379 -0.249668  3.127053   \n",
              "2  0.031625   -0.03745 -0.101236 -0.083563 -0.377379 -0.249668  3.127053   \n",
              "3  0.031625   -0.03745 -0.101236 -0.083563 -0.377379 -0.249668  3.127053   \n",
              "4  0.031625   -0.03745 -0.101236 -0.083563 -0.377379 -0.249668  3.127053   \n",
              "\n",
              "   management  marketing    mycard  othercard     remit   service  welcomebox  \\\n",
              "0   24.626136    0.02945 -0.015502  -0.007527 -0.634875 -0.408125   -0.033812   \n",
              "1   24.626136    0.02945 -0.015502  -0.007527 -0.634875 -0.408125   -0.033812   \n",
              "2   24.626136    0.02945 -0.015502  -0.007527 -0.634875 -0.408125   -0.033812   \n",
              "3   24.626136    0.02945 -0.015502  -0.007527 -0.634875 -0.408125   -0.033812   \n",
              "4   24.626136    0.02945 -0.015502  -0.007527 -0.634875 -0.408125   -0.033812   \n",
              "\n",
              "    Recency    순번  Cluster      기준시간             이벤트명      이벤트타입  \\\n",
              "0 -0.034016  8529        2  08:26:50    af_event_view      event   \n",
              "1 -0.034016  8529        2  08:26:49    af_main_popup  marketing   \n",
              "2 -0.034016  8529        2  09:58:14  af_service_view      remit   \n",
              "3 -0.034016  8529        2  09:56:34  af_service_view    inquiry   \n",
              "4 -0.034016  8529        2  17:37:13    af_event_view      event   \n",
              "\n",
              "                  이벤트ID 클릭버튼      연령 성별     주소지  자산잔액  부채잔액  \n",
              "0  마지막 롯데자이언츠 시민권 증정 이벤  NaN  70세 이상  M  부산 금정구     6     0  \n",
              "1  20240208155929537AP2  NaN  70세 이상  M  부산 금정구     6     0  \n",
              "2                 remit  NaN  70세 이상  M  부산 금정구     6     0  \n",
              "3               inquiry  NaN  70세 이상  M  부산 금정구     6     0  \n",
              "4   무비라이프withCGV 행복의 나라  NaN  70세 이상  M  부산 금정구     6     0  "
            ],
            "text/html": [
              "\n",
              "  <div id=\"df-0713bc9d-772f-439b-a872-576325dcd8bf\" class=\"colab-df-container\">\n",
              "    <div>\n",
              "<style scoped>\n",
              "    .dataframe tbody tr th:only-of-type {\n",
              "        vertical-align: middle;\n",
              "    }\n",
              "\n",
              "    .dataframe tbody tr th {\n",
              "        vertical-align: top;\n",
              "    }\n",
              "\n",
              "    .dataframe thead th {\n",
              "        text-align: right;\n",
              "    }\n",
              "</style>\n",
              "<table border=\"1\" class=\"dataframe\">\n",
              "  <thead>\n",
              "    <tr style=\"text-align: right;\">\n",
              "      <th></th>\n",
              "      <th>brand</th>\n",
              "      <th>card</th>\n",
              "      <th>deposit</th>\n",
              "      <th>estate</th>\n",
              "      <th>event</th>\n",
              "      <th>exchange</th>\n",
              "      <th>fit</th>\n",
              "      <th>forex</th>\n",
              "      <th>fund</th>\n",
              "      <th>gift</th>\n",
              "      <th>giftbox</th>\n",
              "      <th>gold</th>\n",
              "      <th>guide</th>\n",
              "      <th>home</th>\n",
              "      <th>inquiry</th>\n",
              "      <th>insurance</th>\n",
              "      <th>irp</th>\n",
              "      <th>join</th>\n",
              "      <th>life</th>\n",
              "      <th>loan</th>\n",
              "      <th>main</th>\n",
              "      <th>management</th>\n",
              "      <th>marketing</th>\n",
              "      <th>mycard</th>\n",
              "      <th>othercard</th>\n",
              "      <th>remit</th>\n",
              "      <th>service</th>\n",
              "      <th>welcomebox</th>\n",
              "      <th>Recency</th>\n",
              "      <th>순번</th>\n",
              "      <th>Cluster</th>\n",
              "      <th>기준시간</th>\n",
              "      <th>이벤트명</th>\n",
              "      <th>이벤트타입</th>\n",
              "      <th>이벤트ID</th>\n",
              "      <th>클릭버튼</th>\n",
              "      <th>연령</th>\n",
              "      <th>성별</th>\n",
              "      <th>주소지</th>\n",
              "      <th>자산잔액</th>\n",
              "      <th>부채잔액</th>\n",
              "    </tr>\n",
              "  </thead>\n",
              "  <tbody>\n",
              "    <tr>\n",
              "      <th>0</th>\n",
              "      <td>-0.011091</td>\n",
              "      <td>-0.148415</td>\n",
              "      <td>-0.459451</td>\n",
              "      <td>-0.005042</td>\n",
              "      <td>2.109262</td>\n",
              "      <td>-0.131489</td>\n",
              "      <td>-0.013468</td>\n",
              "      <td>-0.05905</td>\n",
              "      <td>-0.044975</td>\n",
              "      <td>-0.013022</td>\n",
              "      <td>-0.057322</td>\n",
              "      <td>-0.034008</td>\n",
              "      <td>28.319135</td>\n",
              "      <td>-0.024657</td>\n",
              "      <td>0.031625</td>\n",
              "      <td>-0.03745</td>\n",
              "      <td>-0.101236</td>\n",
              "      <td>-0.083563</td>\n",
              "      <td>-0.377379</td>\n",
              "      <td>-0.249668</td>\n",
              "      <td>3.127053</td>\n",
              "      <td>24.626136</td>\n",
              "      <td>0.02945</td>\n",
              "      <td>-0.015502</td>\n",
              "      <td>-0.007527</td>\n",
              "      <td>-0.634875</td>\n",
              "      <td>-0.408125</td>\n",
              "      <td>-0.033812</td>\n",
              "      <td>-0.034016</td>\n",
              "      <td>8529</td>\n",
              "      <td>2</td>\n",
              "      <td>08:26:50</td>\n",
              "      <td>af_event_view</td>\n",
              "      <td>event</td>\n",
              "      <td>마지막 롯데자이언츠 시민권 증정 이벤</td>\n",
              "      <td>NaN</td>\n",
              "      <td>70세 이상</td>\n",
              "      <td>M</td>\n",
              "      <td>부산 금정구</td>\n",
              "      <td>6</td>\n",
              "      <td>0</td>\n",
              "    </tr>\n",
              "    <tr>\n",
              "      <th>1</th>\n",
              "      <td>-0.011091</td>\n",
              "      <td>-0.148415</td>\n",
              "      <td>-0.459451</td>\n",
              "      <td>-0.005042</td>\n",
              "      <td>2.109262</td>\n",
              "      <td>-0.131489</td>\n",
              "      <td>-0.013468</td>\n",
              "      <td>-0.05905</td>\n",
              "      <td>-0.044975</td>\n",
              "      <td>-0.013022</td>\n",
              "      <td>-0.057322</td>\n",
              "      <td>-0.034008</td>\n",
              "      <td>28.319135</td>\n",
              "      <td>-0.024657</td>\n",
              "      <td>0.031625</td>\n",
              "      <td>-0.03745</td>\n",
              "      <td>-0.101236</td>\n",
              "      <td>-0.083563</td>\n",
              "      <td>-0.377379</td>\n",
              "      <td>-0.249668</td>\n",
              "      <td>3.127053</td>\n",
              "      <td>24.626136</td>\n",
              "      <td>0.02945</td>\n",
              "      <td>-0.015502</td>\n",
              "      <td>-0.007527</td>\n",
              "      <td>-0.634875</td>\n",
              "      <td>-0.408125</td>\n",
              "      <td>-0.033812</td>\n",
              "      <td>-0.034016</td>\n",
              "      <td>8529</td>\n",
              "      <td>2</td>\n",
              "      <td>08:26:49</td>\n",
              "      <td>af_main_popup</td>\n",
              "      <td>marketing</td>\n",
              "      <td>20240208155929537AP2</td>\n",
              "      <td>NaN</td>\n",
              "      <td>70세 이상</td>\n",
              "      <td>M</td>\n",
              "      <td>부산 금정구</td>\n",
              "      <td>6</td>\n",
              "      <td>0</td>\n",
              "    </tr>\n",
              "    <tr>\n",
              "      <th>2</th>\n",
              "      <td>-0.011091</td>\n",
              "      <td>-0.148415</td>\n",
              "      <td>-0.459451</td>\n",
              "      <td>-0.005042</td>\n",
              "      <td>2.109262</td>\n",
              "      <td>-0.131489</td>\n",
              "      <td>-0.013468</td>\n",
              "      <td>-0.05905</td>\n",
              "      <td>-0.044975</td>\n",
              "      <td>-0.013022</td>\n",
              "      <td>-0.057322</td>\n",
              "      <td>-0.034008</td>\n",
              "      <td>28.319135</td>\n",
              "      <td>-0.024657</td>\n",
              "      <td>0.031625</td>\n",
              "      <td>-0.03745</td>\n",
              "      <td>-0.101236</td>\n",
              "      <td>-0.083563</td>\n",
              "      <td>-0.377379</td>\n",
              "      <td>-0.249668</td>\n",
              "      <td>3.127053</td>\n",
              "      <td>24.626136</td>\n",
              "      <td>0.02945</td>\n",
              "      <td>-0.015502</td>\n",
              "      <td>-0.007527</td>\n",
              "      <td>-0.634875</td>\n",
              "      <td>-0.408125</td>\n",
              "      <td>-0.033812</td>\n",
              "      <td>-0.034016</td>\n",
              "      <td>8529</td>\n",
              "      <td>2</td>\n",
              "      <td>09:58:14</td>\n",
              "      <td>af_service_view</td>\n",
              "      <td>remit</td>\n",
              "      <td>remit</td>\n",
              "      <td>NaN</td>\n",
              "      <td>70세 이상</td>\n",
              "      <td>M</td>\n",
              "      <td>부산 금정구</td>\n",
              "      <td>6</td>\n",
              "      <td>0</td>\n",
              "    </tr>\n",
              "    <tr>\n",
              "      <th>3</th>\n",
              "      <td>-0.011091</td>\n",
              "      <td>-0.148415</td>\n",
              "      <td>-0.459451</td>\n",
              "      <td>-0.005042</td>\n",
              "      <td>2.109262</td>\n",
              "      <td>-0.131489</td>\n",
              "      <td>-0.013468</td>\n",
              "      <td>-0.05905</td>\n",
              "      <td>-0.044975</td>\n",
              "      <td>-0.013022</td>\n",
              "      <td>-0.057322</td>\n",
              "      <td>-0.034008</td>\n",
              "      <td>28.319135</td>\n",
              "      <td>-0.024657</td>\n",
              "      <td>0.031625</td>\n",
              "      <td>-0.03745</td>\n",
              "      <td>-0.101236</td>\n",
              "      <td>-0.083563</td>\n",
              "      <td>-0.377379</td>\n",
              "      <td>-0.249668</td>\n",
              "      <td>3.127053</td>\n",
              "      <td>24.626136</td>\n",
              "      <td>0.02945</td>\n",
              "      <td>-0.015502</td>\n",
              "      <td>-0.007527</td>\n",
              "      <td>-0.634875</td>\n",
              "      <td>-0.408125</td>\n",
              "      <td>-0.033812</td>\n",
              "      <td>-0.034016</td>\n",
              "      <td>8529</td>\n",
              "      <td>2</td>\n",
              "      <td>09:56:34</td>\n",
              "      <td>af_service_view</td>\n",
              "      <td>inquiry</td>\n",
              "      <td>inquiry</td>\n",
              "      <td>NaN</td>\n",
              "      <td>70세 이상</td>\n",
              "      <td>M</td>\n",
              "      <td>부산 금정구</td>\n",
              "      <td>6</td>\n",
              "      <td>0</td>\n",
              "    </tr>\n",
              "    <tr>\n",
              "      <th>4</th>\n",
              "      <td>-0.011091</td>\n",
              "      <td>-0.148415</td>\n",
              "      <td>-0.459451</td>\n",
              "      <td>-0.005042</td>\n",
              "      <td>2.109262</td>\n",
              "      <td>-0.131489</td>\n",
              "      <td>-0.013468</td>\n",
              "      <td>-0.05905</td>\n",
              "      <td>-0.044975</td>\n",
              "      <td>-0.013022</td>\n",
              "      <td>-0.057322</td>\n",
              "      <td>-0.034008</td>\n",
              "      <td>28.319135</td>\n",
              "      <td>-0.024657</td>\n",
              "      <td>0.031625</td>\n",
              "      <td>-0.03745</td>\n",
              "      <td>-0.101236</td>\n",
              "      <td>-0.083563</td>\n",
              "      <td>-0.377379</td>\n",
              "      <td>-0.249668</td>\n",
              "      <td>3.127053</td>\n",
              "      <td>24.626136</td>\n",
              "      <td>0.02945</td>\n",
              "      <td>-0.015502</td>\n",
              "      <td>-0.007527</td>\n",
              "      <td>-0.634875</td>\n",
              "      <td>-0.408125</td>\n",
              "      <td>-0.033812</td>\n",
              "      <td>-0.034016</td>\n",
              "      <td>8529</td>\n",
              "      <td>2</td>\n",
              "      <td>17:37:13</td>\n",
              "      <td>af_event_view</td>\n",
              "      <td>event</td>\n",
              "      <td>무비라이프withCGV 행복의 나라</td>\n",
              "      <td>NaN</td>\n",
              "      <td>70세 이상</td>\n",
              "      <td>M</td>\n",
              "      <td>부산 금정구</td>\n",
              "      <td>6</td>\n",
              "      <td>0</td>\n",
              "    </tr>\n",
              "  </tbody>\n",
              "</table>\n",
              "</div>\n",
              "    <div class=\"colab-df-buttons\">\n",
              "\n",
              "  <div class=\"colab-df-container\">\n",
              "    <button class=\"colab-df-convert\" onclick=\"convertToInteractive('df-0713bc9d-772f-439b-a872-576325dcd8bf')\"\n",
              "            title=\"Convert this dataframe to an interactive table.\"\n",
              "            style=\"display:none;\">\n",
              "\n",
              "  <svg xmlns=\"http://www.w3.org/2000/svg\" height=\"24px\" viewBox=\"0 -960 960 960\">\n",
              "    <path d=\"M120-120v-720h720v720H120Zm60-500h600v-160H180v160Zm220 220h160v-160H400v160Zm0 220h160v-160H400v160ZM180-400h160v-160H180v160Zm440 0h160v-160H620v160ZM180-180h160v-160H180v160Zm440 0h160v-160H620v160Z\"/>\n",
              "  </svg>\n",
              "    </button>\n",
              "\n",
              "  <style>\n",
              "    .colab-df-container {\n",
              "      display:flex;\n",
              "      gap: 12px;\n",
              "    }\n",
              "\n",
              "    .colab-df-convert {\n",
              "      background-color: #E8F0FE;\n",
              "      border: none;\n",
              "      border-radius: 50%;\n",
              "      cursor: pointer;\n",
              "      display: none;\n",
              "      fill: #1967D2;\n",
              "      height: 32px;\n",
              "      padding: 0 0 0 0;\n",
              "      width: 32px;\n",
              "    }\n",
              "\n",
              "    .colab-df-convert:hover {\n",
              "      background-color: #E2EBFA;\n",
              "      box-shadow: 0px 1px 2px rgba(60, 64, 67, 0.3), 0px 1px 3px 1px rgba(60, 64, 67, 0.15);\n",
              "      fill: #174EA6;\n",
              "    }\n",
              "\n",
              "    .colab-df-buttons div {\n",
              "      margin-bottom: 4px;\n",
              "    }\n",
              "\n",
              "    [theme=dark] .colab-df-convert {\n",
              "      background-color: #3B4455;\n",
              "      fill: #D2E3FC;\n",
              "    }\n",
              "\n",
              "    [theme=dark] .colab-df-convert:hover {\n",
              "      background-color: #434B5C;\n",
              "      box-shadow: 0px 1px 3px 1px rgba(0, 0, 0, 0.15);\n",
              "      filter: drop-shadow(0px 1px 2px rgba(0, 0, 0, 0.3));\n",
              "      fill: #FFFFFF;\n",
              "    }\n",
              "  </style>\n",
              "\n",
              "    <script>\n",
              "      const buttonEl =\n",
              "        document.querySelector('#df-0713bc9d-772f-439b-a872-576325dcd8bf button.colab-df-convert');\n",
              "      buttonEl.style.display =\n",
              "        google.colab.kernel.accessAllowed ? 'block' : 'none';\n",
              "\n",
              "      async function convertToInteractive(key) {\n",
              "        const element = document.querySelector('#df-0713bc9d-772f-439b-a872-576325dcd8bf');\n",
              "        const dataTable =\n",
              "          await google.colab.kernel.invokeFunction('convertToInteractive',\n",
              "                                                    [key], {});\n",
              "        if (!dataTable) return;\n",
              "\n",
              "        const docLinkHtml = 'Like what you see? Visit the ' +\n",
              "          '<a target=\"_blank\" href=https://colab.research.google.com/notebooks/data_table.ipynb>data table notebook</a>'\n",
              "          + ' to learn more about interactive tables.';\n",
              "        element.innerHTML = '';\n",
              "        dataTable['output_type'] = 'display_data';\n",
              "        await google.colab.output.renderOutput(dataTable, element);\n",
              "        const docLink = document.createElement('div');\n",
              "        docLink.innerHTML = docLinkHtml;\n",
              "        element.appendChild(docLink);\n",
              "      }\n",
              "    </script>\n",
              "  </div>\n",
              "\n",
              "\n",
              "<div id=\"df-8e1e1758-4c74-4bb1-9760-b1c30eafd210\">\n",
              "  <button class=\"colab-df-quickchart\" onclick=\"quickchart('df-8e1e1758-4c74-4bb1-9760-b1c30eafd210')\"\n",
              "            title=\"Suggest charts\"\n",
              "            style=\"display:none;\">\n",
              "\n",
              "<svg xmlns=\"http://www.w3.org/2000/svg\" height=\"24px\"viewBox=\"0 0 24 24\"\n",
              "     width=\"24px\">\n",
              "    <g>\n",
              "        <path d=\"M19 3H5c-1.1 0-2 .9-2 2v14c0 1.1.9 2 2 2h14c1.1 0 2-.9 2-2V5c0-1.1-.9-2-2-2zM9 17H7v-7h2v7zm4 0h-2V7h2v10zm4 0h-2v-4h2v4z\"/>\n",
              "    </g>\n",
              "</svg>\n",
              "  </button>\n",
              "\n",
              "<style>\n",
              "  .colab-df-quickchart {\n",
              "      --bg-color: #E8F0FE;\n",
              "      --fill-color: #1967D2;\n",
              "      --hover-bg-color: #E2EBFA;\n",
              "      --hover-fill-color: #174EA6;\n",
              "      --disabled-fill-color: #AAA;\n",
              "      --disabled-bg-color: #DDD;\n",
              "  }\n",
              "\n",
              "  [theme=dark] .colab-df-quickchart {\n",
              "      --bg-color: #3B4455;\n",
              "      --fill-color: #D2E3FC;\n",
              "      --hover-bg-color: #434B5C;\n",
              "      --hover-fill-color: #FFFFFF;\n",
              "      --disabled-bg-color: #3B4455;\n",
              "      --disabled-fill-color: #666;\n",
              "  }\n",
              "\n",
              "  .colab-df-quickchart {\n",
              "    background-color: var(--bg-color);\n",
              "    border: none;\n",
              "    border-radius: 50%;\n",
              "    cursor: pointer;\n",
              "    display: none;\n",
              "    fill: var(--fill-color);\n",
              "    height: 32px;\n",
              "    padding: 0;\n",
              "    width: 32px;\n",
              "  }\n",
              "\n",
              "  .colab-df-quickchart:hover {\n",
              "    background-color: var(--hover-bg-color);\n",
              "    box-shadow: 0 1px 2px rgba(60, 64, 67, 0.3), 0 1px 3px 1px rgba(60, 64, 67, 0.15);\n",
              "    fill: var(--button-hover-fill-color);\n",
              "  }\n",
              "\n",
              "  .colab-df-quickchart-complete:disabled,\n",
              "  .colab-df-quickchart-complete:disabled:hover {\n",
              "    background-color: var(--disabled-bg-color);\n",
              "    fill: var(--disabled-fill-color);\n",
              "    box-shadow: none;\n",
              "  }\n",
              "\n",
              "  .colab-df-spinner {\n",
              "    border: 2px solid var(--fill-color);\n",
              "    border-color: transparent;\n",
              "    border-bottom-color: var(--fill-color);\n",
              "    animation:\n",
              "      spin 1s steps(1) infinite;\n",
              "  }\n",
              "\n",
              "  @keyframes spin {\n",
              "    0% {\n",
              "      border-color: transparent;\n",
              "      border-bottom-color: var(--fill-color);\n",
              "      border-left-color: var(--fill-color);\n",
              "    }\n",
              "    20% {\n",
              "      border-color: transparent;\n",
              "      border-left-color: var(--fill-color);\n",
              "      border-top-color: var(--fill-color);\n",
              "    }\n",
              "    30% {\n",
              "      border-color: transparent;\n",
              "      border-left-color: var(--fill-color);\n",
              "      border-top-color: var(--fill-color);\n",
              "      border-right-color: var(--fill-color);\n",
              "    }\n",
              "    40% {\n",
              "      border-color: transparent;\n",
              "      border-right-color: var(--fill-color);\n",
              "      border-top-color: var(--fill-color);\n",
              "    }\n",
              "    60% {\n",
              "      border-color: transparent;\n",
              "      border-right-color: var(--fill-color);\n",
              "    }\n",
              "    80% {\n",
              "      border-color: transparent;\n",
              "      border-right-color: var(--fill-color);\n",
              "      border-bottom-color: var(--fill-color);\n",
              "    }\n",
              "    90% {\n",
              "      border-color: transparent;\n",
              "      border-bottom-color: var(--fill-color);\n",
              "    }\n",
              "  }\n",
              "</style>\n",
              "\n",
              "  <script>\n",
              "    async function quickchart(key) {\n",
              "      const quickchartButtonEl =\n",
              "        document.querySelector('#' + key + ' button');\n",
              "      quickchartButtonEl.disabled = true;  // To prevent multiple clicks.\n",
              "      quickchartButtonEl.classList.add('colab-df-spinner');\n",
              "      try {\n",
              "        const charts = await google.colab.kernel.invokeFunction(\n",
              "            'suggestCharts', [key], {});\n",
              "      } catch (error) {\n",
              "        console.error('Error during call to suggestCharts:', error);\n",
              "      }\n",
              "      quickchartButtonEl.classList.remove('colab-df-spinner');\n",
              "      quickchartButtonEl.classList.add('colab-df-quickchart-complete');\n",
              "    }\n",
              "    (() => {\n",
              "      let quickchartButtonEl =\n",
              "        document.querySelector('#df-8e1e1758-4c74-4bb1-9760-b1c30eafd210 button');\n",
              "      quickchartButtonEl.style.display =\n",
              "        google.colab.kernel.accessAllowed ? 'block' : 'none';\n",
              "    })();\n",
              "  </script>\n",
              "</div>\n",
              "\n",
              "    </div>\n",
              "  </div>\n"
            ],
            "application/vnd.google.colaboratory.intrinsic+json": {
              "type": "dataframe",
              "variable_name": "cluster_2"
            }
          },
          "metadata": {}
        }
      ]
    },
    {
      "cell_type": "markdown",
      "source": [
        "- 시간대별 빈도 수 확인"
      ],
      "metadata": {
        "id": "wY9PuxSMCkXR"
      }
    },
    {
      "cell_type": "code",
      "source": [
        "df = cluster_2.copy()\n",
        "\n",
        "# '기준시간'을 datetime 형식으로 변환\n",
        "df['기준시간'] = pd.to_datetime(df['기준시간'], format='%H:%M:%S')\n",
        "\n",
        "# '기준시간'에서 시간대(hour)만 추출하여 'time' 변수 생성\n",
        "cluster_2['time'] = df['기준시간'].dt.hour\n",
        "\n",
        "# 결과 확인\n",
        "print(cluster_2[['기준시간', 'time']].head())"
      ],
      "metadata": {
        "colab": {
          "base_uri": "https://localhost:8080/"
        },
        "id": "9Z5T-WI8AgAM",
        "outputId": "378c94e3-e63f-4b28-cea7-96f50677ff15"
      },
      "execution_count": null,
      "outputs": [
        {
          "output_type": "stream",
          "name": "stdout",
          "text": "       기준시간  time\n\n0  08:26:50     8\n\n1  08:26:49     8\n\n2  09:58:14     9\n\n3  09:56:34     9\n\n4  17:37:13    17\n"
        }
      ]
    },
    {
      "cell_type": "code",
      "source": [
        "# 경고 무시 설정\n",
        "warnings.filterwarnings(\"ignore\")\n",
        "\n",
        "time_counts = cluster_2['time'].value_counts().sort_index()\n",
        "\n",
        "# 그래프 그리기\n",
        "plt.figure(figsize=(10, 6))\n",
        "plt.bar(time_counts.index, time_counts.values, color='skyblue')\n",
        "plt.title('Cluster2_Frequency by Hour of the Day', fontsize=15)\n",
        "plt.xlabel('Hour of the Day', fontsize=12)\n",
        "plt.ylabel('Frequency', fontsize=12)\n",
        "plt.xticks(time_counts.index)\n",
        "plt.grid(True, axis='y', linestyle='--', alpha=0.7)\n",
        "plt.show()"
      ],
      "metadata": {
        "colab": {
          "base_uri": "https://localhost:8080/",
          "height": 1000
        },
        "id": "lv2RgbDjA9gN",
        "outputId": "cc31f476-a65c-4615-e5bd-5fd47183a4ca"
      },
      "execution_count": null,
      "outputs": [
        {
          "output_type": "stream",
          "name": "stderr",
          "text": "WARNING:matplotlib.font_manager:findfont: Font family 'NanumBarunGothic' not found.\n\nWARNING:matplotlib.font_manager:findfont: Font family 'NanumBarunGothic' not found.\n\nWARNING:matplotlib.font_manager:findfont: Font family 'NanumBarunGothic' not found.\n\nWARNING:matplotlib.font_manager:findfont: Font family 'NanumBarunGothic' not found.\n\nWARNING:matplotlib.font_manager:findfont: Font family 'NanumBarunGothic' not found.\n\nWARNING:matplotlib.font_manager:findfont: Font family 'NanumBarunGothic' not found.\n\nWARNING:matplotlib.font_manager:findfont: Font family 'NanumBarunGothic' not found.\n\nWARNING:matplotlib.font_manager:findfont: Font family 'NanumBarunGothic' not found.\n\nWARNING:matplotlib.font_manager:findfont: Font family 'NanumBarunGothic' not found.\n\nWARNING:matplotlib.font_manager:findfont: Font family 'NanumBarunGothic' not found.\n\nWARNING:matplotlib.font_manager:findfont: Font family 'NanumBarunGothic' not found.\n\nWARNING:matplotlib.font_manager:findfont: Font family 'NanumBarunGothic' not found.\n\nWARNING:matplotlib.font_manager:findfont: Font family 'NanumBarunGothic' not found.\n\nWARNING:matplotlib.font_manager:findfont: Font family 'NanumBarunGothic' not found.\n\nWARNING:matplotlib.font_manager:findfont: Font family 'NanumBarunGothic' not found.\n\nWARNING:matplotlib.font_manager:findfont: Font family 'NanumBarunGothic' not found.\n\nWARNING:matplotlib.font_manager:findfont: Font family 'NanumBarunGothic' not found.\n\nWARNING:matplotlib.font_manager:findfont: Font family 'NanumBarunGothic' not found.\n\nWARNING:matplotlib.font_manager:findfont: Font family 'NanumBarunGothic' not found.\n\nWARNING:matplotlib.font_manager:findfont: Font family 'NanumBarunGothic' not found.\n\nWARNING:matplotlib.font_manager:findfont: Font family 'NanumBarunGothic' not found.\n\nWARNING:matplotlib.font_manager:findfont: Font family 'NanumBarunGothic' not found.\n\nWARNING:matplotlib.font_manager:findfont: Font family 'NanumBarunGothic' not found.\n\nWARNING:matplotlib.font_manager:findfont: Font family 'NanumBarunGothic' not found.\n\nWARNING:matplotlib.font_manager:findfont: Font family 'NanumBarunGothic' not found.\n\nWARNING:matplotlib.font_manager:findfont: Font family 'NanumBarunGothic' not found.\n\nWARNING:matplotlib.font_manager:findfont: Font family 'NanumBarunGothic' not found.\n\nWARNING:matplotlib.font_manager:findfont: Font family 'NanumBarunGothic' not found.\n\nWARNING:matplotlib.font_manager:findfont: Font family 'NanumBarunGothic' not found.\n\nWARNING:matplotlib.font_manager:findfont: Font family 'NanumBarunGothic' not found.\n\nWARNING:matplotlib.font_manager:findfont: Font family 'NanumBarunGothic' not found.\n\nWARNING:matplotlib.font_manager:findfont: Font family 'NanumBarunGothic' not found.\n\nWARNING:matplotlib.font_manager:findfont: Font family 'NanumBarunGothic' not found.\n\nWARNING:matplotlib.font_manager:findfont: Font family 'NanumBarunGothic' not found.\n\nWARNING:matplotlib.font_manager:findfont: Font family 'NanumBarunGothic' not found.\n\nWARNING:matplotlib.font_manager:findfont: Font family 'NanumBarunGothic' not found.\n\nWARNING:matplotlib.font_manager:findfont: Font family 'NanumBarunGothic' not found.\n\nWARNING:matplotlib.font_manager:findfont: Font family 'NanumBarunGothic' not found.\n\nWARNING:matplotlib.font_manager:findfont: Font family 'NanumBarunGothic' not found.\n\nWARNING:matplotlib.font_manager:findfont: Font family 'NanumBarunGothic' not found.\n\nWARNING:matplotlib.font_manager:findfont: Font family 'NanumBarunGothic' not found.\n\nWARNING:matplotlib.font_manager:findfont: Font family 'NanumBarunGothic' not found.\n\nWARNING:matplotlib.font_manager:findfont: Font family 'NanumBarunGothic' not found.\n\nWARNING:matplotlib.font_manager:findfont: Font family 'NanumBarunGothic' not found.\n\nWARNING:matplotlib.font_manager:findfont: Font family 'NanumBarunGothic' not found.\n\nWARNING:matplotlib.font_manager:findfont: Font family 'NanumBarunGothic' not found.\n\nWARNING:matplotlib.font_manager:findfont: Font family 'NanumBarunGothic' not found.\n\nWARNING:matplotlib.font_manager:findfont: Font family 'NanumBarunGothic' not found.\n\nWARNING:matplotlib.font_manager:findfont: Font family 'NanumBarunGothic' not found.\n\nWARNING:matplotlib.font_manager:findfont: Font family 'NanumBarunGothic' not found.\n\nWARNING:matplotlib.font_manager:findfont: Font family 'NanumBarunGothic' not found.\n\nWARNING:matplotlib.font_manager:findfont: Font family 'NanumBarunGothic' not found.\n\nWARNING:matplotlib.font_manager:findfont: Font family 'NanumBarunGothic' not found.\n\nWARNING:matplotlib.font_manager:findfont: Font family 'NanumBarunGothic' not found.\n\nWARNING:matplotlib.font_manager:findfont: Font family 'NanumBarunGothic' not found.\n\nWARNING:matplotlib.font_manager:findfont: Font family 'NanumBarunGothic' not found.\n\nWARNING:matplotlib.font_manager:findfont: Font family 'NanumBarunGothic' not found.\n\nWARNING:matplotlib.font_manager:findfont: Font family 'NanumBarunGothic' not found.\n\nWARNING:matplotlib.font_manager:findfont: Font family 'NanumBarunGothic' not found.\n\nWARNING:matplotlib.font_manager:findfont: Font family 'NanumBarunGothic' not found.\n\nWARNING:matplotlib.font_manager:findfont: Font family 'NanumBarunGothic' not found.\n\nWARNING:matplotlib.font_manager:findfont: Font family 'NanumBarunGothic' not found.\n\nWARNING:matplotlib.font_manager:findfont: Font family 'NanumBarunGothic' not found.\n\nWARNING:matplotlib.font_manager:findfont: Font family 'NanumBarunGothic' not found.\n\nWARNING:matplotlib.font_manager:findfont: Font family 'NanumBarunGothic' not found.\n\nWARNING:matplotlib.font_manager:findfont: Font family 'NanumBarunGothic' not found.\n\nWARNING:matplotlib.font_manager:findfont: Font family 'NanumBarunGothic' not found.\n\nWARNING:matplotlib.font_manager:findfont: Font family 'NanumBarunGothic' not found.\n\nWARNING:matplotlib.font_manager:findfont: Font family 'NanumBarunGothic' not found.\n\nWARNING:matplotlib.font_manager:findfont: Font family 'NanumBarunGothic' not found.\n\nWARNING:matplotlib.font_manager:findfont: Font family 'NanumBarunGothic' not found.\n\nWARNING:matplotlib.font_manager:findfont: Font family 'NanumBarunGothic' not found.\n\nWARNING:matplotlib.font_manager:findfont: Font family 'NanumBarunGothic' not found.\n\nWARNING:matplotlib.font_manager:findfont: Font family 'NanumBarunGothic' not found.\n\nWARNING:matplotlib.font_manager:findfont: Font family 'NanumBarunGothic' not found.\n\nWARNING:matplotlib.font_manager:findfont: Font family 'NanumBarunGothic' not found.\n\nWARNING:matplotlib.font_manager:findfont: Font family 'NanumBarunGothic' not found.\n\nWARNING:matplotlib.font_manager:findfont: Font family 'NanumBarunGothic' not found.\n\nWARNING:matplotlib.font_manager:findfont: Font family 'NanumBarunGothic' not found.\n\nWARNING:matplotlib.font_manager:findfont: Font family 'NanumBarunGothic' not found.\n\nWARNING:matplotlib.font_manager:findfont: Font family 'NanumBarunGothic' not found.\n\nWARNING:matplotlib.font_manager:findfont: Font family 'NanumBarunGothic' not found.\n\nWARNING:matplotlib.font_manager:findfont: Font family 'NanumBarunGothic' not found.\n\nWARNING:matplotlib.font_manager:findfont: Font family 'NanumBarunGothic' not found.\n\nWARNING:matplotlib.font_manager:findfont: Font family 'NanumBarunGothic' not found.\n\nWARNING:matplotlib.font_manager:findfont: Font family 'NanumBarunGothic' not found.\n\nWARNING:matplotlib.font_manager:findfont: Font family 'NanumBarunGothic' not found.\n\nWARNING:matplotlib.font_manager:findfont: Font family 'NanumBarunGothic' not found.\n\nWARNING:matplotlib.font_manager:findfont: Font family 'NanumBarunGothic' not found.\n\nWARNING:matplotlib.font_manager:findfont: Font family 'NanumBarunGothic' not found.\n\nWARNING:matplotlib.font_manager:findfont: Font family 'NanumBarunGothic' not found.\n\nWARNING:matplotlib.font_manager:findfont: Font family 'NanumBarunGothic' not found.\n\nWARNING:matplotlib.font_manager:findfont: Font family 'NanumBarunGothic' not found.\n\nWARNING:matplotlib.font_manager:findfont: Font family 'NanumBarunGothic' not found.\n\nWARNING:matplotlib.font_manager:findfont: Font family 'NanumBarunGothic' not found.\n\nWARNING:matplotlib.font_manager:findfont: Font family 'NanumBarunGothic' not found.\n\nWARNING:matplotlib.font_manager:findfont: Font family 'NanumBarunGothic' not found.\n\nWARNING:matplotlib.font_manager:findfont: Font family 'NanumBarunGothic' not found.\n\nWARNING:matplotlib.font_manager:findfont: Font family 'NanumBarunGothic' not found.\n\nWARNING:matplotlib.font_manager:findfont: Font family 'NanumBarunGothic' not found.\n\nWARNING:matplotlib.font_manager:findfont: Font family 'NanumBarunGothic' not found.\n\nWARNING:matplotlib.font_manager:findfont: Font family 'NanumBarunGothic' not found.\n\nWARNING:matplotlib.font_manager:findfont: Font family 'NanumBarunGothic' not found.\n\nWARNING:matplotlib.font_manager:findfont: Font family 'NanumBarunGothic' not found.\n\nWARNING:matplotlib.font_manager:findfont: Font family 'NanumBarunGothic' not found.\n\nWARNING:matplotlib.font_manager:findfont: Font family 'NanumBarunGothic' not found.\n\nWARNING:matplotlib.font_manager:findfont: Font family 'NanumBarunGothic' not found.\n\nWARNING:matplotlib.font_manager:findfont: Font family 'NanumBarunGothic' not found.\n\nWARNING:matplotlib.font_manager:findfont: Font family 'NanumBarunGothic' not found.\n"
        },
        {
          "output_type": "display_data",
          "data": {
            "text/plain": [
              "<Figure size 1000x600 with 1 Axes>"
            ],
            "image/png": "[encoded data removed]"
          },
          "metadata": {}
        }
      ]
    },
    {
      "cell_type": "code",
      "source": [
        "import matplotlib.pyplot as plt\n",
        "\n",
        "# 시간대별 빈도수 계산\n",
        "time_counts = cluster_2['time'].value_counts().sort_index()\n",
        "\n",
        "# 사진에 있는 색상 (다크 레드 색상으로 설정)\n",
        "custom_color = '#b22222'  # Dark red\n",
        "\n",
        "# 선 그래프 그리기\n",
        "plt.figure(figsize=(10, 6))\n",
        "plt.plot(time_counts.index, time_counts.values, marker='o', color=custom_color, linestyle='-', linewidth=2)\n",
        "plt.title('Cluster2_Frequency by Hour of the Day (Line Plot)', fontsize=15)\n",
        "plt.xlabel('Hour of the Day', fontsize=12)\n",
        "plt.ylabel('Frequency', fontsize=12)\n",
        "plt.xticks(time_counts.index)\n",
        "plt.grid(True, axis='y', linestyle='--', alpha=0.7)\n",
        "plt.show()"
      ],
      "metadata": {
        "colab": {
          "base_uri": "https://localhost:8080/",
          "height": 1000
        },
        "id": "b8RZJyJXBr_z",
        "outputId": "bf7e03e1-7f13-4538-9030-b0fceddf4236"
      },
      "execution_count": null,
      "outputs": [
        {
          "output_type": "stream",
          "name": "stderr",
          "text": "WARNING:matplotlib.font_manager:findfont: Font family 'NanumBarunGothic' not found.\n\nWARNING:matplotlib.font_manager:findfont: Font family 'NanumBarunGothic' not found.\n\nWARNING:matplotlib.font_manager:findfont: Font family 'NanumBarunGothic' not found.\n\nWARNING:matplotlib.font_manager:findfont: Font family 'NanumBarunGothic' not found.\n\nWARNING:matplotlib.font_manager:findfont: Font family 'NanumBarunGothic' not found.\n\nWARNING:matplotlib.font_manager:findfont: Font family 'NanumBarunGothic' not found.\n\nWARNING:matplotlib.font_manager:findfont: Font family 'NanumBarunGothic' not found.\n\nWARNING:matplotlib.font_manager:findfont: Font family 'NanumBarunGothic' not found.\n\nWARNING:matplotlib.font_manager:findfont: Font family 'NanumBarunGothic' not found.\n\nWARNING:matplotlib.font_manager:findfont: Font family 'NanumBarunGothic' not found.\n\nWARNING:matplotlib.font_manager:findfont: Font family 'NanumBarunGothic' not found.\n\nWARNING:matplotlib.font_manager:findfont: Font family 'NanumBarunGothic' not found.\n\nWARNING:matplotlib.font_manager:findfont: Font family 'NanumBarunGothic' not found.\n\nWARNING:matplotlib.font_manager:findfont: Font family 'NanumBarunGothic' not found.\n\nWARNING:matplotlib.font_manager:findfont: Font family 'NanumBarunGothic' not found.\n\nWARNING:matplotlib.font_manager:findfont: Font family 'NanumBarunGothic' not found.\n\nWARNING:matplotlib.font_manager:findfont: Font family 'NanumBarunGothic' not found.\n\nWARNING:matplotlib.font_manager:findfont: Font family 'NanumBarunGothic' not found.\n\nWARNING:matplotlib.font_manager:findfont: Font family 'NanumBarunGothic' not found.\n\nWARNING:matplotlib.font_manager:findfont: Font family 'NanumBarunGothic' not found.\n\nWARNING:matplotlib.font_manager:findfont: Font family 'NanumBarunGothic' not found.\n\nWARNING:matplotlib.font_manager:findfont: Font family 'NanumBarunGothic' not found.\n\nWARNING:matplotlib.font_manager:findfont: Font family 'NanumBarunGothic' not found.\n\nWARNING:matplotlib.font_manager:findfont: Font family 'NanumBarunGothic' not found.\n\nWARNING:matplotlib.font_manager:findfont: Font family 'NanumBarunGothic' not found.\n\nWARNING:matplotlib.font_manager:findfont: Font family 'NanumBarunGothic' not found.\n\nWARNING:matplotlib.font_manager:findfont: Font family 'NanumBarunGothic' not found.\n\nWARNING:matplotlib.font_manager:findfont: Font family 'NanumBarunGothic' not found.\n\nWARNING:matplotlib.font_manager:findfont: Font family 'NanumBarunGothic' not found.\n\nWARNING:matplotlib.font_manager:findfont: Font family 'NanumBarunGothic' not found.\n\nWARNING:matplotlib.font_manager:findfont: Font family 'NanumBarunGothic' not found.\n\nWARNING:matplotlib.font_manager:findfont: Font family 'NanumBarunGothic' not found.\n\nWARNING:matplotlib.font_manager:findfont: Font family 'NanumBarunGothic' not found.\n\nWARNING:matplotlib.font_manager:findfont: Font family 'NanumBarunGothic' not found.\n\nWARNING:matplotlib.font_manager:findfont: Font family 'NanumBarunGothic' not found.\n\nWARNING:matplotlib.font_manager:findfont: Font family 'NanumBarunGothic' not found.\n\nWARNING:matplotlib.font_manager:findfont: Font family 'NanumBarunGothic' not found.\n\nWARNING:matplotlib.font_manager:findfont: Font family 'NanumBarunGothic' not found.\n\nWARNING:matplotlib.font_manager:findfont: Font family 'NanumBarunGothic' not found.\n\nWARNING:matplotlib.font_manager:findfont: Font family 'NanumBarunGothic' not found.\n\nWARNING:matplotlib.font_manager:findfont: Font family 'NanumBarunGothic' not found.\n\nWARNING:matplotlib.font_manager:findfont: Font family 'NanumBarunGothic' not found.\n\nWARNING:matplotlib.font_manager:findfont: Font family 'NanumBarunGothic' not found.\n\nWARNING:matplotlib.font_manager:findfont: Font family 'NanumBarunGothic' not found.\n\nWARNING:matplotlib.font_manager:findfont: Font family 'NanumBarunGothic' not found.\n\nWARNING:matplotlib.font_manager:findfont: Font family 'NanumBarunGothic' not found.\n\nWARNING:matplotlib.font_manager:findfont: Font family 'NanumBarunGothic' not found.\n\nWARNING:matplotlib.font_manager:findfont: Font family 'NanumBarunGothic' not found.\n\nWARNING:matplotlib.font_manager:findfont: Font family 'NanumBarunGothic' not found.\n\nWARNING:matplotlib.font_manager:findfont: Font family 'NanumBarunGothic' not found.\n\nWARNING:matplotlib.font_manager:findfont: Font family 'NanumBarunGothic' not found.\n\nWARNING:matplotlib.font_manager:findfont: Font family 'NanumBarunGothic' not found.\n\nWARNING:matplotlib.font_manager:findfont: Font family 'NanumBarunGothic' not found.\n\nWARNING:matplotlib.font_manager:findfont: Font family 'NanumBarunGothic' not found.\n\nWARNING:matplotlib.font_manager:findfont: Font family 'NanumBarunGothic' not found.\n\nWARNING:matplotlib.font_manager:findfont: Font family 'NanumBarunGothic' not found.\n\nWARNING:matplotlib.font_manager:findfont: Font family 'NanumBarunGothic' not found.\n\nWARNING:matplotlib.font_manager:findfont: Font family 'NanumBarunGothic' not found.\n\nWARNING:matplotlib.font_manager:findfont: Font family 'NanumBarunGothic' not found.\n\nWARNING:matplotlib.font_manager:findfont: Font family 'NanumBarunGothic' not found.\n\nWARNING:matplotlib.font_manager:findfont: Font family 'NanumBarunGothic' not found.\n\nWARNING:matplotlib.font_manager:findfont: Font family 'NanumBarunGothic' not found.\n\nWARNING:matplotlib.font_manager:findfont: Font family 'NanumBarunGothic' not found.\n\nWARNING:matplotlib.font_manager:findfont: Font family 'NanumBarunGothic' not found.\n\nWARNING:matplotlib.font_manager:findfont: Font family 'NanumBarunGothic' not found.\n\nWARNING:matplotlib.font_manager:findfont: Font family 'NanumBarunGothic' not found.\n\nWARNING:matplotlib.font_manager:findfont: Font family 'NanumBarunGothic' not found.\n\nWARNING:matplotlib.font_manager:findfont: Font family 'NanumBarunGothic' not found.\n\nWARNING:matplotlib.font_manager:findfont: Font family 'NanumBarunGothic' not found.\n\nWARNING:matplotlib.font_manager:findfont: Font family 'NanumBarunGothic' not found.\n\nWARNING:matplotlib.font_manager:findfont: Font family 'NanumBarunGothic' not found.\n\nWARNING:matplotlib.font_manager:findfont: Font family 'NanumBarunGothic' not found.\n\nWARNING:matplotlib.font_manager:findfont: Font family 'NanumBarunGothic' not found.\n\nWARNING:matplotlib.font_manager:findfont: Font family 'NanumBarunGothic' not found.\n\nWARNING:matplotlib.font_manager:findfont: Font family 'NanumBarunGothic' not found.\n\nWARNING:matplotlib.font_manager:findfont: Font family 'NanumBarunGothic' not found.\n\nWARNING:matplotlib.font_manager:findfont: Font family 'NanumBarunGothic' not found.\n\nWARNING:matplotlib.font_manager:findfont: Font family 'NanumBarunGothic' not found.\n\nWARNING:matplotlib.font_manager:findfont: Font family 'NanumBarunGothic' not found.\n\nWARNING:matplotlib.font_manager:findfont: Font family 'NanumBarunGothic' not found.\n\nWARNING:matplotlib.font_manager:findfont: Font family 'NanumBarunGothic' not found.\n\nWARNING:matplotlib.font_manager:findfont: Font family 'NanumBarunGothic' not found.\n\nWARNING:matplotlib.font_manager:findfont: Font family 'NanumBarunGothic' not found.\n\nWARNING:matplotlib.font_manager:findfont: Font family 'NanumBarunGothic' not found.\n\nWARNING:matplotlib.font_manager:findfont: Font family 'NanumBarunGothic' not found.\n\nWARNING:matplotlib.font_manager:findfont: Font family 'NanumBarunGothic' not found.\n\nWARNING:matplotlib.font_manager:findfont: Font family 'NanumBarunGothic' not found.\n\nWARNING:matplotlib.font_manager:findfont: Font family 'NanumBarunGothic' not found.\n\nWARNING:matplotlib.font_manager:findfont: Font family 'NanumBarunGothic' not found.\n\nWARNING:matplotlib.font_manager:findfont: Font family 'NanumBarunGothic' not found.\n\nWARNING:matplotlib.font_manager:findfont: Font family 'NanumBarunGothic' not found.\n\nWARNING:matplotlib.font_manager:findfont: Font family 'NanumBarunGothic' not found.\n\nWARNING:matplotlib.font_manager:findfont: Font family 'NanumBarunGothic' not found.\n\nWARNING:matplotlib.font_manager:findfont: Font family 'NanumBarunGothic' not found.\n\nWARNING:matplotlib.font_manager:findfont: Font family 'NanumBarunGothic' not found.\n\nWARNING:matplotlib.font_manager:findfont: Font family 'NanumBarunGothic' not found.\n\nWARNING:matplotlib.font_manager:findfont: Font family 'NanumBarunGothic' not found.\n\nWARNING:matplotlib.font_manager:findfont: Font family 'NanumBarunGothic' not found.\n\nWARNING:matplotlib.font_manager:findfont: Font family 'NanumBarunGothic' not found.\n\nWARNING:matplotlib.font_manager:findfont: Font family 'NanumBarunGothic' not found.\n\nWARNING:matplotlib.font_manager:findfont: Font family 'NanumBarunGothic' not found.\n\nWARNING:matplotlib.font_manager:findfont: Font family 'NanumBarunGothic' not found.\n\nWARNING:matplotlib.font_manager:findfont: Font family 'NanumBarunGothic' not found.\n\nWARNING:matplotlib.font_manager:findfont: Font family 'NanumBarunGothic' not found.\n\nWARNING:matplotlib.font_manager:findfont: Font family 'NanumBarunGothic' not found.\n\nWARNING:matplotlib.font_manager:findfont: Font family 'NanumBarunGothic' not found.\n\nWARNING:matplotlib.font_manager:findfont: Font family 'NanumBarunGothic' not found.\n\nWARNING:matplotlib.font_manager:findfont: Font family 'NanumBarunGothic' not found.\n\nWARNING:matplotlib.font_manager:findfont: Font family 'NanumBarunGothic' not found.\n"
        },
        {
          "output_type": "display_data",
          "data": {
            "text/plain": [
              "<Figure size 1000x600 with 1 Axes>"
            ],
            "image/png": "[encoded data removed]"
          },
          "metadata": {}
        }
      ]
    },
    {
      "cell_type": "markdown",
      "source": [
        "- 이벤트 타입 별 빈도수"
      ],
      "metadata": {
        "id": "q5vb_CEICr2m"
      }
    },
    {
      "cell_type": "code",
      "source": [
        "# 이벤트 타입별 빈도수 계산\n",
        "event_counts = cluster_2['이벤트타입'].value_counts().sort_index()\n",
        "\n",
        "# 사진에 있는 색상 (다크 레드 색상으로 설정)\n",
        "custom_color = '#b22222'  # Dark red\n",
        "\n",
        "# 선 그래프 그리기\n",
        "plt.figure(figsize=(10, 6))\n",
        "plt.plot(event_counts.index, event_counts.values, marker='o', color=custom_color, linestyle='-', linewidth=2)\n",
        "plt.title('Cluster2_Frequency by Event Type (Line Plot)', fontsize=15)\n",
        "plt.xlabel('Event Type', fontsize=12)\n",
        "plt.ylabel('Frequency', fontsize=12)\n",
        "\n",
        "# x축 레이블을 45도 회전하여 겹치지 않게 표시\n",
        "plt.xticks(event_counts.index, rotation=45, ha='right')\n",
        "\n",
        "plt.grid(True, axis='y', linestyle='--', alpha=0.7)\n",
        "plt.tight_layout()  # 그래프가 겹치지 않도록 레이아웃 자동 조정\n",
        "plt.show()"
      ],
      "metadata": {
        "colab": {
          "base_uri": "https://localhost:8080/",
          "height": 1000
        },
        "id": "8X_2Nh7rFSQM",
        "outputId": "830ba4bc-3098-422e-8390-0e551e276d31"
      },
      "execution_count": null,
      "outputs": [
        {
          "output_type": "stream",
          "name": "stderr",
          "text": "WARNING:matplotlib.font_manager:findfont: Font family 'NanumBarunGothic' not found.\n\nWARNING:matplotlib.font_manager:findfont: Font family 'NanumBarunGothic' not found.\n\nWARNING:matplotlib.font_manager:findfont: Font family 'NanumBarunGothic' not found.\n\nWARNING:matplotlib.font_manager:findfont: Font family 'NanumBarunGothic' not found.\n\nWARNING:matplotlib.font_manager:findfont: Font family 'NanumBarunGothic' not found.\n\nWARNING:matplotlib.font_manager:findfont: Font family 'NanumBarunGothic' not found.\n\nWARNING:matplotlib.font_manager:findfont: Font family 'NanumBarunGothic' not found.\n\nWARNING:matplotlib.font_manager:findfont: Font family 'NanumBarunGothic' not found.\n\nWARNING:matplotlib.font_manager:findfont: Font family 'NanumBarunGothic' not found.\n\nWARNING:matplotlib.font_manager:findfont: Font family 'NanumBarunGothic' not found.\n\nWARNING:matplotlib.font_manager:findfont: Font family 'NanumBarunGothic' not found.\n\nWARNING:matplotlib.font_manager:findfont: Font family 'NanumBarunGothic' not found.\n\nWARNING:matplotlib.font_manager:findfont: Font family 'NanumBarunGothic' not found.\n\nWARNING:matplotlib.font_manager:findfont: Font family 'NanumBarunGothic' not found.\n\nWARNING:matplotlib.font_manager:findfont: Font family 'NanumBarunGothic' not found.\n\nWARNING:matplotlib.font_manager:findfont: Font family 'NanumBarunGothic' not found.\n\nWARNING:matplotlib.font_manager:findfont: Font family 'NanumBarunGothic' not found.\n\nWARNING:matplotlib.font_manager:findfont: Font family 'NanumBarunGothic' not found.\n\nWARNING:matplotlib.font_manager:findfont: Font family 'NanumBarunGothic' not found.\n\nWARNING:matplotlib.font_manager:findfont: Font family 'NanumBarunGothic' not found.\n\nWARNING:matplotlib.font_manager:findfont: Font family 'NanumBarunGothic' not found.\n\nWARNING:matplotlib.font_manager:findfont: Font family 'NanumBarunGothic' not found.\n\nWARNING:matplotlib.font_manager:findfont: Font family 'NanumBarunGothic' not found.\n\nWARNING:matplotlib.font_manager:findfont: Font family 'NanumBarunGothic' not found.\n\nWARNING:matplotlib.font_manager:findfont: Font family 'NanumBarunGothic' not found.\n\nWARNING:matplotlib.font_manager:findfont: Font family 'NanumBarunGothic' not found.\n\nWARNING:matplotlib.font_manager:findfont: Font family 'NanumBarunGothic' not found.\n\nWARNING:matplotlib.font_manager:findfont: Font family 'NanumBarunGothic' not found.\n\nWARNING:matplotlib.font_manager:findfont: Font family 'NanumBarunGothic' not found.\n\nWARNING:matplotlib.font_manager:findfont: Font family 'NanumBarunGothic' not found.\n\nWARNING:matplotlib.font_manager:findfont: Font family 'NanumBarunGothic' not found.\n\nWARNING:matplotlib.font_manager:findfont: Font family 'NanumBarunGothic' not found.\n\nWARNING:matplotlib.font_manager:findfont: Font family 'NanumBarunGothic' not found.\n\nWARNING:matplotlib.font_manager:findfont: Font family 'NanumBarunGothic' not found.\n\nWARNING:matplotlib.font_manager:findfont: Font family 'NanumBarunGothic' not found.\n\nWARNING:matplotlib.font_manager:findfont: Font family 'NanumBarunGothic' not found.\n\nWARNING:matplotlib.font_manager:findfont: Font family 'NanumBarunGothic' not found.\n\nWARNING:matplotlib.font_manager:findfont: Font family 'NanumBarunGothic' not found.\n\nWARNING:matplotlib.font_manager:findfont: Font family 'NanumBarunGothic' not found.\n\nWARNING:matplotlib.font_manager:findfont: Font family 'NanumBarunGothic' not found.\n\nWARNING:matplotlib.font_manager:findfont: Font family 'NanumBarunGothic' not found.\n\nWARNING:matplotlib.font_manager:findfont: Font family 'NanumBarunGothic' not found.\n\nWARNING:matplotlib.font_manager:findfont: Font family 'NanumBarunGothic' not found.\n\nWARNING:matplotlib.font_manager:findfont: Font family 'NanumBarunGothic' not found.\n\nWARNING:matplotlib.font_manager:findfont: Font family 'NanumBarunGothic' not found.\n\nWARNING:matplotlib.font_manager:findfont: Font family 'NanumBarunGothic' not found.\n\nWARNING:matplotlib.font_manager:findfont: Font family 'NanumBarunGothic' not found.\n\nWARNING:matplotlib.font_manager:findfont: Font family 'NanumBarunGothic' not found.\n\nWARNING:matplotlib.font_manager:findfont: Font family 'NanumBarunGothic' not found.\n\nWARNING:matplotlib.font_manager:findfont: Font family 'NanumBarunGothic' not found.\n\nWARNING:matplotlib.font_manager:findfont: Font family 'NanumBarunGothic' not found.\n\nWARNING:matplotlib.font_manager:findfont: Font family 'NanumBarunGothic' not found.\n\nWARNING:matplotlib.font_manager:findfont: Font family 'NanumBarunGothic' not found.\n\nWARNING:matplotlib.font_manager:findfont: Font family 'NanumBarunGothic' not found.\n\nWARNING:matplotlib.font_manager:findfont: Font family 'NanumBarunGothic' not found.\n\nWARNING:matplotlib.font_manager:findfont: Font family 'NanumBarunGothic' not found.\n\nWARNING:matplotlib.font_manager:findfont: Font family 'NanumBarunGothic' not found.\n\nWARNING:matplotlib.font_manager:findfont: Font family 'NanumBarunGothic' not found.\n\nWARNING:matplotlib.font_manager:findfont: Font family 'NanumBarunGothic' not found.\n\nWARNING:matplotlib.font_manager:findfont: Font family 'NanumBarunGothic' not found.\n\nWARNING:matplotlib.font_manager:findfont: Font family 'NanumBarunGothic' not found.\n\nWARNING:matplotlib.font_manager:findfont: Font family 'NanumBarunGothic' not found.\n\nWARNING:matplotlib.font_manager:findfont: Font family 'NanumBarunGothic' not found.\n\nWARNING:matplotlib.font_manager:findfont: Font family 'NanumBarunGothic' not found.\n\nWARNING:matplotlib.font_manager:findfont: Font family 'NanumBarunGothic' not found.\n\nWARNING:matplotlib.font_manager:findfont: Font family 'NanumBarunGothic' not found.\n\nWARNING:matplotlib.font_manager:findfont: Font family 'NanumBarunGothic' not found.\n\nWARNING:matplotlib.font_manager:findfont: Font family 'NanumBarunGothic' not found.\n\nWARNING:matplotlib.font_manager:findfont: Font family 'NanumBarunGothic' not found.\n\nWARNING:matplotlib.font_manager:findfont: Font family 'NanumBarunGothic' not found.\n\nWARNING:matplotlib.font_manager:findfont: Font family 'NanumBarunGothic' not found.\n\nWARNING:matplotlib.font_manager:findfont: Font family 'NanumBarunGothic' not found.\n\nWARNING:matplotlib.font_manager:findfont: Font family 'NanumBarunGothic' not found.\n\nWARNING:matplotlib.font_manager:findfont: Font family 'NanumBarunGothic' not found.\n\nWARNING:matplotlib.font_manager:findfont: Font family 'NanumBarunGothic' not found.\n\nWARNING:matplotlib.font_manager:findfont: Font family 'NanumBarunGothic' not found.\n\nWARNING:matplotlib.font_manager:findfont: Font family 'NanumBarunGothic' not found.\n\nWARNING:matplotlib.font_manager:findfont: Font family 'NanumBarunGothic' not found.\n\nWARNING:matplotlib.font_manager:findfont: Font family 'NanumBarunGothic' not found.\n\nWARNING:matplotlib.font_manager:findfont: Font family 'NanumBarunGothic' not found.\n\nWARNING:matplotlib.font_manager:findfont: Font family 'NanumBarunGothic' not found.\n\nWARNING:matplotlib.font_manager:findfont: Font family 'NanumBarunGothic' not found.\n\nWARNING:matplotlib.font_manager:findfont: Font family 'NanumBarunGothic' not found.\n\nWARNING:matplotlib.font_manager:findfont: Font family 'NanumBarunGothic' not found.\n\nWARNING:matplotlib.font_manager:findfont: Font family 'NanumBarunGothic' not found.\n\nWARNING:matplotlib.font_manager:findfont: Font family 'NanumBarunGothic' not found.\n\nWARNING:matplotlib.font_manager:findfont: Font family 'NanumBarunGothic' not found.\n\nWARNING:matplotlib.font_manager:findfont: Font family 'NanumBarunGothic' not found.\n\nWARNING:matplotlib.font_manager:findfont: Font family 'NanumBarunGothic' not found.\n\nWARNING:matplotlib.font_manager:findfont: Font family 'NanumBarunGothic' not found.\n\nWARNING:matplotlib.font_manager:findfont: Font family 'NanumBarunGothic' not found.\n\nWARNING:matplotlib.font_manager:findfont: Font family 'NanumBarunGothic' not found.\n\nWARNING:matplotlib.font_manager:findfont: Font family 'NanumBarunGothic' not found.\n\nWARNING:matplotlib.font_manager:findfont: Font family 'NanumBarunGothic' not found.\n\nWARNING:matplotlib.font_manager:findfont: Font family 'NanumBarunGothic' not found.\n\nWARNING:matplotlib.font_manager:findfont: Font family 'NanumBarunGothic' not found.\n\nWARNING:matplotlib.font_manager:findfont: Font family 'NanumBarunGothic' not found.\n\nWARNING:matplotlib.font_manager:findfont: Font family 'NanumBarunGothic' not found.\n\nWARNING:matplotlib.font_manager:findfont: Font family 'NanumBarunGothic' not found.\n\nWARNING:matplotlib.font_manager:findfont: Font family 'NanumBarunGothic' not found.\n\nWARNING:matplotlib.font_manager:findfont: Font family 'NanumBarunGothic' not found.\n\nWARNING:matplotlib.font_manager:findfont: Font family 'NanumBarunGothic' not found.\n\nWARNING:matplotlib.font_manager:findfont: Font family 'NanumBarunGothic' not found.\n\nWARNING:matplotlib.font_manager:findfont: Font family 'NanumBarunGothic' not found.\n\nWARNING:matplotlib.font_manager:findfont: Font family 'NanumBarunGothic' not found.\n\nWARNING:matplotlib.font_manager:findfont: Font family 'NanumBarunGothic' not found.\n\nWARNING:matplotlib.font_manager:findfont: Font family 'NanumBarunGothic' not found.\n\nWARNING:matplotlib.font_manager:findfont: Font family 'NanumBarunGothic' not found.\n\nWARNING:matplotlib.font_manager:findfont: Font family 'NanumBarunGothic' not found.\n\nWARNING:matplotlib.font_manager:findfont: Font family 'NanumBarunGothic' not found.\n\nWARNING:matplotlib.font_manager:findfont: Font family 'NanumBarunGothic' not found.\n\nWARNING:matplotlib.font_manager:findfont: Font family 'NanumBarunGothic' not found.\n\nWARNING:matplotlib.font_manager:findfont: Font family 'NanumBarunGothic' not found.\n\nWARNING:matplotlib.font_manager:findfont: Font family 'NanumBarunGothic' not found.\n"
        },
        {
          "output_type": "display_data",
          "data": {
            "text/plain": [
              "<Figure size 1000x600 with 1 Axes>"
            ],
            "image/png": "[encoded data removed]"
          },
          "metadata": {}
        }
      ]
    },
    {
      "cell_type": "code",
      "source": [],
      "metadata": {
        "id": "Uq7uNFldH9jF"
      },
      "execution_count": null,
      "outputs": []
    },
    {
      "cell_type": "code",
      "source": [
        "# import matplotlib.pyplot as plt\n",
        "# from sklearn.decomposition import PCA\n",
        "\n",
        "# # PCA를 사용하여 2차원으로 축소\n",
        "# pca = PCA(n_components=2)\n",
        "# pca_components = pca.fit_transform(scaled_data)\n",
        "\n",
        "# # 클러스터링 결과 시각화\n",
        "# plt.figure(figsize=(8, 6))\n",
        "# plt.scatter(pca_components[:, 0], pca_components[:, 1], c=df['Cluster'], cmap='viridis', s=50)\n",
        "# plt.xlabel('PCA Component 1')\n",
        "# plt.ylabel('PCA Component 2')\n",
        "# plt.title('K-Means Clustering Result (PCA)')\n",
        "# plt.colorbar(label='Cluster')\n",
        "# plt.show()\n"
      ],
      "metadata": {
        "id": "4OLLgWNO44HS",
        "outputId": "c41e4d48-4c4a-44d2-d4b9-0ac922de1243"
      },
      "execution_count": null,
      "outputs": [
        {
          "name": "stderr",
          "output_type": "stream",
          "text": "findfont: Font family 'NanumBarunGothic' not found.\n\nfindfont: Font family 'NanumBarunGothic' not found.\n\nfindfont: Font family 'NanumBarunGothic' not found.\n\nfindfont: Font family 'NanumBarunGothic' not found.\n\nfindfont: Font family 'NanumBarunGothic' not found.\n\nfindfont: Font family 'NanumBarunGothic' not found.\n\nfindfont: Font family 'NanumBarunGothic' not found.\n\nfindfont: Font family 'NanumBarunGothic' not found.\n\nfindfont: Font family 'NanumBarunGothic' not found.\n\nfindfont: Font family 'NanumBarunGothic' not found.\n\nfindfont: Font family 'NanumBarunGothic' not found.\n\nfindfont: Font family 'NanumBarunGothic' not found.\n\nfindfont: Font family 'NanumBarunGothic' not found.\n\nfindfont: Font family 'NanumBarunGothic' not found.\n\nfindfont: Font family 'NanumBarunGothic' not found.\n\nfindfont: Font family 'NanumBarunGothic' not found.\n\nfindfont: Font family 'NanumBarunGothic' not found.\n\nfindfont: Font family 'NanumBarunGothic' not found.\n\nfindfont: Font family 'NanumBarunGothic' not found.\n\nfindfont: Font family 'NanumBarunGothic' not found.\n\nfindfont: Font family 'NanumBarunGothic' not found.\n\nfindfont: Font family 'NanumBarunGothic' not found.\n\nfindfont: Font family 'NanumBarunGothic' not found.\n\nfindfont: Font family 'NanumBarunGothic' not found.\n\nfindfont: Font family 'NanumBarunGothic' not found.\n\nfindfont: Font family 'NanumBarunGothic' not found.\n\nfindfont: Font family 'NanumBarunGothic' not found.\n\nfindfont: Font family 'NanumBarunGothic' not found.\n\nfindfont: Font family 'NanumBarunGothic' not found.\n\nfindfont: Font family 'NanumBarunGothic' not found.\n\nfindfont: Font family 'NanumBarunGothic' not found.\n\nfindfont: Font family 'NanumBarunGothic' not found.\n\nfindfont: Font family 'NanumBarunGothic' not found.\n\nfindfont: Font family 'NanumBarunGothic' not found.\n\nfindfont: Font family 'NanumBarunGothic' not found.\n\nfindfont: Font family 'NanumBarunGothic' not found.\n\nfindfont: Font family 'NanumBarunGothic' not found.\n\nfindfont: Font family 'NanumBarunGothic' not found.\n\nfindfont: Font family 'NanumBarunGothic' not found.\n\nfindfont: Font family 'NanumBarunGothic' not found.\n\nfindfont: Font family 'NanumBarunGothic' not found.\n\nfindfont: Font family 'NanumBarunGothic' not found.\n\nfindfont: Font family 'NanumBarunGothic' not found.\n\nfindfont: Font family 'NanumBarunGothic' not found.\n\nfindfont: Font family 'NanumBarunGothic' not found.\n\nfindfont: Font family 'NanumBarunGothic' not found.\n\nfindfont: Font family 'NanumBarunGothic' not found.\n\nfindfont: Font family 'NanumBarunGothic' not found.\n\nfindfont: Font family 'NanumBarunGothic' not found.\n\nfindfont: Font family 'NanumBarunGothic' not found.\n\nfindfont: Font family 'NanumBarunGothic' not found.\n\nfindfont: Font family 'NanumBarunGothic' not found.\n\nfindfont: Font family 'NanumBarunGothic' not found.\n\nfindfont: Font family 'NanumBarunGothic' not found.\n\nfindfont: Font family 'NanumBarunGothic' not found.\n\nfindfont: Font family 'NanumBarunGothic' not found.\n\nfindfont: Font family 'NanumBarunGothic' not found.\n\nfindfont: Font family 'NanumBarunGothic' not found.\n\nfindfont: Font family 'NanumBarunGothic' not found.\n\nfindfont: Font family 'NanumBarunGothic' not found.\n\nfindfont: Font family 'NanumBarunGothic' not found.\n\nfindfont: Font family 'NanumBarunGothic' not found.\n\nfindfont: Font family 'NanumBarunGothic' not found.\n\nfindfont: Font family 'NanumBarunGothic' not found.\n\nfindfont: Font family 'NanumBarunGothic' not found.\n\nfindfont: Font family 'NanumBarunGothic' not found.\n\nfindfont: Font family 'NanumBarunGothic' not found.\n\nfindfont: Font family 'NanumBarunGothic' not found.\n\nfindfont: Font family 'NanumBarunGothic' not found.\n\nfindfont: Font family 'NanumBarunGothic' not found.\n\nfindfont: Font family 'NanumBarunGothic' not found.\n\nfindfont: Font family 'NanumBarunGothic' not found.\n\nfindfont: Font family 'NanumBarunGothic' not found.\n\nfindfont: Font family 'NanumBarunGothic' not found.\n\nfindfont: Font family 'NanumBarunGothic' not found.\n"
        },
        {
          "output_type": "display_data",
          "data": {
            "image/png": "[encoded data removed]",
            "text/plain": [
              "<Figure size 800x600 with 2 Axes>"
            ]
          },
          "metadata": {}
        }
      ]
    },
    {
      "cell_type": "markdown",
      "source": [
        "***여기부터 삭제해도 됨. 심대희가 한 거임***\n",
        "\n",
        "* 목표: 클러스터링 그룹0을 날짜별로 들어온 customer 수를 확인해보기"
      ],
      "metadata": {
        "id": "5SY_dndS-LEW"
      }
    },
    {
      "cell_type": "code",
      "source": [],
      "metadata": {
        "id": "tiCfCTZllZS6",
        "execution": {
          "iopub.status.busy": "2024-10-05T11:21:47.981317Z",
          "iopub.execute_input": "2024-10-05T11:21:47.981776Z",
          "iopub.status.idle": "2024-10-05T11:21:48.273734Z",
          "shell.execute_reply.started": "2024-10-05T11:21:47.981726Z",
          "shell.execute_reply": "2024-10-05T11:21:48.272265Z"
        },
        "trusted": true,
        "outputId": "453f588b-3e8c-4a68-9aa7-71edfb758306"
      },
      "execution_count": null,
      "outputs": [
        {
          "traceback": [
            "\u001b[0;31m---------------------------------------------------------------------------\u001b[0m",
            "\u001b[0;31mNameError\u001b[0m                                 Traceback (most recent call last)",
            "Cell \u001b[0;32mIn[1], line 1\u001b[0m\n\u001b[0;32m----> 1\u001b[0m \u001b[43mfinal_cluster_0\u001b[49m\n",
            "\u001b[0;31mNameError\u001b[0m: name 'final_cluster_0' is not defined"
          ],
          "ename": "NameError",
          "evalue": "name 'final_cluster_0' is not defined",
          "output_type": "error"
        }
      ]
    },
    {
      "cell_type": "markdown",
      "source": [],
      "metadata": {
        "id": "f2M-lw9g44HS"
      }
    }
  ]
}